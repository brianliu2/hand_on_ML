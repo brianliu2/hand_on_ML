{
 "cells": [
  {
   "cell_type": "code",
   "execution_count": 1,
   "metadata": {
    "collapsed": true
   },
   "outputs": [],
   "source": [
    "import numpy as np\n",
    "import tensorflow as tf\n",
    "import matplotlib.pyplot as plt\n",
    "%matplotlib inline\n",
    "\n",
    "plt.rcParams['axes.labelsize'] = 14\n",
    "plt.rcParams['xtick.labelsize'] = 14\n",
    "plt.rcParams['ytick.labelsize'] = 14\n",
    "plt.rcParams['legend.fontsize'] = 14"
   ]
  },
  {
   "cell_type": "code",
   "execution_count": 73,
   "metadata": {
    "collapsed": true
   },
   "outputs": [],
   "source": [
    "import warnings\n",
    "warnings.filterwarnings('ignore')"
   ]
  },
  {
   "cell_type": "code",
   "execution_count": 2,
   "metadata": {
    "collapsed": true
   },
   "outputs": [],
   "source": [
    "def reset_graph():\n",
    "    tf.reset_default_graph()\n",
    "    tf.set_random_seed(42)\n",
    "    np.random.seed(42)"
   ]
  },
  {
   "cell_type": "markdown",
   "metadata": {},
   "source": [
    "# Perceptrons"
   ]
  },
  {
   "cell_type": "code",
   "execution_count": 3,
   "metadata": {
    "collapsed": true
   },
   "outputs": [],
   "source": [
    "from sklearn.datasets import load_iris"
   ]
  },
  {
   "cell_type": "code",
   "execution_count": 4,
   "metadata": {
    "collapsed": true
   },
   "outputs": [],
   "source": [
    "iris = load_iris()"
   ]
  },
  {
   "cell_type": "code",
   "execution_count": 5,
   "metadata": {},
   "outputs": [
    {
     "data": {
      "text/plain": [
       "dict_keys(['target_names', 'DESCR', 'data', 'feature_names', 'target'])"
      ]
     },
     "execution_count": 5,
     "metadata": {},
     "output_type": "execute_result"
    }
   ],
   "source": [
    "iris.keys()"
   ]
  },
  {
   "cell_type": "code",
   "execution_count": 6,
   "metadata": {
    "collapsed": true
   },
   "outputs": [],
   "source": [
    "X = iris['data']\n",
    "y = iris['target']"
   ]
  },
  {
   "cell_type": "code",
   "execution_count": 7,
   "metadata": {
    "collapsed": true
   },
   "outputs": [],
   "source": [
    "# only use two attributes: petal length, petal width\n",
    "X = X[:, (2, 3)]"
   ]
  },
  {
   "cell_type": "code",
   "execution_count": 8,
   "metadata": {
    "collapsed": true
   },
   "outputs": [],
   "source": [
    "# turn the problem to a binary classification problem\n",
    "y = (y == 0).astype(np.int)"
   ]
  },
  {
   "cell_type": "markdown",
   "metadata": {},
   "source": [
    "Use Perceptron model from sklearn\n",
    "\n",
    "Scikit-Learn’s Perceptron class is equivalent to using an SGDClassifier with the\n",
    "following hyperparameters: loss=\"perceptron\", learning_rate=\"constant\", eta0=1 (the learning\n",
    "rate), and penalty=None (no regularization).\n",
    "\n",
    "1. Logistic regression classifier: output is a class probability\n",
    "2. Perceptron classifier: output is a specific class by placing a hard threshold\n",
    "\n",
    "Note that contrary to Logistic Regression classifiers, Perceptrons do not output a class probability; rather,\n",
    "they just make predictions based on a hard threshold. This is one of the good reasons to prefer Logistic\n",
    "Regression over Perceptrons."
   ]
  },
  {
   "cell_type": "code",
   "execution_count": 9,
   "metadata": {
    "collapsed": true
   },
   "outputs": [],
   "source": [
    "from sklearn.linear_model import Perceptron"
   ]
  },
  {
   "cell_type": "code",
   "execution_count": 10,
   "metadata": {},
   "outputs": [
    {
     "data": {
      "text/plain": [
       "Perceptron(alpha=0.0001, class_weight=None, eta0=1.0, fit_intercept=True,\n",
       "      n_iter=5, n_jobs=1, penalty=None, random_state=42, shuffle=True,\n",
       "      verbose=0, warm_start=False)"
      ]
     },
     "execution_count": 10,
     "metadata": {},
     "output_type": "execute_result"
    }
   ],
   "source": [
    "perceptron = Perceptron(random_state=42)\n",
    "perceptron.fit(X, y)"
   ]
  },
  {
   "cell_type": "code",
   "execution_count": 11,
   "metadata": {},
   "outputs": [
    {
     "data": {
      "text/plain": [
       "array([0])"
      ]
     },
     "execution_count": 11,
     "metadata": {},
     "output_type": "execute_result"
    }
   ],
   "source": [
    "y_pred = perceptron.predict([[2, 1.5]])\n",
    "y_pred"
   ]
  },
  {
   "cell_type": "code",
   "execution_count": 12,
   "metadata": {},
   "outputs": [
    {
     "data": {
      "text/plain": [
       "array([[-1.1, -1.3]])"
      ]
     },
     "execution_count": 12,
     "metadata": {},
     "output_type": "execute_result"
    }
   ],
   "source": [
    "perceptron.coef_"
   ]
  },
  {
   "cell_type": "markdown",
   "metadata": {},
   "source": [
    "Draw the decision boundary of using estimated perceptron coefficients"
   ]
  },
  {
   "cell_type": "code",
   "execution_count": 13,
   "metadata": {
    "collapsed": true
   },
   "outputs": [],
   "source": [
    "x1_range = [0, 4]\n",
    "x2_range = [0, 8]"
   ]
  },
  {
   "cell_type": "code",
   "execution_count": 14,
   "metadata": {
    "collapsed": true
   },
   "outputs": [],
   "source": [
    "x1_s = np.linspace(x1_range[0], x2_range[1], num = 200).reshape(-1, 1)\n",
    "x2_s = np.linspace(x2_range[0], x2_range[1], num = 200).reshape(-1, 1)"
   ]
  },
  {
   "cell_type": "code",
   "execution_count": 15,
   "metadata": {
    "collapsed": true
   },
   "outputs": [],
   "source": [
    "X1_mesh, X2_mesh = np.meshgrid(x1_s, x2_s)"
   ]
  },
  {
   "cell_type": "markdown",
   "metadata": {},
   "source": [
    "1. flaten X1_mesh and X2_mesh from [200, 200] to [40000, 1] using ravel()\n",
    "2. concatenate flaten X1 and X2"
   ]
  },
  {
   "cell_type": "code",
   "execution_count": 16,
   "metadata": {
    "collapsed": true
   },
   "outputs": [],
   "source": [
    "X_new = np.c_[X1_mesh.ravel(), X2_mesh.ravel()]"
   ]
  },
  {
   "cell_type": "markdown",
   "metadata": {},
   "source": [
    "1. make predictions (40000, 1) using Perceptron built associated with X_new: (40000, 2)\n",
    "2. reshape predictions make it has the same shape as X1_mesh"
   ]
  },
  {
   "cell_type": "code",
   "execution_count": 17,
   "metadata": {},
   "outputs": [
    {
     "data": {
      "text/plain": [
       "(40000,)"
      ]
     },
     "execution_count": 17,
     "metadata": {},
     "output_type": "execute_result"
    }
   ],
   "source": [
    "y_pred = perceptron.predict(X_new)\n",
    "y_pred.shape"
   ]
  },
  {
   "cell_type": "code",
   "execution_count": 18,
   "metadata": {},
   "outputs": [
    {
     "data": {
      "text/plain": [
       "(200, 200)"
      ]
     },
     "execution_count": 18,
     "metadata": {},
     "output_type": "execute_result"
    }
   ],
   "source": [
    "z = y_pred.reshape(X1_mesh.shape)\n",
    "z.shape"
   ]
  },
  {
   "cell_type": "code",
   "execution_count": 19,
   "metadata": {},
   "outputs": [
    {
     "data": {
      "image/png": "[encoded data removed]",
      "text/plain": [
       "<matplotlib.figure.Figure at 0xd76e198>"
      ]
     },
     "metadata": {},
     "output_type": "display_data"
    }
   ],
   "source": [
    "plt.figure(figsize=(10, 4))\n",
    "plt.plot(X[y==0, 0], X[y==0, 1], \"bs\", label=\"Not Iris-Setosa\")\n",
    "plt.plot(X[y==1, 0], X[y==1, 1], \"yo\", label=\"Iris-Setosa\")\n",
    "\n",
    "from matplotlib.colors import ListedColormap\n",
    "custom_cmap = ListedColormap(['#9898ff', '#fafab0'])\n",
    "\n",
    "plt.contourf(X1_mesh, X2_mesh, z, cmap=custom_cmap, linewidth=5)\n",
    "plt.xlabel(\"Petal length\", fontsize=14)\n",
    "plt.ylabel(\"Petal width\", fontsize=14)\n",
    "\n",
    "\n",
    "# --- plot the perceptron line\n",
    "a = -perceptron.coef_[0][0] / perceptron.coef_[0][1]\n",
    "b = -perceptron.intercept_ / perceptron.coef_[0][1]\n",
    "plt.plot([x1_range[0], x1_range[1]], [a * x1_range[0] + b, a * x1_range[1] + b], \"k-\", linewidth=3, label='perceptron')\n",
    "\n",
    "plt.legend(loc=\"lower right\", fontsize=14)\n",
    "plt.xlim([0, 5])\n",
    "plt.ylim([0, 2]);"
   ]
  },
  {
   "cell_type": "markdown",
   "metadata": {},
   "source": [
    "## Activation functions"
   ]
  },
  {
   "cell_type": "code",
   "execution_count": 20,
   "metadata": {
    "collapsed": true
   },
   "outputs": [],
   "source": [
    "def relu(x):\n",
    "    return np.maximum(0, x)"
   ]
  },
  {
   "cell_type": "code",
   "execution_count": 21,
   "metadata": {
    "collapsed": true
   },
   "outputs": [],
   "source": [
    "def sigmoid(x):\n",
    "    z = 1 / (1 + np.exp(-x))\n",
    "    return z"
   ]
  },
  {
   "cell_type": "markdown",
   "metadata": {},
   "source": [
    "To ensure the gradient calculated analytically is correct, we use the numerical solution as a sanity check"
   ]
  },
  {
   "cell_type": "code",
   "execution_count": 22,
   "metadata": {
    "collapsed": true
   },
   "outputs": [],
   "source": [
    "def derivative(f, x, eps=0.000001):\n",
    "    return (f(x + eps) - f(x - eps))/(2 * eps)"
   ]
  },
  {
   "cell_type": "code",
   "execution_count": 23,
   "metadata": {
    "collapsed": true
   },
   "outputs": [],
   "source": [
    "x = np.linspace(-5, 5, 200)"
   ]
  },
  {
   "cell_type": "code",
   "execution_count": 24,
   "metadata": {
    "collapsed": true
   },
   "outputs": [],
   "source": [
    "z_relu = [relu(val) for val in x]\n",
    "z_sigmoid = [sigmoid(val) for val in x]"
   ]
  },
  {
   "cell_type": "code",
   "execution_count": 25,
   "metadata": {},
   "outputs": [
    {
     "data": {
      "image/png": "[encoded data removed]",
      "text/plain": [
       "<matplotlib.figure.Figure at 0xdbdf828>"
      ]
     },
     "metadata": {},
     "output_type": "display_data"
    }
   ],
   "source": [
    "plt.figure(figsize=(11,4))\n",
    "\n",
    "plt.subplot(121)\n",
    "plt.plot(x, z_relu, 'b-', label='relu', linewidth = 3)\n",
    "plt.plot(x, np.sign(x), 'r-', label='step', linewidth = 3)\n",
    "plt.plot(x, z_sigmoid,'g--', label='sigmoid', linewidth = 3)\n",
    "plt.plot(x, np.tanh(x), 'm-', label='tanh', linewidth = 3)\n",
    "plt.grid(True)\n",
    "plt.legend(loc='best')\n",
    "plt.title('activation')\n",
    "plt.xlim([-5, 5]);\n",
    "plt.ylim([-1.1, 5]);\n",
    "\n",
    "plt.subplot(122)\n",
    "plt.plot(x, derivative(relu, x), 'b-', label='relu', linewidth = 3)\n",
    "plt.plot(x, derivative(np.sign, x), 'r-', label='step', linewidth = 3)\n",
    "plt.plot(x, derivative(sigmoid, x),'g--', label='sigmoid', linewidth = 3)\n",
    "plt.plot(x, derivative(np.tanh, x), 'm-', label='tanh', linewidth = 3)\n",
    "plt.grid(True)\n",
    "plt.title('derivative')\n",
    "plt.legend(loc='best')\n",
    "plt.xlim([-5, 5]);\n",
    "plt.ylim([-0.1, 1.2]);"
   ]
  },
  {
   "cell_type": "markdown",
   "metadata": {},
   "source": [
    "The implementation of producing Figure.10-6 in book. The bias for first layer are [-1.5, -0.5] and weights are [1, 1], and the bias for the second layer is -0.5 and weights are [-1, 1]."
   ]
  },
  {
   "cell_type": "code",
   "execution_count": 26,
   "metadata": {
    "collapsed": true
   },
   "outputs": [],
   "source": [
    "def mlp_xor(x1, x2, activationFcn):\n",
    "    z1 = activationFcn(-1.5 + x1 + x2)\n",
    "    z2 = activationFcn(-0.5 + x1 + x2)\n",
    "    z_in = -0.5 + (-1) * z1 + (1) * z2\n",
    "    z_out = activationFcn(z_in)\n",
    "    return z_out"
   ]
  },
  {
   "cell_type": "code",
   "execution_count": 27,
   "metadata": {
    "collapsed": true
   },
   "outputs": [],
   "source": [
    "def heavisize(x):\n",
    "    return (x >= 0).astype(x.dtype)"
   ]
  },
  {
   "cell_type": "code",
   "execution_count": 28,
   "metadata": {
    "collapsed": true
   },
   "outputs": [],
   "source": [
    "x1s = np.linspace(-0.2, 1.2, 100)\n",
    "x2s = np.linspace(-0.2, 1.2, 100)\n",
    "x1, x2 = np.meshgrid(x1s, x2s)\n",
    "\n",
    "z1 = mlp_xor(x1, x2, relu)\n",
    "z2 = mlp_xor(x1, x2, sigmoid)\n",
    "z3 = mlp_xor(x1, x2, heavisize)\n",
    "z4 = mlp_xor(x1, x2, np.tanh)"
   ]
  },
  {
   "cell_type": "code",
   "execution_count": 29,
   "metadata": {},
   "outputs": [
    {
     "data": {
      "image/png": "[encoded data removed]",
      "text/plain": [
       "<matplotlib.figure.Figure at 0xdb6a748>"
      ]
     },
     "metadata": {},
     "output_type": "display_data"
    }
   ],
   "source": [
    "plt.figure(figsize=(10, 8));\n",
    "plt.subplot(221)\n",
    "plt.plot([0, 1], [0, 1], \"gs\", markersize=20)\n",
    "plt.plot([0, 1], [1, 0], \"y^\", markersize=20)\n",
    "plt.title(\"Activation function: relu\", fontsize=14)\n",
    "plt.grid(True)\n",
    "plt.contourf(x1,x2,z1);\n",
    "\n",
    "plt.subplot(222)\n",
    "plt.plot([0, 1], [0, 1], \"gs\", markersize=20)\n",
    "plt.plot([0, 1], [1, 0], \"y^\", markersize=20)\n",
    "plt.title(\"Activation function: sigmoid\", fontsize=14)\n",
    "plt.grid(True)\n",
    "plt.contourf(x1,x2,z2);\n",
    "\n",
    "plt.subplot(223)\n",
    "plt.plot([0, 1], [0, 1], \"gs\", markersize=20)\n",
    "plt.plot([0, 1], [1, 0], \"y^\", markersize=20)\n",
    "plt.title(\"Activation function: heaviside\", fontsize=14)\n",
    "plt.grid(True)\n",
    "plt.contourf(x1,x2,z3);\n",
    "\n",
    "plt.subplot(224)\n",
    "plt.plot([0, 1], [0, 1], \"gs\", markersize=20)\n",
    "plt.plot([0, 1], [1, 0], \"y^\", markersize=20)\n",
    "plt.title(\"Activation function: tanh\", fontsize=14)\n",
    "plt.grid(True)\n",
    "plt.contourf(x1,x2,z4);"
   ]
  },
  {
   "cell_type": "markdown",
   "metadata": {},
   "source": [
    "# feedforward neural network for MNIST\n",
    "\n",
    "## tf implementation"
   ]
  },
  {
   "cell_type": "code",
   "execution_count": 30,
   "metadata": {},
   "outputs": [
    {
     "name": "stdout",
     "output_type": "stream",
     "text": [
      "Extracting ./data/train-images-idx3-ubyte.gz\n",
      "Extracting ./data/train-labels-idx1-ubyte.gz\n",
      "Extracting ./data/t10k-images-idx3-ubyte.gz\n",
      "Extracting ./data/t10k-labels-idx1-ubyte.gz\n"
     ]
    }
   ],
   "source": [
    "from tensorflow.examples.tutorials.mnist import input_data\n",
    "\n",
    "mnist = input_data.read_data_sets(\"./data/\")"
   ]
  },
  {
   "cell_type": "code",
   "execution_count": 40,
   "metadata": {
    "collapsed": true
   },
   "outputs": [],
   "source": [
    "X_train = mnist.train.images\n",
    "X_test  = mnist.test.images\n",
    "y_train = mnist.train.labels.astype(np.int)\n",
    "y_test  = mnist.test.labels.astype(np.int)"
   ]
  },
  {
   "cell_type": "markdown",
   "metadata": {},
   "source": [
    "configure tf to set random_seed"
   ]
  },
  {
   "cell_type": "code",
   "execution_count": 41,
   "metadata": {
    "collapsed": true
   },
   "outputs": [],
   "source": [
    "config = tf.contrib.learn.RunConfig(tf_random_seed=42)"
   ]
  },
  {
   "cell_type": "code",
   "execution_count": 42,
   "metadata": {
    "collapsed": true
   },
   "outputs": [],
   "source": [
    "feature_cols = tf.contrib.learn.infer_real_valued_columns_from_input(X_train)"
   ]
  },
  {
   "cell_type": "code",
   "execution_count": 61,
   "metadata": {},
   "outputs": [
    {
     "name": "stdout",
     "output_type": "stream",
     "text": [
      "WARNING:tensorflow:Using temporary folder as model directory: C:\\Users\\xinliu\\AppData\\Local\\Temp\\tmpcwyvyj6p\n",
      "INFO:tensorflow:Using config: {'_environment': 'local', '_session_config': None, '_master': '', '_task_id': 0, '_cluster_spec': <tensorflow.python.training.server_lib.ClusterSpec object at 0x0000000011DE08D0>, '_save_checkpoints_steps': None, '_is_chief': True, '_num_ps_replicas': 0, '_tf_config': gpu_options {\n",
      "  per_process_gpu_memory_fraction: 1\n",
      "}\n",
      ", '_model_dir': 'C:\\\\Users\\\\xinliu\\\\AppData\\\\Local\\\\Temp\\\\tmpcwyvyj6p', '_num_worker_replicas': 0, '_keep_checkpoint_every_n_hours': 10000, '_keep_checkpoint_max': 5, '_task_type': None, '_tf_random_seed': 42, '_save_checkpoints_secs': 600, '_save_summary_steps': 100, '_evaluation_master': ''}\n"
     ]
    }
   ],
   "source": [
    "dnn_clf = tf.contrib.learn.DNNClassifier(hidden_units = [300, 100], n_classes = 10, \\\n",
    "                                         feature_columns = feature_cols, config=config)"
   ]
  },
  {
   "cell_type": "code",
   "execution_count": 62,
   "metadata": {
    "collapsed": true
   },
   "outputs": [],
   "source": [
    "# Scikit learn wrapper for TensorFlow Learn Estimator.\n",
    "dnn_clf = tf.contrib.learn.SKCompat(dnn_clf)"
   ]
  },
  {
   "cell_type": "code",
   "execution_count": 63,
   "metadata": {},
   "outputs": [
    {
     "name": "stdout",
     "output_type": "stream",
     "text": [
      "WARNING:tensorflow:From C:\\Users\\xinliu\\AppData\\Local\\Continuum\\Anaconda3\\lib\\site-packages\\tensorflow\\contrib\\learn\\python\\learn\\estimators\\head.py:625: scalar_summary (from tensorflow.python.ops.logging_ops) is deprecated and will be removed after 2016-11-30.\n",
      "Instructions for updating:\n",
      "Please switch to tf.summary.scalar. Note that tf.summary.scalar uses the node name instead of the tag. This means that TensorFlow will automatically de-duplicate summary names based on the scope they are created in. Also, passing a tensor or list of tags to a scalar summary op is no longer supported.\n",
      "INFO:tensorflow:Create CheckpointSaverHook.\n",
      "INFO:tensorflow:Saving checkpoints for 1 into C:\\Users\\xinliu\\AppData\\Local\\Temp\\tmpcwyvyj6p\\model.ckpt.\n",
      "INFO:tensorflow:step = 1, loss = 2.36404\n",
      "INFO:tensorflow:global_step/sec: 460.396\n",
      "INFO:tensorflow:step = 101, loss = 0.311432 (0.217 sec)\n",
      "INFO:tensorflow:global_step/sec: 460.396\n",
      "INFO:tensorflow:step = 201, loss = 0.265409 (0.217 sec)\n",
      "INFO:tensorflow:global_step/sec: 462.526\n",
      "INFO:tensorflow:step = 301, loss = 0.408733 (0.232 sec)\n",
      "INFO:tensorflow:global_step/sec: 456.195\n",
      "INFO:tensorflow:step = 401, loss = 0.244357 (0.204 sec)\n",
      "INFO:tensorflow:global_step/sec: 449.224\n",
      "INFO:tensorflow:step = 501, loss = 0.238858 (0.223 sec)\n",
      "INFO:tensorflow:global_step/sec: 477.088\n",
      "INFO:tensorflow:step = 601, loss = 0.091827 (0.210 sec)\n",
      "INFO:tensorflow:global_step/sec: 460.814\n",
      "INFO:tensorflow:step = 701, loss = 0.123374 (0.217 sec)\n",
      "INFO:tensorflow:global_step/sec: 460.814\n",
      "INFO:tensorflow:step = 801, loss = 0.196473 (0.217 sec)\n",
      "INFO:tensorflow:global_step/sec: 498.985\n",
      "INFO:tensorflow:step = 901, loss = 0.0932024 (0.216 sec)\n",
      "INFO:tensorflow:global_step/sec: 450.435\n",
      "INFO:tensorflow:step = 1001, loss = 0.196834 (0.206 sec)\n",
      "INFO:tensorflow:global_step/sec: 473.919\n",
      "INFO:tensorflow:step = 1101, loss = 0.194408 (0.211 sec)\n",
      "INFO:tensorflow:global_step/sec: 431.766\n",
      "INFO:tensorflow:step = 1201, loss = 0.152048 (0.232 sec)\n",
      "INFO:tensorflow:global_step/sec: 461.669\n",
      "INFO:tensorflow:step = 1301, loss = 0.149761 (0.217 sec)\n",
      "INFO:tensorflow:global_step/sec: 428.779\n",
      "INFO:tensorflow:step = 1401, loss = 0.0647763 (0.233 sec)\n",
      "INFO:tensorflow:global_step/sec: 432.489\n",
      "INFO:tensorflow:step = 1501, loss = 0.0727728 (0.238 sec)\n",
      "INFO:tensorflow:global_step/sec: 362.292\n",
      "INFO:tensorflow:step = 1601, loss = 0.120371 (0.269 sec)\n",
      "INFO:tensorflow:global_step/sec: 470.791\n",
      "INFO:tensorflow:step = 1701, loss = 0.0426907 (0.212 sec)\n",
      "INFO:tensorflow:global_step/sec: 464.644\n",
      "INFO:tensorflow:step = 1801, loss = 0.148324 (0.219 sec)\n",
      "INFO:tensorflow:global_step/sec: 359.167\n",
      "INFO:tensorflow:step = 1901, loss = 0.073107 (0.274 sec)\n",
      "INFO:tensorflow:global_step/sec: 484.478\n",
      "INFO:tensorflow:step = 2001, loss = 0.0638611 (0.206 sec)\n",
      "INFO:tensorflow:global_step/sec: 462.948\n",
      "INFO:tensorflow:step = 2101, loss = 0.0233887 (0.216 sec)\n",
      "INFO:tensorflow:global_step/sec: 495.519\n",
      "INFO:tensorflow:step = 2201, loss = 0.0329285 (0.217 sec)\n",
      "INFO:tensorflow:global_step/sec: 462.948\n",
      "INFO:tensorflow:step = 2301, loss = 0.0519914 (0.216 sec)\n",
      "INFO:tensorflow:global_step/sec: 462.948\n",
      "INFO:tensorflow:step = 2401, loss = 0.0577268 (0.200 sec)\n",
      "INFO:tensorflow:global_step/sec: 487.773\n",
      "INFO:tensorflow:step = 2501, loss = 0.084227 (0.205 sec)\n",
      "INFO:tensorflow:global_step/sec: 424.422\n",
      "INFO:tensorflow:step = 2601, loss = 0.0315869 (0.237 sec)\n",
      "INFO:tensorflow:global_step/sec: 461.218\n",
      "INFO:tensorflow:step = 2701, loss = 0.0121763 (0.220 sec)\n",
      "INFO:tensorflow:global_step/sec: 407.14\n",
      "INFO:tensorflow:step = 2801, loss = 0.0630663 (0.242 sec)\n",
      "INFO:tensorflow:global_step/sec: 486.82\n",
      "INFO:tensorflow:step = 2901, loss = 0.0913481 (0.221 sec)\n",
      "INFO:tensorflow:global_step/sec: 463.371\n",
      "INFO:tensorflow:step = 3001, loss = 0.0138151 (0.216 sec)\n",
      "INFO:tensorflow:global_step/sec: 460.381\n",
      "INFO:tensorflow:step = 3101, loss = 0.0337465 (0.202 sec)\n",
      "INFO:tensorflow:global_step/sec: 435.139\n",
      "INFO:tensorflow:step = 3201, loss = 0.0132512 (0.230 sec)\n",
      "INFO:tensorflow:global_step/sec: 469.904\n",
      "INFO:tensorflow:step = 3301, loss = 0.0321816 (0.213 sec)\n",
      "INFO:tensorflow:global_step/sec: 450.835\n",
      "INFO:tensorflow:step = 3401, loss = 0.143895 (0.222 sec)\n",
      "INFO:tensorflow:global_step/sec: 472.123\n",
      "INFO:tensorflow:step = 3501, loss = 0.0897496 (0.212 sec)\n",
      "INFO:tensorflow:global_step/sec: 451.653\n",
      "INFO:tensorflow:step = 3601, loss = 0.157295 (0.221 sec)\n",
      "INFO:tensorflow:global_step/sec: 472.123\n",
      "INFO:tensorflow:step = 3701, loss = 0.03669 (0.212 sec)\n",
      "INFO:tensorflow:global_step/sec: 451.653\n",
      "INFO:tensorflow:step = 3801, loss = 0.0122543 (0.221 sec)\n",
      "INFO:tensorflow:global_step/sec: 472.123\n",
      "INFO:tensorflow:step = 3901, loss = 0.152421 (0.212 sec)\n",
      "INFO:tensorflow:global_step/sec: 450.021\n",
      "INFO:tensorflow:step = 4001, loss = 0.107787 (0.222 sec)\n",
      "INFO:tensorflow:global_step/sec: 469.904\n",
      "INFO:tensorflow:step = 4101, loss = 0.0485792 (0.213 sec)\n",
      "INFO:tensorflow:global_step/sec: 454.938\n",
      "INFO:tensorflow:step = 4201, loss = 0.0590532 (0.220 sec)\n",
      "INFO:tensorflow:global_step/sec: 449.607\n",
      "INFO:tensorflow:step = 4301, loss = 0.158572 (0.226 sec)\n",
      "INFO:tensorflow:global_step/sec: 406.801\n",
      "INFO:tensorflow:step = 4401, loss = 0.114563 (0.242 sec)\n",
      "INFO:tensorflow:global_step/sec: 440.896\n",
      "INFO:tensorflow:step = 4501, loss = 0.0187132 (0.227 sec)\n",
      "INFO:tensorflow:global_step/sec: 454.938\n",
      "INFO:tensorflow:step = 4601, loss = 0.0182185 (0.220 sec)\n",
      "INFO:tensorflow:global_step/sec: 421.899\n",
      "INFO:tensorflow:step = 4701, loss = 0.00904818 (0.243 sec)\n",
      "INFO:tensorflow:global_step/sec: 427.308\n",
      "INFO:tensorflow:step = 4801, loss = 0.0186206 (0.232 sec)\n",
      "INFO:tensorflow:global_step/sec: 434.739\n",
      "INFO:tensorflow:step = 4901, loss = 0.0834735 (0.230 sec)\n",
      "INFO:tensorflow:global_step/sec: 432.857\n",
      "INFO:tensorflow:step = 5001, loss = 0.0451745 (0.231 sec)\n",
      "INFO:tensorflow:global_step/sec: 430.992\n",
      "INFO:tensorflow:step = 5101, loss = 0.00802126 (0.232 sec)\n",
      "INFO:tensorflow:global_step/sec: 430.274\n",
      "INFO:tensorflow:step = 5201, loss = 0.0236921 (0.228 sec)\n",
      "INFO:tensorflow:global_step/sec: 488.73\n",
      "INFO:tensorflow:step = 5301, loss = 0.040991 (0.209 sec)\n",
      "INFO:tensorflow:global_step/sec: 487.305\n",
      "INFO:tensorflow:step = 5401, loss = 0.0607277 (0.206 sec)\n",
      "INFO:tensorflow:global_step/sec: 398.366\n",
      "INFO:tensorflow:step = 5501, loss = 0.0441553 (0.250 sec)\n",
      "INFO:tensorflow:global_step/sec: 418.368\n",
      "INFO:tensorflow:step = 5601, loss = 0.0769239 (0.239 sec)\n",
      "INFO:tensorflow:global_step/sec: 433.625\n",
      "INFO:tensorflow:step = 5701, loss = 0.0198653 (0.227 sec)\n",
      "INFO:tensorflow:global_step/sec: 511.754\n",
      "INFO:tensorflow:step = 5801, loss = 0.00881232 (0.211 sec)\n",
      "INFO:tensorflow:global_step/sec: 499.494\n",
      "INFO:tensorflow:step = 5901, loss = 0.110585 (0.200 sec)\n",
      "INFO:tensorflow:global_step/sec: 475.73\n",
      "INFO:tensorflow:step = 6001, loss = 0.0857567 (0.195 sec)\n",
      "INFO:tensorflow:global_step/sec: 556.741\n",
      "INFO:tensorflow:step = 6101, loss = 0.0120617 (0.184 sec)\n",
      "INFO:tensorflow:global_step/sec: 483.044\n",
      "INFO:tensorflow:step = 6201, loss = 0.022921 (0.207 sec)\n",
      "INFO:tensorflow:global_step/sec: 396.785\n",
      "INFO:tensorflow:step = 6301, loss = 0.0707142 (0.252 sec)\n",
      "INFO:tensorflow:global_step/sec: 444.011\n",
      "INFO:tensorflow:step = 6401, loss = 0.0212568 (0.225 sec)\n",
      "INFO:tensorflow:global_step/sec: 471.245\n",
      "INFO:tensorflow:step = 6501, loss = 0.00796753 (0.213 sec)\n",
      "INFO:tensorflow:global_step/sec: 361.241\n",
      "INFO:tensorflow:step = 6601, loss = 0.0281497 (0.272 sec)\n",
      "INFO:tensorflow:global_step/sec: 497.987\n",
      "INFO:tensorflow:step = 6701, loss = 0.0216029 (0.201 sec)\n",
      "INFO:tensorflow:global_step/sec: 479.375\n",
      "INFO:tensorflow:step = 6801, loss = 0.0129809 (0.209 sec)\n",
      "INFO:tensorflow:global_step/sec: 517.047\n",
      "INFO:tensorflow:step = 6901, loss = 0.0126797 (0.193 sec)\n",
      "INFO:tensorflow:global_step/sec: 528.537\n",
      "INFO:tensorflow:step = 7001, loss = 0.0166421 (0.189 sec)\n",
      "INFO:tensorflow:global_step/sec: 526.304\n",
      "INFO:tensorflow:step = 7101, loss = 0.00448675 (0.194 sec)\n",
      "INFO:tensorflow:global_step/sec: 472.122\n",
      "INFO:tensorflow:step = 7201, loss = 0.0508161 (0.213 sec)\n",
      "INFO:tensorflow:global_step/sec: 403.186\n",
      "INFO:tensorflow:step = 7301, loss = 0.00550252 (0.247 sec)\n",
      "INFO:tensorflow:global_step/sec: 462.089\n",
      "INFO:tensorflow:step = 7401, loss = 0.0154965 (0.213 sec)\n",
      "INFO:tensorflow:global_step/sec: 485.905\n",
      "INFO:tensorflow:step = 7501, loss = 0.004822 (0.267 sec)\n",
      "INFO:tensorflow:global_step/sec: 364.161\n"
     ]
    },
    {
     "name": "stdout",
     "output_type": "stream",
     "text": [
      "INFO:tensorflow:step = 7601, loss = 0.0131625 (0.212 sec)\n",
      "INFO:tensorflow:global_step/sec: 505.037\n",
      "INFO:tensorflow:step = 7701, loss = 0.00680886 (0.201 sec)\n",
      "INFO:tensorflow:global_step/sec: 445.224\n",
      "INFO:tensorflow:step = 7801, loss = 0.00376618 (0.222 sec)\n",
      "INFO:tensorflow:global_step/sec: 487.322\n",
      "INFO:tensorflow:step = 7901, loss = 0.0131479 (0.205 sec)\n",
      "INFO:tensorflow:global_step/sec: 517.047\n",
      "INFO:tensorflow:step = 8001, loss = 0.00631671 (0.193 sec)\n",
      "INFO:tensorflow:global_step/sec: 531.346\n",
      "INFO:tensorflow:step = 8101, loss = 0.0245089 (0.188 sec)\n",
      "INFO:tensorflow:global_step/sec: 511.239\n",
      "INFO:tensorflow:step = 8201, loss = 0.0208505 (0.199 sec)\n",
      "INFO:tensorflow:global_step/sec: 432.133\n",
      "INFO:tensorflow:step = 8301, loss = 0.04197 (0.232 sec)\n",
      "INFO:tensorflow:global_step/sec: 380.496\n",
      "INFO:tensorflow:step = 8401, loss = 0.0136715 (0.259 sec)\n",
      "INFO:tensorflow:global_step/sec: 437.056\n",
      "INFO:tensorflow:step = 8501, loss = 0.0110502 (0.229 sec)\n",
      "INFO:tensorflow:global_step/sec: 521.337\n",
      "INFO:tensorflow:step = 8601, loss = 0.00604934 (0.196 sec)\n",
      "INFO:tensorflow:global_step/sec: 428.444\n",
      "INFO:tensorflow:step = 8701, loss = 0.0065747 (0.229 sec)\n",
      "INFO:tensorflow:global_step/sec: 444.025\n",
      "INFO:tensorflow:step = 8801, loss = 0.00738027 (0.229 sec)\n",
      "INFO:tensorflow:global_step/sec: 425.489\n",
      "INFO:tensorflow:step = 8901, loss = 0.00280681 (0.235 sec)\n",
      "INFO:tensorflow:global_step/sec: 404.818\n",
      "INFO:tensorflow:step = 9001, loss = 0.015022 (0.247 sec)\n",
      "INFO:tensorflow:global_step/sec: 480.721\n",
      "INFO:tensorflow:step = 9101, loss = 0.00840854 (0.209 sec)\n",
      "INFO:tensorflow:global_step/sec: 442.433\n",
      "INFO:tensorflow:step = 9201, loss = 0.00372718 (0.225 sec)\n",
      "INFO:tensorflow:global_step/sec: 406.463\n",
      "INFO:tensorflow:step = 9301, loss = 0.0134235 (0.246 sec)\n",
      "INFO:tensorflow:global_step/sec: 341.263\n",
      "INFO:tensorflow:step = 9401, loss = 0.034022 (0.293 sec)\n",
      "INFO:tensorflow:global_step/sec: 364.927\n",
      "INFO:tensorflow:step = 9501, loss = 0.00841827 (0.274 sec)\n",
      "INFO:tensorflow:global_step/sec: 378.75\n",
      "INFO:tensorflow:step = 9601, loss = 0.015819 (0.265 sec)\n",
      "INFO:tensorflow:global_step/sec: 450.406\n",
      "INFO:tensorflow:step = 9701, loss = 0.0086599 (0.221 sec)\n",
      "INFO:tensorflow:global_step/sec: 446.384\n",
      "INFO:tensorflow:step = 9801, loss = 0.00439482 (0.224 sec)\n",
      "INFO:tensorflow:global_step/sec: 454.5\n",
      "INFO:tensorflow:step = 9901, loss = 0.0174038 (0.220 sec)\n",
      "INFO:tensorflow:global_step/sec: 471.651\n",
      "INFO:tensorflow:step = 10001, loss = 0.0208312 (0.212 sec)\n",
      "INFO:tensorflow:global_step/sec: 487.756\n",
      "INFO:tensorflow:step = 10101, loss = 0.00381713 (0.205 sec)\n",
      "INFO:tensorflow:global_step/sec: 416.625\n",
      "INFO:tensorflow:step = 10201, loss = 0.00676587 (0.240 sec)\n",
      "INFO:tensorflow:global_step/sec: 427.308\n",
      "INFO:tensorflow:step = 10301, loss = 0.00574352 (0.234 sec)\n",
      "INFO:tensorflow:global_step/sec: 396.786\n",
      "INFO:tensorflow:step = 10401, loss = 0.00939435 (0.252 sec)\n",
      "INFO:tensorflow:global_step/sec: 432.857\n",
      "INFO:tensorflow:step = 10501, loss = 0.00275532 (0.232 sec)\n",
      "INFO:tensorflow:global_step/sec: 393.662\n",
      "INFO:tensorflow:step = 10601, loss = 0.00952128 (0.253 sec)\n",
      "INFO:tensorflow:global_step/sec: 404.818\n",
      "INFO:tensorflow:step = 10701, loss = 0.0303758 (0.247 sec)\n",
      "INFO:tensorflow:global_step/sec: 487.756\n",
      "INFO:tensorflow:step = 10801, loss = 0.0115768 (0.205 sec)\n",
      "INFO:tensorflow:global_step/sec: 485.388\n",
      "INFO:tensorflow:step = 10901, loss = 0.00465772 (0.207 sec)\n",
      "INFO:tensorflow:global_step/sec: 485.388\n",
      "INFO:tensorflow:step = 11001, loss = 0.0293584 (0.205 sec)\n",
      "INFO:tensorflow:global_step/sec: 485.388\n",
      "INFO:tensorflow:step = 11101, loss = 0.00492727 (0.206 sec)\n",
      "INFO:tensorflow:global_step/sec: 391.826\n",
      "INFO:tensorflow:step = 11201, loss = 0.000853527 (0.251 sec)\n",
      "INFO:tensorflow:global_step/sec: 510.191\n",
      "INFO:tensorflow:step = 11301, loss = 0.0139262 (0.212 sec)\n",
      "INFO:tensorflow:global_step/sec: 470.339\n",
      "INFO:tensorflow:step = 11401, loss = 0.00881559 (0.202 sec)\n",
      "INFO:tensorflow:global_step/sec: 440.485\n",
      "INFO:tensorflow:step = 11501, loss = 0.0186049 (0.226 sec)\n",
      "INFO:tensorflow:global_step/sec: 498.495\n",
      "INFO:tensorflow:step = 11601, loss = 0.000492324 (0.201 sec)\n",
      "INFO:tensorflow:global_step/sec: 498.984\n",
      "INFO:tensorflow:step = 11701, loss = 0.00230341 (0.230 sec)\n",
      "INFO:tensorflow:global_step/sec: 472.578\n",
      "INFO:tensorflow:step = 11801, loss = 0.000418936 (0.182 sec)\n",
      "INFO:tensorflow:global_step/sec: 411.853\n",
      "INFO:tensorflow:step = 11901, loss = 0.00709947 (0.239 sec)\n",
      "INFO:tensorflow:global_step/sec: 507.094\n",
      "INFO:tensorflow:step = 12001, loss = 0.000176346 (0.197 sec)\n",
      "INFO:tensorflow:global_step/sec: 471.245\n",
      "INFO:tensorflow:step = 12101, loss = 0.00352114 (0.212 sec)\n",
      "INFO:tensorflow:global_step/sec: 445.629\n",
      "INFO:tensorflow:step = 12201, loss = 0.00409825 (0.224 sec)\n",
      "INFO:tensorflow:global_step/sec: 455.785\n",
      "INFO:tensorflow:step = 12301, loss = 0.00442711 (0.219 sec)\n",
      "INFO:tensorflow:global_step/sec: 491.149\n",
      "INFO:tensorflow:step = 12401, loss = 0.000686727 (0.204 sec)\n",
      "INFO:tensorflow:global_step/sec: 450.405\n",
      "INFO:tensorflow:step = 12501, loss = 0.00342111 (0.227 sec)\n",
      "INFO:tensorflow:global_step/sec: 403.186\n",
      "INFO:tensorflow:step = 12601, loss = 0.00143894 (0.247 sec)\n",
      "INFO:tensorflow:global_step/sec: 467.243\n",
      "INFO:tensorflow:step = 12701, loss = 0.00396524 (0.214 sec)\n",
      "INFO:tensorflow:global_step/sec: 386.062\n",
      "INFO:tensorflow:step = 12801, loss = 0.00715362 (0.259 sec)\n",
      "INFO:tensorflow:global_step/sec: 436.29\n",
      "INFO:tensorflow:step = 12901, loss = 0.00564594 (0.225 sec)\n",
      "INFO:tensorflow:global_step/sec: 531.346\n",
      "INFO:tensorflow:step = 13001, loss = 0.00317152 (0.189 sec)\n",
      "INFO:tensorflow:global_step/sec: 546.415\n",
      "INFO:tensorflow:step = 13101, loss = 0.00411803 (0.186 sec)\n",
      "INFO:tensorflow:global_step/sec: 433.625\n",
      "INFO:tensorflow:step = 13201, loss = 0.00683057 (0.231 sec)\n",
      "INFO:tensorflow:global_step/sec: 433.995\n",
      "INFO:tensorflow:step = 13301, loss = 0.00482892 (0.258 sec)\n",
      "INFO:tensorflow:global_step/sec: 452.877\n",
      "INFO:tensorflow:step = 13401, loss = 0.00194253 (0.190 sec)\n",
      "INFO:tensorflow:global_step/sec: 558.012\n",
      "INFO:tensorflow:step = 13501, loss = 0.00725991 (0.183 sec)\n",
      "INFO:tensorflow:global_step/sec: 401.566\n",
      "INFO:tensorflow:step = 13601, loss = 0.00496594 (0.250 sec)\n",
      "INFO:tensorflow:global_step/sec: 425.873\n",
      "INFO:tensorflow:step = 13701, loss = 0.00231069 (0.230 sec)\n",
      "INFO:tensorflow:global_step/sec: 517.047\n",
      "INFO:tensorflow:step = 13801, loss = 0.00758488 (0.193 sec)\n",
      "INFO:tensorflow:global_step/sec: 563.683\n",
      "INFO:tensorflow:step = 13901, loss = 0.00351695 (0.181 sec)\n",
      "INFO:tensorflow:global_step/sec: 496.004\n",
      "INFO:tensorflow:step = 14001, loss = 0.00250569 (0.203 sec)\n",
      "INFO:tensorflow:global_step/sec: 419.085\n",
      "INFO:tensorflow:step = 14101, loss = 0.00576778 (0.238 sec)\n",
      "INFO:tensorflow:global_step/sec: 420.139\n",
      "INFO:tensorflow:step = 14201, loss = 0.0106178 (0.234 sec)\n",
      "INFO:tensorflow:global_step/sec: 503.515\n",
      "INFO:tensorflow:step = 14301, loss = 0.00184563 (0.199 sec)\n",
      "INFO:tensorflow:global_step/sec: 499.987\n",
      "INFO:tensorflow:step = 14401, loss = 0.000657787 (0.200 sec)\n",
      "INFO:tensorflow:global_step/sec: 499.476\n",
      "INFO:tensorflow:step = 14501, loss = 0.000907568 (0.200 sec)\n",
      "INFO:tensorflow:global_step/sec: 446.791\n",
      "INFO:tensorflow:step = 14601, loss = 0.00308903 (0.228 sec)\n",
      "INFO:tensorflow:global_step/sec: 425.503\n",
      "INFO:tensorflow:step = 14701, loss = 0.000958802 (0.232 sec)\n",
      "INFO:tensorflow:global_step/sec: 522.45\n",
      "INFO:tensorflow:step = 14801, loss = 0.00119474 (0.194 sec)\n",
      "INFO:tensorflow:global_step/sec: 452.07\n",
      "INFO:tensorflow:step = 14901, loss = 0.00213329 (0.217 sec)\n",
      "INFO:tensorflow:global_step/sec: 497.481\n",
      "INFO:tensorflow:step = 15001, loss = 0.0011101 (0.201 sec)\n",
      "INFO:tensorflow:global_step/sec: 514.928\n",
      "INFO:tensorflow:step = 15101, loss = 0.00242632 (0.195 sec)\n",
      "INFO:tensorflow:global_step/sec: 489.709\n",
      "INFO:tensorflow:step = 15201, loss = 0.00159225 (0.203 sec)\n",
      "INFO:tensorflow:global_step/sec: 557.399\n",
      "INFO:tensorflow:step = 15301, loss = 0.0014488 (0.183 sec)\n",
      "INFO:tensorflow:global_step/sec: 445.628\n",
      "INFO:tensorflow:step = 15401, loss = 0.00376972 (0.220 sec)\n",
      "INFO:tensorflow:global_step/sec: 528.537\n",
      "INFO:tensorflow:step = 15501, loss = 0.00406733 (0.189 sec)\n",
      "INFO:tensorflow:global_step/sec: 470.355\n",
      "INFO:tensorflow:step = 15601, loss = 0.00472252 (0.213 sec)\n",
      "INFO:tensorflow:global_step/sec: 406.463\n",
      "INFO:tensorflow:step = 15701, loss = 0.0146699 (0.250 sec)\n",
      "INFO:tensorflow:global_step/sec: 426.602\n"
     ]
    },
    {
     "name": "stdout",
     "output_type": "stream",
     "text": [
      "INFO:tensorflow:step = 15801, loss = 0.00153426 (0.230 sec)\n",
      "INFO:tensorflow:global_step/sec: 563.684\n",
      "INFO:tensorflow:step = 15901, loss = 0.000447847 (0.181 sec)\n",
      "INFO:tensorflow:global_step/sec: 492.597\n",
      "INFO:tensorflow:step = 16001, loss = 0.00656253 (0.203 sec)\n",
      "INFO:tensorflow:global_step/sec: 463.386\n",
      "INFO:tensorflow:step = 16101, loss = 0.0043496 (0.213 sec)\n",
      "INFO:tensorflow:global_step/sec: 512.808\n",
      "INFO:tensorflow:step = 16201, loss = 7.70298e-05 (0.194 sec)\n",
      "INFO:tensorflow:global_step/sec: 470.356\n",
      "INFO:tensorflow:step = 16301, loss = 0.00260926 (0.213 sec)\n",
      "INFO:tensorflow:global_step/sec: 503.515\n",
      "INFO:tensorflow:step = 16401, loss = 0.00155471 (0.199 sec)\n",
      "INFO:tensorflow:global_step/sec: 485.905\n",
      "INFO:tensorflow:step = 16501, loss = 0.0015937 (0.206 sec)\n",
      "INFO:tensorflow:global_step/sec: 559.905\n",
      "INFO:tensorflow:step = 16601, loss = 0.00472044 (0.179 sec)\n",
      "INFO:tensorflow:global_step/sec: 517.594\n",
      "INFO:tensorflow:step = 16701, loss = 0.00249327 (0.197 sec)\n",
      "INFO:tensorflow:global_step/sec: 469.904\n",
      "INFO:tensorflow:step = 16801, loss = 0.00237052 (0.209 sec)\n",
      "INFO:tensorflow:global_step/sec: 508.619\n",
      "INFO:tensorflow:step = 16901, loss = 0.00251921 (0.201 sec)\n",
      "INFO:tensorflow:global_step/sec: 458.701\n",
      "INFO:tensorflow:step = 17001, loss = 0.00285329 (0.214 sec)\n",
      "INFO:tensorflow:global_step/sec: 485.905\n",
      "INFO:tensorflow:step = 17101, loss = 0.000563493 (0.206 sec)\n",
      "INFO:tensorflow:global_step/sec: 559.905\n",
      "INFO:tensorflow:step = 17201, loss = 0.00264452 (0.179 sec)\n",
      "INFO:tensorflow:global_step/sec: 511.238\n",
      "INFO:tensorflow:step = 17301, loss = 0.000915113 (0.198 sec)\n",
      "INFO:tensorflow:global_step/sec: 463.795\n",
      "INFO:tensorflow:step = 17401, loss = 0.00186997 (0.218 sec)\n",
      "INFO:tensorflow:global_step/sec: 462.089\n",
      "INFO:tensorflow:step = 17501, loss = 0.00155757 (0.244 sec)\n",
      "INFO:tensorflow:global_step/sec: 412.87\n",
      "INFO:tensorflow:step = 17601, loss = 0.000356618 (0.212 sec)\n",
      "INFO:tensorflow:global_step/sec: 457.444\n",
      "INFO:tensorflow:step = 17701, loss = 0.000703532 (0.218 sec)\n",
      "INFO:tensorflow:global_step/sec: 486.82\n",
      "INFO:tensorflow:step = 17801, loss = 0.000502199 (0.205 sec)\n",
      "INFO:tensorflow:global_step/sec: 566.879\n",
      "INFO:tensorflow:step = 17901, loss = 0.00201421 (0.180 sec)\n",
      "INFO:tensorflow:global_step/sec: 347.188\n",
      "INFO:tensorflow:step = 18001, loss = 0.00172619 (0.288 sec)\n",
      "INFO:tensorflow:global_step/sec: 390.586\n",
      "INFO:tensorflow:step = 18101, loss = 0.000986052 (0.256 sec)\n",
      "INFO:tensorflow:global_step/sec: 354.574\n",
      "INFO:tensorflow:step = 18201, loss = 0.00447541 (0.282 sec)\n",
      "INFO:tensorflow:global_step/sec: 373.097\n",
      "INFO:tensorflow:step = 18301, loss = 0.0146146 (0.269 sec)\n",
      "INFO:tensorflow:global_step/sec: 374.494\n",
      "INFO:tensorflow:step = 18401, loss = 0.00289675 (0.266 sec)\n",
      "INFO:tensorflow:global_step/sec: 404.818\n",
      "INFO:tensorflow:step = 18501, loss = 0.0022742 (0.246 sec)\n",
      "INFO:tensorflow:global_step/sec: 395.217\n",
      "INFO:tensorflow:step = 18601, loss = 0.00423942 (0.254 sec)\n",
      "INFO:tensorflow:global_step/sec: 399.96\n",
      "INFO:tensorflow:step = 18701, loss = 0.000945454 (0.250 sec)\n",
      "INFO:tensorflow:global_step/sec: 420.126\n",
      "INFO:tensorflow:step = 18801, loss = 0.00149365 (0.238 sec)\n",
      "INFO:tensorflow:global_step/sec: 438.553\n",
      "INFO:tensorflow:step = 18901, loss = 0.00309862 (0.228 sec)\n",
      "INFO:tensorflow:global_step/sec: 490.147\n",
      "INFO:tensorflow:step = 19001, loss = 0.00134573 (0.203 sec)\n",
      "INFO:tensorflow:global_step/sec: 487.756\n",
      "INFO:tensorflow:step = 19101, loss = 0.000693691 (0.206 sec)\n",
      "INFO:tensorflow:global_step/sec: 490.147\n",
      "INFO:tensorflow:step = 19201, loss = 0.000465131 (0.205 sec)\n",
      "INFO:tensorflow:global_step/sec: 429.142\n",
      "INFO:tensorflow:step = 19301, loss = 0.00558755 (0.232 sec)\n",
      "INFO:tensorflow:global_step/sec: 441.293\n",
      "INFO:tensorflow:step = 19401, loss = 0.000528183 (0.223 sec)\n",
      "INFO:tensorflow:global_step/sec: 562.41\n",
      "INFO:tensorflow:step = 19501, loss = 0.00208042 (0.181 sec)\n",
      "INFO:tensorflow:global_step/sec: 427.334\n",
      "INFO:tensorflow:step = 19601, loss = 0.000694155 (0.231 sec)\n",
      "INFO:tensorflow:global_step/sec: 513.866\n",
      "INFO:tensorflow:step = 19701, loss = 0.000119371 (0.195 sec)\n",
      "INFO:tensorflow:global_step/sec: 558.649\n",
      "INFO:tensorflow:step = 19801, loss = 0.00051242 (0.211 sec)\n",
      "INFO:tensorflow:global_step/sec: 468.153\n",
      "INFO:tensorflow:step = 19901, loss = 0.00184305 (0.197 sec)\n",
      "INFO:tensorflow:global_step/sec: 490.674\n",
      "INFO:tensorflow:step = 20001, loss = 0.00206445 (0.188 sec)\n",
      "INFO:tensorflow:global_step/sec: 487.791\n",
      "INFO:tensorflow:step = 20101, loss = 0.0003063 (0.205 sec)\n",
      "INFO:tensorflow:global_step/sec: 505.037\n",
      "INFO:tensorflow:step = 20201, loss = 0.00195141 (0.198 sec)\n",
      "INFO:tensorflow:global_step/sec: 517.047\n",
      "INFO:tensorflow:step = 20301, loss = 0.000959544 (0.209 sec)\n",
      "INFO:tensorflow:global_step/sec: 475.729\n",
      "INFO:tensorflow:step = 20401, loss = 0.00013434 (0.195 sec)\n",
      "INFO:tensorflow:global_step/sec: 517.594\n",
      "INFO:tensorflow:step = 20501, loss = 0.0003517 (0.193 sec)\n",
      "INFO:tensorflow:global_step/sec: 506.045\n",
      "INFO:tensorflow:step = 20601, loss = 0.00149112 (0.199 sec)\n",
      "INFO:tensorflow:global_step/sec: 475.729\n",
      "INFO:tensorflow:step = 20701, loss = 0.00112818 (0.209 sec)\n",
      "INFO:tensorflow:global_step/sec: 525.758\n",
      "INFO:tensorflow:step = 20801, loss = 0.00154887 (0.206 sec)\n",
      "INFO:tensorflow:global_step/sec: 502.5\n",
      "INFO:tensorflow:step = 20901, loss = 0.00139391 (0.199 sec)\n",
      "INFO:tensorflow:global_step/sec: 397.419\n",
      "INFO:tensorflow:step = 21001, loss = 0.00281828 (0.239 sec)\n",
      "INFO:tensorflow:global_step/sec: 408.123\n",
      "INFO:tensorflow:step = 21101, loss = 0.00136329 (0.246 sec)\n",
      "INFO:tensorflow:global_step/sec: 431.372\n",
      "INFO:tensorflow:step = 21201, loss = 0.00240587 (0.228 sec)\n",
      "INFO:tensorflow:global_step/sec: 434.367\n",
      "INFO:tensorflow:step = 21301, loss = 0.00113844 (0.235 sec)\n",
      "INFO:tensorflow:global_step/sec: 447.2\n",
      "INFO:tensorflow:step = 21401, loss = 0.00262636 (0.220 sec)\n",
      "INFO:tensorflow:global_step/sec: 470.355\n",
      "INFO:tensorflow:step = 21501, loss = 0.000237559 (0.212 sec)\n",
      "INFO:tensorflow:global_step/sec: 528.537\n",
      "INFO:tensorflow:step = 21601, loss = 0.00151222 (0.189 sec)\n",
      "INFO:tensorflow:global_step/sec: 554.915\n",
      "INFO:tensorflow:step = 21701, loss = 0.000995086 (0.184 sec)\n",
      "INFO:tensorflow:global_step/sec: 437.041\n",
      "INFO:tensorflow:step = 21801, loss = 0.000349444 (0.225 sec)\n",
      "INFO:tensorflow:global_step/sec: 580.033\n",
      "INFO:tensorflow:step = 21901, loss = 0.000656097 (0.176 sec)\n",
      "INFO:tensorflow:global_step/sec: 442.863\n",
      "INFO:tensorflow:step = 22001, loss = 0.000148364 (0.222 sec)\n",
      "INFO:tensorflow:global_step/sec: 517.594\n",
      "INFO:tensorflow:step = 22101, loss = 0.000531831 (0.209 sec)\n",
      "INFO:tensorflow:global_step/sec: 473.477\n",
      "INFO:tensorflow:step = 22201, loss = 0.00140872 (0.196 sec)\n",
      "INFO:tensorflow:global_step/sec: 514.928\n",
      "INFO:tensorflow:step = 22301, loss = 0.00243447 (0.194 sec)\n",
      "INFO:tensorflow:global_step/sec: 485.905\n",
      "INFO:tensorflow:step = 22401, loss = 0.00220339 (0.206 sec)\n",
      "INFO:tensorflow:global_step/sec: 586.842\n",
      "INFO:tensorflow:step = 22501, loss = 0.00157356 (0.174 sec)\n",
      "INFO:tensorflow:global_step/sec: 449.224\n",
      "INFO:tensorflow:step = 22601, loss = 0.00364198 (0.219 sec)\n",
      "INFO:tensorflow:global_step/sec: 519.734\n",
      "INFO:tensorflow:step = 22701, loss = 0.000852597 (0.208 sec)\n",
      "INFO:tensorflow:global_step/sec: 477.088\n",
      "INFO:tensorflow:step = 22801, loss = 0.00109362 (0.194 sec)\n",
      "INFO:tensorflow:global_step/sec: 531.346\n",
      "INFO:tensorflow:step = 22901, loss = 0.00240539 (0.204 sec)\n",
      "INFO:tensorflow:global_step/sec: 488.243\n",
      "INFO:tensorflow:step = 23001, loss = 0.000654596 (0.189 sec)\n",
      "INFO:tensorflow:global_step/sec: 493.058\n",
      "INFO:tensorflow:step = 23101, loss = 0.00295467 (0.203 sec)\n",
      "INFO:tensorflow:global_step/sec: 556.765\n",
      "INFO:tensorflow:step = 23201, loss = 0.00217089 (0.184 sec)\n",
      "INFO:tensorflow:global_step/sec: 497.462\n",
      "INFO:tensorflow:step = 23301, loss = 0.00169613 (0.201 sec)\n",
      "INFO:tensorflow:global_step/sec: 467.259\n",
      "INFO:tensorflow:step = 23401, loss = 0.000720154 (0.214 sec)\n",
      "INFO:tensorflow:global_step/sec: 460.783\n",
      "INFO:tensorflow:step = 23501, loss = 0.000805685 (0.217 sec)\n",
      "INFO:tensorflow:global_step/sec: 465.07\n",
      "INFO:tensorflow:step = 23601, loss = 0.000631053 (0.215 sec)\n",
      "INFO:tensorflow:global_step/sec: 446.398\n",
      "INFO:tensorflow:step = 23701, loss = 0.000255326 (0.220 sec)\n",
      "INFO:tensorflow:global_step/sec: 513.866\n",
      "INFO:tensorflow:step = 23801, loss = 0.00180432 (0.210 sec)\n",
      "INFO:tensorflow:global_step/sec: 476.176\n"
     ]
    },
    {
     "name": "stdout",
     "output_type": "stream",
     "text": [
      "INFO:tensorflow:step = 23901, loss = 0.000976085 (0.194 sec)\n",
      "INFO:tensorflow:global_step/sec: 569.447\n",
      "INFO:tensorflow:step = 24001, loss = 0.00113664 (0.191 sec)\n",
      "INFO:tensorflow:global_step/sec: 508.638\n",
      "INFO:tensorflow:step = 24101, loss = 0.000741892 (0.185 sec)\n",
      "INFO:tensorflow:global_step/sec: 423.7\n",
      "INFO:tensorflow:step = 24201, loss = 0.000928554 (0.236 sec)\n",
      "INFO:tensorflow:global_step/sec: 421.899\n",
      "INFO:tensorflow:step = 24301, loss = 0.000218442 (0.237 sec)\n",
      "INFO:tensorflow:global_step/sec: 452.473\n",
      "INFO:tensorflow:step = 24401, loss = 0.00173174 (0.217 sec)\n",
      "INFO:tensorflow:global_step/sec: 485.905\n",
      "INFO:tensorflow:step = 24501, loss = 0.000569286 (0.206 sec)\n",
      "INFO:tensorflow:global_step/sec: 573.38\n",
      "INFO:tensorflow:step = 24601, loss = 0.000322807 (0.178 sec)\n",
      "INFO:tensorflow:global_step/sec: 486.354\n",
      "INFO:tensorflow:step = 24701, loss = 0.00111121 (0.202 sec)\n",
      "INFO:tensorflow:global_step/sec: 480.3\n",
      "INFO:tensorflow:step = 24801, loss = 0.00132868 (0.224 sec)\n",
      "INFO:tensorflow:global_step/sec: 506.063\n",
      "INFO:tensorflow:step = 24901, loss = 0.00235335 (0.182 sec)\n",
      "INFO:tensorflow:global_step/sec: 468.153\n",
      "INFO:tensorflow:step = 25001, loss = 0.000118122 (0.214 sec)\n",
      "INFO:tensorflow:global_step/sec: 514.929\n",
      "INFO:tensorflow:step = 25101, loss = 0.00184492 (0.194 sec)\n",
      "INFO:tensorflow:global_step/sec: 485.905\n",
      "INFO:tensorflow:step = 25201, loss = 0.00320799 (0.206 sec)\n",
      "INFO:tensorflow:global_step/sec: 511.239\n",
      "INFO:tensorflow:step = 25301, loss = 0.000183373 (0.196 sec)\n",
      "INFO:tensorflow:global_step/sec: 512.808\n",
      "INFO:tensorflow:step = 25401, loss = 0.000734714 (0.199 sec)\n",
      "INFO:tensorflow:global_step/sec: 377.612\n",
      "INFO:tensorflow:step = 25501, loss = 0.00117328 (0.261 sec)\n",
      "INFO:tensorflow:global_step/sec: 497.499\n",
      "INFO:tensorflow:step = 25601, loss = 0.00101388 (0.201 sec)\n",
      "INFO:tensorflow:global_step/sec: 477.088\n",
      "INFO:tensorflow:step = 25701, loss = 0.000994076 (0.210 sec)\n",
      "INFO:tensorflow:global_step/sec: 541.084\n",
      "INFO:tensorflow:step = 25801, loss = 0.00148109 (0.188 sec)\n",
      "INFO:tensorflow:global_step/sec: 460.783\n",
      "INFO:tensorflow:step = 25901, loss = 0.00150336 (0.218 sec)\n",
      "INFO:tensorflow:global_step/sec: 450.405\n",
      "INFO:tensorflow:step = 26001, loss = 4.42679e-05 (0.222 sec)\n",
      "INFO:tensorflow:global_step/sec: 483.999\n",
      "INFO:tensorflow:step = 26101, loss = 0.000945769 (0.207 sec)\n",
      "INFO:tensorflow:global_step/sec: 445.224\n",
      "INFO:tensorflow:step = 26201, loss = 0.000692925 (0.221 sec)\n",
      "INFO:tensorflow:global_step/sec: 496.507\n",
      "INFO:tensorflow:step = 26301, loss = 0.000701611 (0.201 sec)\n",
      "INFO:tensorflow:global_step/sec: 485.905\n",
      "INFO:tensorflow:step = 26401, loss = 0.00164209 (0.206 sec)\n",
      "INFO:tensorflow:global_step/sec: 513.866\n",
      "INFO:tensorflow:step = 26501, loss = 0.000905918 (0.210 sec)\n",
      "INFO:tensorflow:global_step/sec: 478.004\n",
      "INFO:tensorflow:step = 26601, loss = 0.000519783 (0.194 sec)\n",
      "INFO:tensorflow:global_step/sec: 571.419\n",
      "INFO:tensorflow:step = 26701, loss = 1.40954e-05 (0.179 sec)\n",
      "INFO:tensorflow:global_step/sec: 493.574\n",
      "INFO:tensorflow:step = 26801, loss = 0.000842135 (0.203 sec)\n",
      "INFO:tensorflow:global_step/sec: 463.794\n",
      "INFO:tensorflow:step = 26901, loss = 0.000808341 (0.213 sec)\n",
      "INFO:tensorflow:global_step/sec: 525.758\n",
      "INFO:tensorflow:step = 27001, loss = 0.000642265 (0.190 sec)\n",
      "INFO:tensorflow:global_step/sec: 398.367\n",
      "INFO:tensorflow:step = 27101, loss = 0.000423766 (0.254 sec)\n",
      "INFO:tensorflow:global_step/sec: 446.806\n",
      "INFO:tensorflow:step = 27201, loss = 0.000671817 (0.220 sec)\n",
      "INFO:tensorflow:global_step/sec: 478.455\n",
      "INFO:tensorflow:step = 27301, loss = 0.00108788 (0.209 sec)\n",
      "INFO:tensorflow:global_step/sec: 528.537\n",
      "INFO:tensorflow:step = 27401, loss = 0.000168051 (0.190 sec)\n",
      "INFO:tensorflow:global_step/sec: 534.727\n",
      "INFO:tensorflow:step = 27501, loss = 0.00143462 (0.190 sec)\n",
      "INFO:tensorflow:global_step/sec: 454.953\n",
      "INFO:tensorflow:step = 27601, loss = 0.000935573 (0.231 sec)\n",
      "INFO:tensorflow:global_step/sec: 452.055\n",
      "INFO:tensorflow:step = 27701, loss = 0.000289417 (0.211 sec)\n",
      "INFO:tensorflow:global_step/sec: 419.085\n",
      "INFO:tensorflow:step = 27801, loss = 0.000623281 (0.234 sec)\n",
      "INFO:tensorflow:global_step/sec: 548.823\n",
      "INFO:tensorflow:step = 27901, loss = 0.000400492 (0.213 sec)\n",
      "INFO:tensorflow:global_step/sec: 423.726\n",
      "INFO:tensorflow:step = 28001, loss = 0.00141883 (0.205 sec)\n",
      "INFO:tensorflow:global_step/sec: 434.739\n",
      "INFO:tensorflow:step = 28101, loss = 0.000513484 (0.234 sec)\n",
      "INFO:tensorflow:global_step/sec: 456.575\n",
      "INFO:tensorflow:step = 28201, loss = 0.00133993 (0.219 sec)\n",
      "INFO:tensorflow:global_step/sec: 465.07\n",
      "INFO:tensorflow:step = 28301, loss = 0.000679669 (0.215 sec)\n",
      "INFO:tensorflow:global_step/sec: 462.917\n",
      "INFO:tensorflow:step = 28401, loss = 0.000811346 (0.216 sec)\n",
      "INFO:tensorflow:global_step/sec: 435.901\n",
      "INFO:tensorflow:step = 28501, loss = 0.00057602 (0.225 sec)\n",
      "INFO:tensorflow:global_step/sec: 519.202\n",
      "INFO:tensorflow:step = 28601, loss = 0.000366546 (0.194 sec)\n",
      "INFO:tensorflow:global_step/sec: 466.845\n",
      "INFO:tensorflow:step = 28701, loss = 0.00086157 (0.213 sec)\n",
      "INFO:tensorflow:global_step/sec: 525.758\n",
      "INFO:tensorflow:step = 28801, loss = 0.00103206 (0.190 sec)\n",
      "INFO:tensorflow:global_step/sec: 488.278\n",
      "INFO:tensorflow:step = 28901, loss = 0.000274243 (0.205 sec)\n",
      "INFO:tensorflow:global_step/sec: 504.015\n",
      "INFO:tensorflow:step = 29001, loss = 0.00182547 (0.198 sec)\n",
      "INFO:tensorflow:global_step/sec: 490.674\n",
      "INFO:tensorflow:step = 29101, loss = 0.00104729 (0.204 sec)\n",
      "INFO:tensorflow:global_step/sec: 475.729\n",
      "INFO:tensorflow:step = 29201, loss = 0.001766 (0.210 sec)\n",
      "INFO:tensorflow:global_step/sec: 583.417\n",
      "INFO:tensorflow:step = 29301, loss = 0.00105772 (0.175 sec)\n",
      "INFO:tensorflow:global_step/sec: 407.14\n",
      "INFO:tensorflow:step = 29401, loss = 0.000961037 (0.247 sec)\n",
      "INFO:tensorflow:global_step/sec: 412.846\n",
      "INFO:tensorflow:step = 29501, loss = 0.00102937 (0.241 sec)\n",
      "INFO:tensorflow:global_step/sec: 381.641\n",
      "INFO:tensorflow:step = 29601, loss = 0.000430005 (0.262 sec)\n",
      "INFO:tensorflow:global_step/sec: 496.994\n",
      "INFO:tensorflow:step = 29701, loss = 0.00025649 (0.201 sec)\n",
      "INFO:tensorflow:global_step/sec: 362.283\n",
      "INFO:tensorflow:step = 29801, loss = 0.000605404 (0.276 sec)\n",
      "INFO:tensorflow:global_step/sec: 475.267\n",
      "INFO:tensorflow:step = 29901, loss = 0.00077305 (0.210 sec)\n",
      "INFO:tensorflow:global_step/sec: 352.078\n",
      "INFO:tensorflow:step = 30001, loss = 0.000108064 (0.284 sec)\n",
      "INFO:tensorflow:global_step/sec: 372.823\n",
      "INFO:tensorflow:step = 30101, loss = 0.000590002 (0.264 sec)\n",
      "INFO:tensorflow:global_step/sec: 394.91\n",
      "INFO:tensorflow:step = 30201, loss = 0.000234104 (0.257 sec)\n",
      "INFO:tensorflow:global_step/sec: 401.566\n",
      "INFO:tensorflow:step = 30301, loss = 0.00065963 (0.250 sec)\n",
      "INFO:tensorflow:global_step/sec: 364.927\n",
      "INFO:tensorflow:step = 30401, loss = 0.00115885 (0.274 sec)\n",
      "INFO:tensorflow:global_step/sec: 406.463\n",
      "INFO:tensorflow:step = 30501, loss = 0.000882715 (0.245 sec)\n",
      "INFO:tensorflow:global_step/sec: 389.066\n",
      "INFO:tensorflow:step = 30601, loss = 0.00145138 (0.260 sec)\n",
      "INFO:tensorflow:global_step/sec: 430.274\n",
      "INFO:tensorflow:step = 30701, loss = 0.000891694 (0.225 sec)\n",
      "INFO:tensorflow:global_step/sec: 395.537\n",
      "INFO:tensorflow:step = 30801, loss = 0.00118 (0.253 sec)\n",
      "INFO:tensorflow:global_step/sec: 494.536\n",
      "INFO:tensorflow:step = 30901, loss = 0.00115266 (0.202 sec)\n",
      "INFO:tensorflow:global_step/sec: 438.946\n",
      "INFO:tensorflow:step = 31001, loss = 0.000961674 (0.232 sec)\n",
      "INFO:tensorflow:global_step/sec: 459.964\n",
      "INFO:tensorflow:step = 31101, loss = 0.00149113 (0.229 sec)\n",
      "INFO:tensorflow:global_step/sec: 485.905\n",
      "INFO:tensorflow:step = 31201, loss = 0.000568497 (0.190 sec)\n",
      "INFO:tensorflow:global_step/sec: 447.99\n",
      "INFO:tensorflow:step = 31301, loss = 0.000460989 (0.228 sec)\n",
      "INFO:tensorflow:global_step/sec: 425.133\n",
      "INFO:tensorflow:step = 31401, loss = 0.000649023 (0.246 sec)\n",
      "INFO:tensorflow:global_step/sec: 484.942\n",
      "INFO:tensorflow:step = 31501, loss = 0.000197947 (0.191 sec)\n",
      "INFO:tensorflow:global_step/sec: 457.017\n",
      "INFO:tensorflow:step = 31601, loss = 6.59552e-05 (0.219 sec)\n",
      "INFO:tensorflow:global_step/sec: 536.464\n",
      "INFO:tensorflow:step = 31701, loss = 0.000625275 (0.220 sec)\n",
      "INFO:tensorflow:global_step/sec: 467.275\n",
      "INFO:tensorflow:step = 31801, loss = 9.4202e-05 (0.185 sec)\n",
      "INFO:tensorflow:global_step/sec: 414.244\n",
      "INFO:tensorflow:step = 31901, loss = 0.000756386 (0.253 sec)\n",
      "INFO:tensorflow:global_step/sec: 484.959\n",
      "INFO:tensorflow:step = 32001, loss = 0.000197061 (0.191 sec)\n",
      "INFO:tensorflow:global_step/sec: 467.275\n",
      "INFO:tensorflow:step = 32101, loss = 0.000425281 (0.214 sec)\n",
      "INFO:tensorflow:global_step/sec: 572.709\n",
      "INFO:tensorflow:step = 32201, loss = 0.00102074 (0.179 sec)\n",
      "INFO:tensorflow:global_step/sec: 437.042\n",
      "INFO:tensorflow:step = 32301, loss = 0.00041044 (0.225 sec)\n",
      "INFO:tensorflow:global_step/sec: 511.238\n",
      "INFO:tensorflow:step = 32401, loss = 0.000104019 (0.196 sec)\n",
      "INFO:tensorflow:global_step/sec: 558.649\n",
      "INFO:tensorflow:step = 32501, loss = 0.000511087 (0.179 sec)\n",
      "INFO:tensorflow:global_step/sec: 468.153\n",
      "INFO:tensorflow:step = 32601, loss = 0.000111053 (0.214 sec)\n",
      "INFO:tensorflow:global_step/sec: 516.481\n",
      "INFO:tensorflow:step = 32701, loss = 0.00126878 (0.198 sec)\n",
      "INFO:tensorflow:global_step/sec: 460.783\n",
      "INFO:tensorflow:step = 32801, loss = 0.000895224 (0.217 sec)\n",
      "INFO:tensorflow:global_step/sec: 465.07\n",
      "INFO:tensorflow:step = 32901, loss = 0.000406547 (0.215 sec)\n",
      "INFO:tensorflow:global_step/sec: 494.536\n",
      "INFO:tensorflow:step = 33001, loss = 0.000497633 (0.203 sec)\n",
      "INFO:tensorflow:global_step/sec: 447.624\n",
      "INFO:tensorflow:step = 33101, loss = 0.00210473 (0.218 sec)\n",
      "INFO:tensorflow:global_step/sec: 553.078\n",
      "INFO:tensorflow:step = 33201, loss = 0.000945465 (0.185 sec)\n",
      "INFO:tensorflow:global_step/sec: 450.435\n",
      "INFO:tensorflow:step = 33301, loss = 0.000309007 (0.218 sec)\n",
      "INFO:tensorflow:global_step/sec: 487.323\n",
      "INFO:tensorflow:step = 33401, loss = 0.00123292 (0.205 sec)\n",
      "INFO:tensorflow:global_step/sec: 516.52\n",
      "INFO:tensorflow:step = 33501, loss = 0.000225348 (0.194 sec)\n",
      "INFO:tensorflow:global_step/sec: 566.879\n",
      "INFO:tensorflow:step = 33601, loss = 0.000940695 (0.179 sec)\n",
      "INFO:tensorflow:global_step/sec: 495.036\n",
      "INFO:tensorflow:step = 33701, loss = 0.000726792 (0.203 sec)\n",
      "INFO:tensorflow:global_step/sec: 405.837\n",
      "INFO:tensorflow:step = 33801, loss = 0.00123973 (0.242 sec)\n",
      "INFO:tensorflow:global_step/sec: 525.758\n",
      "INFO:tensorflow:step = 33901, loss = 0.00107691 (0.190 sec)\n",
      "INFO:tensorflow:global_step/sec: 502.5\n",
      "INFO:tensorflow:step = 34001, loss = 0.000640319 (0.199 sec)\n",
      "INFO:tensorflow:global_step/sec: 542.284\n",
      "INFO:tensorflow:step = 34101, loss = 0.000919945 (0.189 sec)\n",
      "INFO:tensorflow:global_step/sec: 363.87\n",
      "INFO:tensorflow:step = 34201, loss = 0.00121334 (0.270 sec)\n",
      "INFO:tensorflow:global_step/sec: 478.004\n",
      "INFO:tensorflow:step = 34301, loss = 0.000127433 (0.209 sec)\n",
      "INFO:tensorflow:global_step/sec: 528.537\n",
      "INFO:tensorflow:step = 34401, loss = 0.000417725 (0.189 sec)\n",
      "INFO:tensorflow:global_step/sec: 477.088\n",
      "INFO:tensorflow:step = 34501, loss = 0.000630038 (0.210 sec)\n",
      "INFO:tensorflow:global_step/sec: 572.733\n",
      "INFO:tensorflow:step = 34601, loss = 0.000360699 (0.175 sec)\n",
      "INFO:tensorflow:global_step/sec: 466.845\n",
      "INFO:tensorflow:step = 34701, loss = 0.00173927 (0.230 sec)\n",
      "INFO:tensorflow:global_step/sec: 485.905\n",
      "INFO:tensorflow:step = 34801, loss = 0.000371267 (0.190 sec)\n",
      "INFO:tensorflow:global_step/sec: 513.866\n",
      "INFO:tensorflow:step = 34901, loss = 0.000374646 (0.195 sec)\n",
      "INFO:tensorflow:global_step/sec: 474.379\n",
      "INFO:tensorflow:step = 35001, loss = 0.000305932 (0.211 sec)\n",
      "INFO:tensorflow:global_step/sec: 561.143\n",
      "INFO:tensorflow:step = 35101, loss = 0.00104693 (0.182 sec)\n",
      "INFO:tensorflow:global_step/sec: 393.661\n",
      "INFO:tensorflow:step = 35201, loss = 0.000340343 (0.254 sec)\n",
      "INFO:tensorflow:global_step/sec: 452.443\n",
      "INFO:tensorflow:step = 35301, loss = 0.000153641 (0.221 sec)\n",
      "INFO:tensorflow:global_step/sec: 413.182\n",
      "INFO:tensorflow:step = 35401, loss = 0.000996451 (0.243 sec)\n",
      "INFO:tensorflow:global_step/sec: 421.912\n",
      "INFO:tensorflow:step = 35501, loss = 0.000171532 (0.232 sec)\n",
      "INFO:tensorflow:global_step/sec: 475.268\n",
      "INFO:tensorflow:step = 35601, loss = 0.000374124 (0.210 sec)\n",
      "INFO:tensorflow:global_step/sec: 465.956\n",
      "INFO:tensorflow:step = 35701, loss = 0.000663798 (0.220 sec)\n",
      "INFO:tensorflow:global_step/sec: 430.274\n",
      "INFO:tensorflow:step = 35801, loss = 0.000831119 (0.227 sec)\n",
      "INFO:tensorflow:global_step/sec: 511.238\n",
      "INFO:tensorflow:step = 35901, loss = 0.000574592 (0.211 sec)\n",
      "INFO:tensorflow:global_step/sec: 485.905\n",
      "INFO:tensorflow:step = 36001, loss = 0.000313818 (0.190 sec)\n",
      "INFO:tensorflow:global_step/sec: 495.501\n",
      "INFO:tensorflow:step = 36101, loss = 0.00114753 (0.202 sec)\n",
      "INFO:tensorflow:global_step/sec: 510.191\n",
      "INFO:tensorflow:step = 36201, loss = 0.000859921 (0.196 sec)\n",
      "INFO:tensorflow:global_step/sec: 523.008\n",
      "INFO:tensorflow:step = 36301, loss = 9.09132e-05 (0.191 sec)\n",
      "INFO:tensorflow:global_step/sec: 516.52\n",
      "INFO:tensorflow:step = 36401, loss = 0.000575347 (0.195 sec)\n",
      "INFO:tensorflow:global_step/sec: 470.355\n",
      "INFO:tensorflow:step = 36501, loss = 0.000190056 (0.213 sec)\n",
      "INFO:tensorflow:global_step/sec: 476.64\n",
      "INFO:tensorflow:step = 36601, loss = 0.000239809 (0.209 sec)\n",
      "INFO:tensorflow:global_step/sec: 514.928\n",
      "INFO:tensorflow:step = 36701, loss = 0.00044674 (0.194 sec)\n",
      "INFO:tensorflow:global_step/sec: 513.866\n",
      "INFO:tensorflow:step = 36801, loss = 0.000904511 (0.210 sec)\n",
      "INFO:tensorflow:global_step/sec: 548.823\n",
      "INFO:tensorflow:step = 36901, loss = 0.000720104 (0.185 sec)\n",
      "INFO:tensorflow:global_step/sec: 469.035\n",
      "INFO:tensorflow:step = 37001, loss = 0.000412932 (0.195 sec)\n",
      "INFO:tensorflow:global_step/sec: 467.275\n",
      "INFO:tensorflow:step = 37101, loss = 0.000163695 (0.214 sec)\n",
      "INFO:tensorflow:global_step/sec: 481.228\n",
      "INFO:tensorflow:step = 37201, loss = 0.000264861 (0.208 sec)\n",
      "INFO:tensorflow:global_step/sec: 540.53\n",
      "INFO:tensorflow:step = 37301, loss = 0.000719457 (0.201 sec)\n",
      "INFO:tensorflow:global_step/sec: 481.228\n",
      "INFO:tensorflow:step = 37401, loss = 0.000339975 (0.192 sec)\n",
      "INFO:tensorflow:global_step/sec: 547.026\n",
      "INFO:tensorflow:step = 37501, loss = 0.000324403 (0.187 sec)\n",
      "INFO:tensorflow:global_step/sec: 467.243\n",
      "INFO:tensorflow:step = 37601, loss = 0.000306283 (0.214 sec)\n",
      "INFO:tensorflow:global_step/sec: 469.437\n",
      "INFO:tensorflow:step = 37701, loss = 0.000100169 (0.213 sec)\n",
      "INFO:tensorflow:global_step/sec: 422.98\n",
      "INFO:tensorflow:step = 37801, loss = 0.000432111 (0.232 sec)\n",
      "INFO:tensorflow:global_step/sec: 503.515\n",
      "INFO:tensorflow:step = 37901, loss = 0.00140533 (0.199 sec)\n",
      "INFO:tensorflow:global_step/sec: 574.703\n",
      "INFO:tensorflow:step = 38001, loss = 0.000294866 (0.178 sec)\n",
      "INFO:tensorflow:global_step/sec: 499.968\n",
      "INFO:tensorflow:step = 38101, loss = 0.00119604 (0.200 sec)\n",
      "INFO:tensorflow:global_step/sec: 492.597\n",
      "INFO:tensorflow:step = 38201, loss = 0.000891358 (0.199 sec)\n",
      "INFO:tensorflow:global_step/sec: 453.717\n",
      "INFO:tensorflow:step = 38301, loss = 0.000129545 (0.220 sec)\n",
      "INFO:tensorflow:global_step/sec: 514.387\n",
      "INFO:tensorflow:step = 38401, loss = 0.000193591 (0.194 sec)\n",
      "INFO:tensorflow:global_step/sec: 502.499\n",
      "INFO:tensorflow:step = 38501, loss = 0.00049303 (0.199 sec)\n",
      "INFO:tensorflow:global_step/sec: 497.987\n",
      "INFO:tensorflow:step = 38601, loss = 0.000675174 (0.201 sec)\n",
      "INFO:tensorflow:global_step/sec: 528.537\n",
      "INFO:tensorflow:step = 38701, loss = 0.000358051 (0.189 sec)\n",
      "INFO:tensorflow:global_step/sec: 513.866\n",
      "INFO:tensorflow:step = 38801, loss = 0.000242674 (0.195 sec)\n",
      "INFO:tensorflow:global_step/sec: 505.037\n",
      "INFO:tensorflow:step = 38901, loss = 0.00127899 (0.200 sec)\n",
      "INFO:tensorflow:global_step/sec: 381.641\n",
      "INFO:tensorflow:step = 39001, loss = 0.000262657 (0.264 sec)\n",
      "INFO:tensorflow:global_step/sec: 452.877\n",
      "INFO:tensorflow:step = 39101, loss = 0.000705544 (0.221 sec)\n",
      "INFO:tensorflow:global_step/sec: 415.248\n",
      "INFO:tensorflow:step = 39201, loss = 0.000659797 (0.241 sec)\n",
      "INFO:tensorflow:global_step/sec: 435.915\n",
      "INFO:tensorflow:step = 39301, loss = 0.000316944 (0.225 sec)\n",
      "INFO:tensorflow:global_step/sec: 550.014\n",
      "INFO:tensorflow:step = 39401, loss = 0.000639012 (0.186 sec)\n",
      "INFO:tensorflow:global_step/sec: 404.818\n",
      "INFO:tensorflow:step = 39501, loss = 0.000241011 (0.276 sec)\n",
      "INFO:tensorflow:global_step/sec: 438.974\n",
      "INFO:tensorflow:step = 39601, loss = 0.000744708 (0.195 sec)\n",
      "INFO:tensorflow:global_step/sec: 538.765\n",
      "INFO:tensorflow:step = 39701, loss = 0.000178735 (0.190 sec)\n",
      "INFO:tensorflow:global_step/sec: 431.371\n",
      "INFO:tensorflow:step = 39801, loss = 0.00115475 (0.231 sec)\n",
      "INFO:tensorflow:global_step/sec: 483.999\n",
      "INFO:tensorflow:step = 39901, loss = 0.00126455 (0.209 sec)\n",
      "INFO:tensorflow:Saving checkpoints for 40000 into C:\\Users\\xinliu\\AppData\\Local\\Temp\\tmpcwyvyj6p\\model.ckpt.\n"
     ]
    },
    {
     "name": "stdout",
     "output_type": "stream",
     "text": [
      "INFO:tensorflow:Loss for final step: 0.000402969.\n"
     ]
    },
    {
     "data": {
      "text/plain": [
       "SKCompat()"
      ]
     },
     "execution_count": 63,
     "metadata": {},
     "output_type": "execute_result"
    }
   ],
   "source": [
    "dnn_clf.fit(X_train, y_train, batch_size=50, steps=40000)"
   ]
  },
  {
   "cell_type": "markdown",
   "metadata": {
    "collapsed": true
   },
   "source": [
    "Prediction using the dnn model built by tf.contrib.learn.dnn"
   ]
  },
  {
   "cell_type": "code",
   "execution_count": 64,
   "metadata": {},
   "outputs": [
    {
     "name": "stdout",
     "output_type": "stream",
     "text": [
      "INFO:tensorflow:Restoring parameters from C:\\Users\\xinliu\\AppData\\Local\\Temp\\tmpcwyvyj6p\\model.ckpt-40000\n"
     ]
    }
   ],
   "source": [
    "y_pred = dnn_clf.predict(X_test)"
   ]
  },
  {
   "cell_type": "code",
   "execution_count": 65,
   "metadata": {},
   "outputs": [
    {
     "data": {
      "text/plain": [
       "dict_keys(['probabilities', 'classes', 'logits'])"
      ]
     },
     "execution_count": 65,
     "metadata": {},
     "output_type": "execute_result"
    }
   ],
   "source": [
    "y_pred.keys()"
   ]
  },
  {
   "cell_type": "code",
   "execution_count": 66,
   "metadata": {
    "collapsed": true
   },
   "outputs": [],
   "source": [
    "from sklearn.metrics import accuracy_score"
   ]
  },
  {
   "cell_type": "code",
   "execution_count": 67,
   "metadata": {},
   "outputs": [
    {
     "data": {
      "text/plain": [
       "0.98209999999999997"
      ]
     },
     "execution_count": 67,
     "metadata": {},
     "output_type": "execute_result"
    }
   ],
   "source": [
    "accuracy_dnn = accuracy_score(y_test, y_pred['classes'])\n",
    "accuracy_dnn"
   ]
  },
  {
   "cell_type": "code",
   "execution_count": 68,
   "metadata": {
    "collapsed": true
   },
   "outputs": [],
   "source": [
    "from sklearn.metrics import log_loss"
   ]
  },
  {
   "cell_type": "code",
   "execution_count": 69,
   "metadata": {},
   "outputs": [
    {
     "data": {
      "text/plain": [
       "0.071960262984114065"
      ]
     },
     "execution_count": 69,
     "metadata": {},
     "output_type": "execute_result"
    }
   ],
   "source": [
    "log_loss_val = log_loss(y_test, y_pred['probabilities'])\n",
    "log_loss_val"
   ]
  },
  {
   "cell_type": "code",
   "execution_count": 74,
   "metadata": {},
   "outputs": [
    {
     "name": "stdout",
     "output_type": "stream",
     "text": [
      "WARNING:tensorflow:From C:\\Users\\xinliu\\AppData\\Local\\Continuum\\Anaconda3\\lib\\site-packages\\tensorflow\\contrib\\learn\\python\\learn\\estimators\\head.py:625: scalar_summary (from tensorflow.python.ops.logging_ops) is deprecated and will be removed after 2016-11-30.\n",
      "Instructions for updating:\n",
      "Please switch to tf.summary.scalar. Note that tf.summary.scalar uses the node name instead of the tag. This means that TensorFlow will automatically de-duplicate summary names based on the scope they are created in. Also, passing a tensor or list of tags to a scalar summary op is no longer supported.\n",
      "INFO:tensorflow:Starting evaluation at 2017-08-02-15:33:08\n",
      "INFO:tensorflow:Restoring parameters from C:\\Users\\xinliu\\AppData\\Local\\Temp\\tmpcwyvyj6p\\model.ckpt-40000\n",
      "INFO:tensorflow:Finished evaluation at 2017-08-02-15:33:08\n",
      "INFO:tensorflow:Saving dict for global step 40000: accuracy = 0.9821, global_step = 40000, loss = 0.0711633\n"
     ]
    },
    {
     "data": {
      "text/plain": [
       "{'accuracy': 0.98210001, 'global_step': 40000, 'loss': 0.071163259}"
      ]
     },
     "execution_count": 74,
     "metadata": {},
     "output_type": "execute_result"
    }
   ],
   "source": [
    "dnn_clf.score(X_test, y_test)"
   ]
  },
  {
   "cell_type": "markdown",
   "metadata": {},
   "source": [
    "## build dnn by using plain tensorflow"
   ]
  },
  {
   "cell_type": "code",
   "execution_count": 119,
   "metadata": {
    "collapsed": true
   },
   "outputs": [],
   "source": [
    "n_inputs = 28 * 28"
   ]
  },
  {
   "cell_type": "code",
   "execution_count": 120,
   "metadata": {
    "collapsed": true
   },
   "outputs": [],
   "source": [
    "num_unit_hidden_1 = 300\n",
    "num_unit_hidden_2 = 100"
   ]
  },
  {
   "cell_type": "code",
   "execution_count": 121,
   "metadata": {
    "collapsed": true
   },
   "outputs": [],
   "source": [
    "n_classes = 10"
   ]
  },
  {
   "cell_type": "code",
   "execution_count": 122,
   "metadata": {
    "collapsed": true
   },
   "outputs": [],
   "source": [
    "reset_graph()"
   ]
  },
  {
   "cell_type": "code",
   "execution_count": 123,
   "metadata": {
    "collapsed": true
   },
   "outputs": [],
   "source": [
    "X = tf.placeholder(dtype = tf.float32, shape = (None, n_inputs), name = 'x')\n",
    "y = tf.placeholder(dtype = tf.int64, shape = (None), name = 'y')"
   ]
  },
  {
   "cell_type": "markdown",
   "metadata": {},
   "source": [
    "1.Define a neuron layer function with name_scope"
   ]
  },
  {
   "cell_type": "code",
   "execution_count": 124,
   "metadata": {
    "collapsed": true
   },
   "outputs": [],
   "source": [
    "def neuron_layer(X, n_neurons, name, activation = None):\n",
    "    with tf.name_scope(name):\n",
    "        # 1. get the dimension of attributes\n",
    "        n_inputs = int(X.get_shape()[1])\n",
    "        \n",
    "        # 2. initialize weights\n",
    "        std_dev = 2 / np.sqrt(n_inputs)\n",
    "        initializer = tf.truncated_normal(shape=((n_inputs, n_neurons)), stddev = std_dev, dtype=tf.float32)\n",
    "        W = tf.Variable(initializer, name='weights')\n",
    "        \n",
    "        # 3. padding the bias column\n",
    "        b = tf.Variable(tf.zeros([n_neurons]), name='biases')\n",
    "        \n",
    "        # 4. matrix multiplication\n",
    "        Z = tf.add(tf.matmul(X, W), b, name='score')\n",
    "        \n",
    "        # 5. feed scores to activation function\n",
    "        if activation is not None:\n",
    "            return activation(Z)\n",
    "        else:\n",
    "            return Z"
   ]
  },
  {
   "cell_type": "markdown",
   "metadata": {},
   "source": [
    "2.Define the architecture of dnn with having two layers and relu as activation function"
   ]
  },
  {
   "cell_type": "code",
   "execution_count": 125,
   "metadata": {
    "collapsed": true
   },
   "outputs": [],
   "source": [
    "with tf.name_scope('dnn'):\n",
    "    hidden_1 = neuron_layer(X, num_unit_hidden_1, name = 'hidden_1', activation=tf.nn.relu)\n",
    "    hidden_2 = neuron_layer(hidden_1, num_unit_hidden_2, name = 'hidden_2', activation=tf.nn.relu)\n",
    "    scores   = neuron_layer(hidden_2, n_classes, name = 'output')"
   ]
  },
  {
   "cell_type": "markdown",
   "metadata": {},
   "source": [
    "3.Define the function to evaluate loss value and cost: \n",
    "\n",
    "Here, we use sparse_softmax_cross_entropy_with_logits(): it computes the cross entropy based on the “logits”\n",
    "(i.e., the output of the network before going through the softmax activation function), and it expects labels\n",
    "in the form of integers ranging from 0 to the number of classes minus 1 (in our case, from 0 to 9). This\n",
    "will give us a 1D tensor containing the cross entropy for each instance. We can then use TensorFlow’s\n",
    "reduce_mean() function to compute the mean cross entropy over all instances.\n",
    "\n",
    "another function called softmax_cross_entropy_with_logits(), which takes labels in the form of one-hot vectors (instead of ints from 0 to the number\n",
    "of classes minus 1)."
   ]
  },
  {
   "cell_type": "code",
   "execution_count": 130,
   "metadata": {
    "collapsed": true
   },
   "outputs": [],
   "source": [
    "with tf.name_scope('loss'):\n",
    "    cross_entropy = tf.nn.sparse_softmax_cross_entropy_with_logits(labels=y, logits=scores)\n",
    "    loss = tf.reduce_mean(cross_entropy, name='loss')"
   ]
  },
  {
   "cell_type": "markdown",
   "metadata": {},
   "source": [
    "4.Define an optimizer and object function to minimize"
   ]
  },
  {
   "cell_type": "code",
   "execution_count": 131,
   "metadata": {
    "collapsed": true
   },
   "outputs": [],
   "source": [
    "learning_rate = 0.01"
   ]
  },
  {
   "cell_type": "code",
   "execution_count": 132,
   "metadata": {
    "collapsed": true
   },
   "outputs": [],
   "source": [
    "with tf.name_scope('train'):\n",
    "    optimzier = tf.train.GradientDescentOptimizer(learning_rate = learning_rate)\n",
    "    train_obj = optimzier.minimize(loss_val)"
   ]
  },
  {
   "cell_type": "markdown",
   "metadata": {},
   "source": [
    "5.Define a function to output a specific class and probabilities"
   ]
  },
  {
   "cell_type": "code",
   "execution_count": 137,
   "metadata": {
    "collapsed": true
   },
   "outputs": [],
   "source": [
    "with tf.name_scope('eval'):\n",
    "    # k: An `int`. Number of top elements to look at for computing precision.\n",
    "    # it returns a `Tensor` of type `bool`. Computed Precision at `k` as a `bool Tensor`.\n",
    "    class_pred = tf.nn.in_top_k(scores, y, 1)\n",
    "    \n",
    "    # casts a bool tensor to a float32 variable\n",
    "    accuracy = tf.reduce_mean(tf.cast(class_pred, tf.float32))"
   ]
  },
  {
   "cell_type": "code",
   "execution_count": 138,
   "metadata": {
    "collapsed": true
   },
   "outputs": [],
   "source": [
    "init = tf.global_variables_initializer()\n",
    "saver = tf.train.Saver()"
   ]
  },
  {
   "cell_type": "code",
   "execution_count": 147,
   "metadata": {
    "collapsed": true
   },
   "outputs": [],
   "source": [
    "n_epochs = 40\n",
    "batch_size = 50\n",
    "n_batches = int(np.ceil(mnist.train.num_examples / batch_size))"
   ]
  },
  {
   "cell_type": "markdown",
   "metadata": {},
   "source": [
    "6.Run the main loop to build FNN"
   ]
  },
  {
   "cell_type": "code",
   "execution_count": 150,
   "metadata": {},
   "outputs": [
    {
     "name": "stdout",
     "output_type": "stream",
     "text": [
      "0 Train accuracy: 0.9 Test accuracy: 0.9117\n",
      "1 Train accuracy: 0.92 Test accuracy: 0.9279\n",
      "2 Train accuracy: 0.96 Test accuracy: 0.9409\n",
      "3 Train accuracy: 0.98 Test accuracy: 0.9454\n",
      "4 Train accuracy: 0.94 Test accuracy: 0.9504\n",
      "5 Train accuracy: 0.96 Test accuracy: 0.9547\n",
      "6 Train accuracy: 1.0 Test accuracy: 0.9565\n",
      "7 Train accuracy: 0.98 Test accuracy: 0.9602\n",
      "8 Train accuracy: 0.9 Test accuracy: 0.9614\n",
      "9 Train accuracy: 0.96 Test accuracy: 0.964\n",
      "10 Train accuracy: 1.0 Test accuracy: 0.9659\n",
      "11 Train accuracy: 1.0 Test accuracy: 0.9669\n",
      "12 Train accuracy: 1.0 Test accuracy: 0.9679\n",
      "13 Train accuracy: 0.94 Test accuracy: 0.9694\n",
      "14 Train accuracy: 1.0 Test accuracy: 0.9711\n",
      "15 Train accuracy: 0.96 Test accuracy: 0.9709\n",
      "16 Train accuracy: 1.0 Test accuracy: 0.9718\n",
      "17 Train accuracy: 0.96 Test accuracy: 0.972\n",
      "18 Train accuracy: 0.96 Test accuracy: 0.9732\n",
      "19 Train accuracy: 1.0 Test accuracy: 0.9731\n",
      "20 Train accuracy: 1.0 Test accuracy: 0.9739\n",
      "21 Train accuracy: 0.98 Test accuracy: 0.974\n",
      "22 Train accuracy: 0.98 Test accuracy: 0.9751\n",
      "23 Train accuracy: 0.98 Test accuracy: 0.9756\n",
      "24 Train accuracy: 1.0 Test accuracy: 0.9759\n",
      "25 Train accuracy: 1.0 Test accuracy: 0.9761\n",
      "26 Train accuracy: 1.0 Test accuracy: 0.9757\n",
      "27 Train accuracy: 1.0 Test accuracy: 0.9766\n",
      "28 Train accuracy: 1.0 Test accuracy: 0.9762\n",
      "29 Train accuracy: 1.0 Test accuracy: 0.9764\n",
      "30 Train accuracy: 0.98 Test accuracy: 0.9768\n",
      "31 Train accuracy: 1.0 Test accuracy: 0.9765\n",
      "32 Train accuracy: 1.0 Test accuracy: 0.9768\n",
      "33 Train accuracy: 1.0 Test accuracy: 0.9773\n",
      "34 Train accuracy: 1.0 Test accuracy: 0.9777\n",
      "35 Train accuracy: 1.0 Test accuracy: 0.9777\n",
      "36 Train accuracy: 1.0 Test accuracy: 0.978\n",
      "37 Train accuracy: 1.0 Test accuracy: 0.9784\n",
      "38 Train accuracy: 1.0 Test accuracy: 0.9784\n",
      "39 Train accuracy: 1.0 Test accuracy: 0.9779\n"
     ]
    }
   ],
   "source": [
    "with tf.Session() as sess:\n",
    "    sess.run(init)\n",
    "    for epoch in range(n_epochs):\n",
    "        # run mini-batch\n",
    "        for batch_idx in range(n_batches):\n",
    "            # retrive sub-training set for run mini-batch\n",
    "            X_batch, y_batch = mnist.train.next_batch(batch_size)\n",
    "            sess.run(train_obj, feed_dict={X: X_batch, y: y_batch})\n",
    "        # print-out the accuracy\n",
    "        accuracy_train = accuracy.eval(feed_dict={X: X_batch, y: y_batch})\n",
    "        accuracy_test  = accuracy.eval(feed_dict={X: mnist.test.images, y:mnist.test.labels})\n",
    "        \n",
    "        print(epoch, \"Train accuracy:\", accuracy_train, \"Test accuracy:\", accuracy_test)\n",
    "    \n",
    "    save_path = saver.save(sess, './stored_models/plain_tf_fnn.ckpt')"
   ]
  },
  {
   "cell_type": "markdown",
   "metadata": {},
   "source": [
    "re-store the FNN built and use it to make prediction"
   ]
  },
  {
   "cell_type": "code",
   "execution_count": 158,
   "metadata": {},
   "outputs": [
    {
     "name": "stdout",
     "output_type": "stream",
     "text": [
      "INFO:tensorflow:Restoring parameters from ./stored_models/plain_tf_fnn.ckpt\n"
     ]
    }
   ],
   "source": [
    "with tf.Session() as sess:\n",
    "    saver.restore(sess, './stored_models/plain_tf_fnn.ckpt')\n",
    "    X_new_scaled = mnist.test.images[:20]\n",
    "    scores = scores.eval(feed_dict={X:X_new_scaled})\n",
    "    y_pred = np.argmax(scores, axis=1)"
   ]
  },
  {
   "cell_type": "code",
   "execution_count": 159,
   "metadata": {},
   "outputs": [
    {
     "name": "stdout",
     "output_type": "stream",
     "text": [
      "Predicted classes: [7 2 1 0 4 1 4 9 5 9 0 6 9 0 1 5 9 7 3 4]\n",
      "Actual classes:    [7 2 1 0 4 1 4 9 5 9 0 6 9 0 1 5 9 7 3 4]\n"
     ]
    }
   ],
   "source": [
    "print('Predicted classes:', y_pred)\n",
    "print('Actual classes:   ', mnist.test.labels[:20])"
   ]
  },
  {
   "cell_type": "code",
   "execution_count": 160,
   "metadata": {
    "collapsed": true
   },
   "outputs": [],
   "source": [
    "from IPython.display import clear_output, Image, display, HTML\n",
    "\n",
    "def strip_consts(graph_def, max_const_size=32):\n",
    "    \"\"\"Strip large constant values from graph_def.\"\"\"\n",
    "    strip_def = tf.GraphDef()\n",
    "    for n0 in graph_def.node:\n",
    "        n = strip_def.node.add() \n",
    "        n.MergeFrom(n0)\n",
    "        if n.op == 'Const':\n",
    "            tensor = n.attr['value'].tensor\n",
    "            size = len(tensor.tensor_content)\n",
    "            if size > max_const_size:\n",
    "                tensor.tensor_content = b\"<stripped %d bytes>\"%size\n",
    "    return strip_def\n",
    "\n",
    "def show_graph(graph_def, max_const_size=32):\n",
    "    \"\"\"Visualize TensorFlow graph.\"\"\"\n",
    "    if hasattr(graph_def, 'as_graph_def'):\n",
    "        graph_def = graph_def.as_graph_def()\n",
    "    strip_def = strip_consts(graph_def, max_const_size=max_const_size)\n",
    "    code = \"\"\"\n",
    "        <script>\n",
    "          function load() {{\n",
    "            document.getElementById(\"{id}\").pbtxt = {data};\n",
    "          }}\n",
    "        </script>\n",
    "        <link rel=\"import\" href=\"https://tensorboard.appspot.com/tf-graph-basic.build.html\" onload=load()>\n",
    "        <div style=\"height:600px\">\n",
    "          <tf-graph-basic id=\"{id}\"></tf-graph-basic>\n",
    "        </div>\n",
    "    \"\"\".format(data=repr(str(strip_def)), id='graph'+str(np.random.rand()))\n",
    "\n",
    "    iframe = \"\"\"\n",
    "        <iframe seamless style=\"width:1200px;height:620px;border:0\" srcdoc=\"{}\"></iframe>\n",
    "    \"\"\".format(code.replace('\"', '&quot;'))\n",
    "    display(HTML(iframe))"
   ]
  },
  {
   "cell_type": "code",
   "execution_count": 161,
   "metadata": {},
   "outputs": [
    {
     "data": {
      "text/html": [
       "\n",
       "        <iframe seamless style=\"width:1200px;height:620px;border:0\" srcdoc=\"\n",
       "        <script>\n",
       "          function load() {\n",
       "            document.getElementById(&quot;graph0.17752211726544542&quot;).pbtxt = 'node {\\n  name: &quot;x&quot;\\n  op: &quot;Placeholder&quot;\\n  attr {\\n    key: &quot;dtype&quot;\\n    value {\\n      type: DT_FLOAT\\n    }\\n  }\\n  attr {\\n    key: &quot;shape&quot;\\n    value {\\n      shape {\\n        dim {\\n          size: -1\\n        }\\n        dim {\\n          size: 784\\n        }\\n      }\\n    }\\n  }\\n}\\nnode {\\n  name: &quot;y&quot;\\n  op: &quot;Placeholder&quot;\\n  attr {\\n    key: &quot;dtype&quot;\\n    value {\\n      type: DT_INT64\\n    }\\n  }\\n  attr {\\n    key: &quot;shape&quot;\\n    value {\\n      shape {\\n        unknown_rank: true\\n      }\\n    }\\n  }\\n}\\nnode {\\n  name: &quot;dnn/hidden_1/truncated_normal/shape&quot;\\n  op: &quot;Const&quot;\\n  attr {\\n    key: &quot;dtype&quot;\\n    value {\\n      type: DT_INT32\\n    }\\n  }\\n  attr {\\n    key: &quot;value&quot;\\n    value {\\n      tensor {\\n        dtype: DT_INT32\\n        tensor_shape {\\n          dim {\\n            size: 2\\n          }\\n        }\\n        tensor_content: &quot;\\\\020\\\\003\\\\000\\\\000,\\\\001\\\\000\\\\000&quot;\\n      }\\n    }\\n  }\\n}\\nnode {\\n  name: &quot;dnn/hidden_1/truncated_normal/mean&quot;\\n  op: &quot;Const&quot;\\n  attr {\\n    key: &quot;dtype&quot;\\n    value {\\n      type: DT_FLOAT\\n    }\\n  }\\n  attr {\\n    key: &quot;value&quot;\\n    value {\\n      tensor {\\n        dtype: DT_FLOAT\\n        tensor_shape {\\n        }\\n        float_val: 0.0\\n      }\\n    }\\n  }\\n}\\nnode {\\n  name: &quot;dnn/hidden_1/truncated_normal/stddev&quot;\\n  op: &quot;Const&quot;\\n  attr {\\n    key: &quot;dtype&quot;\\n    value {\\n      type: DT_FLOAT\\n    }\\n  }\\n  attr {\\n    key: &quot;value&quot;\\n    value {\\n      tensor {\\n        dtype: DT_FLOAT\\n        tensor_shape {\\n        }\\n        float_val: 0.0714285746216774\\n      }\\n    }\\n  }\\n}\\nnode {\\n  name: &quot;dnn/hidden_1/truncated_normal/TruncatedNormal&quot;\\n  op: &quot;TruncatedNormal&quot;\\n  input: &quot;dnn/hidden_1/truncated_normal/shape&quot;\\n  attr {\\n    key: &quot;T&quot;\\n    value {\\n      type: DT_INT32\\n    }\\n  }\\n  attr {\\n    key: &quot;dtype&quot;\\n    value {\\n      type: DT_FLOAT\\n    }\\n  }\\n  attr {\\n    key: &quot;seed&quot;\\n    value {\\n      i: 42\\n    }\\n  }\\n  attr {\\n    key: &quot;seed2&quot;\\n    value {\\n      i: 5\\n    }\\n  }\\n}\\nnode {\\n  name: &quot;dnn/hidden_1/truncated_normal/mul&quot;\\n  op: &quot;Mul&quot;\\n  input: &quot;dnn/hidden_1/truncated_normal/TruncatedNormal&quot;\\n  input: &quot;dnn/hidden_1/truncated_normal/stddev&quot;\\n  attr {\\n    key: &quot;T&quot;\\n    value {\\n      type: DT_FLOAT\\n    }\\n  }\\n}\\nnode {\\n  name: &quot;dnn/hidden_1/truncated_normal&quot;\\n  op: &quot;Add&quot;\\n  input: &quot;dnn/hidden_1/truncated_normal/mul&quot;\\n  input: &quot;dnn/hidden_1/truncated_normal/mean&quot;\\n  attr {\\n    key: &quot;T&quot;\\n    value {\\n      type: DT_FLOAT\\n    }\\n  }\\n}\\nnode {\\n  name: &quot;dnn/hidden_1/weights&quot;\\n  op: &quot;VariableV2&quot;\\n  attr {\\n    key: &quot;container&quot;\\n    value {\\n      s: &quot;&quot;\\n    }\\n  }\\n  attr {\\n    key: &quot;dtype&quot;\\n    value {\\n      type: DT_FLOAT\\n    }\\n  }\\n  attr {\\n    key: &quot;shape&quot;\\n    value {\\n      shape {\\n        dim {\\n          size: 784\\n        }\\n        dim {\\n          size: 300\\n        }\\n      }\\n    }\\n  }\\n  attr {\\n    key: &quot;shared_name&quot;\\n    value {\\n      s: &quot;&quot;\\n    }\\n  }\\n}\\nnode {\\n  name: &quot;dnn/hidden_1/weights/Assign&quot;\\n  op: &quot;Assign&quot;\\n  input: &quot;dnn/hidden_1/weights&quot;\\n  input: &quot;dnn/hidden_1/truncated_normal&quot;\\n  attr {\\n    key: &quot;T&quot;\\n    value {\\n      type: DT_FLOAT\\n    }\\n  }\\n  attr {\\n    key: &quot;_class&quot;\\n    value {\\n      list {\\n        s: &quot;loc:@dnn/hidden_1/weights&quot;\\n      }\\n    }\\n  }\\n  attr {\\n    key: &quot;use_locking&quot;\\n    value {\\n      b: true\\n    }\\n  }\\n  attr {\\n    key: &quot;validate_shape&quot;\\n    value {\\n      b: true\\n    }\\n  }\\n}\\nnode {\\n  name: &quot;dnn/hidden_1/weights/read&quot;\\n  op: &quot;Identity&quot;\\n  input: &quot;dnn/hidden_1/weights&quot;\\n  attr {\\n    key: &quot;T&quot;\\n    value {\\n      type: DT_FLOAT\\n    }\\n  }\\n  attr {\\n    key: &quot;_class&quot;\\n    value {\\n      list {\\n        s: &quot;loc:@dnn/hidden_1/weights&quot;\\n      }\\n    }\\n  }\\n}\\nnode {\\n  name: &quot;dnn/hidden_1/zeros&quot;\\n  op: &quot;Const&quot;\\n  attr {\\n    key: &quot;dtype&quot;\\n    value {\\n      type: DT_FLOAT\\n    }\\n  }\\n  attr {\\n    key: &quot;value&quot;\\n    value {\\n      tensor {\\n        dtype: DT_FLOAT\\n        tensor_shape {\\n          dim {\\n            size: 300\\n          }\\n        }\\n        float_val: 0.0\\n      }\\n    }\\n  }\\n}\\nnode {\\n  name: &quot;dnn/hidden_1/biases&quot;\\n  op: &quot;VariableV2&quot;\\n  attr {\\n    key: &quot;container&quot;\\n    value {\\n      s: &quot;&quot;\\n    }\\n  }\\n  attr {\\n    key: &quot;dtype&quot;\\n    value {\\n      type: DT_FLOAT\\n    }\\n  }\\n  attr {\\n    key: &quot;shape&quot;\\n    value {\\n      shape {\\n        dim {\\n          size: 300\\n        }\\n      }\\n    }\\n  }\\n  attr {\\n    key: &quot;shared_name&quot;\\n    value {\\n      s: &quot;&quot;\\n    }\\n  }\\n}\\nnode {\\n  name: &quot;dnn/hidden_1/biases/Assign&quot;\\n  op: &quot;Assign&quot;\\n  input: &quot;dnn/hidden_1/biases&quot;\\n  input: &quot;dnn/hidden_1/zeros&quot;\\n  attr {\\n    key: &quot;T&quot;\\n    value {\\n      type: DT_FLOAT\\n    }\\n  }\\n  attr {\\n    key: &quot;_class&quot;\\n    value {\\n      list {\\n        s: &quot;loc:@dnn/hidden_1/biases&quot;\\n      }\\n    }\\n  }\\n  attr {\\n    key: &quot;use_locking&quot;\\n    value {\\n      b: true\\n    }\\n  }\\n  attr {\\n    key: &quot;validate_shape&quot;\\n    value {\\n      b: true\\n    }\\n  }\\n}\\nnode {\\n  name: &quot;dnn/hidden_1/biases/read&quot;\\n  op: &quot;Identity&quot;\\n  input: &quot;dnn/hidden_1/biases&quot;\\n  attr {\\n    key: &quot;T&quot;\\n    value {\\n      type: DT_FLOAT\\n    }\\n  }\\n  attr {\\n    key: &quot;_class&quot;\\n    value {\\n      list {\\n        s: &quot;loc:@dnn/hidden_1/biases&quot;\\n      }\\n    }\\n  }\\n}\\nnode {\\n  name: &quot;dnn/hidden_1/MatMul&quot;\\n  op: &quot;MatMul&quot;\\n  input: &quot;x&quot;\\n  input: &quot;dnn/hidden_1/weights/read&quot;\\n  attr {\\n    key: &quot;T&quot;\\n    value {\\n      type: DT_FLOAT\\n    }\\n  }\\n  attr {\\n    key: &quot;transpose_a&quot;\\n    value {\\n      b: false\\n    }\\n  }\\n  attr {\\n    key: &quot;transpose_b&quot;\\n    value {\\n      b: false\\n    }\\n  }\\n}\\nnode {\\n  name: &quot;dnn/hidden_1/score&quot;\\n  op: &quot;Add&quot;\\n  input: &quot;dnn/hidden_1/MatMul&quot;\\n  input: &quot;dnn/hidden_1/biases/read&quot;\\n  attr {\\n    key: &quot;T&quot;\\n    value {\\n      type: DT_FLOAT\\n    }\\n  }\\n}\\nnode {\\n  name: &quot;dnn/hidden_1/Relu&quot;\\n  op: &quot;Relu&quot;\\n  input: &quot;dnn/hidden_1/score&quot;\\n  attr {\\n    key: &quot;T&quot;\\n    value {\\n      type: DT_FLOAT\\n    }\\n  }\\n}\\nnode {\\n  name: &quot;dnn/hidden_2/truncated_normal/shape&quot;\\n  op: &quot;Const&quot;\\n  attr {\\n    key: &quot;dtype&quot;\\n    value {\\n      type: DT_INT32\\n    }\\n  }\\n  attr {\\n    key: &quot;value&quot;\\n    value {\\n      tensor {\\n        dtype: DT_INT32\\n        tensor_shape {\\n          dim {\\n            size: 2\\n          }\\n        }\\n        tensor_content: &quot;,\\\\001\\\\000\\\\000d\\\\000\\\\000\\\\000&quot;\\n      }\\n    }\\n  }\\n}\\nnode {\\n  name: &quot;dnn/hidden_2/truncated_normal/mean&quot;\\n  op: &quot;Const&quot;\\n  attr {\\n    key: &quot;dtype&quot;\\n    value {\\n      type: DT_FLOAT\\n    }\\n  }\\n  attr {\\n    key: &quot;value&quot;\\n    value {\\n      tensor {\\n        dtype: DT_FLOAT\\n        tensor_shape {\\n        }\\n        float_val: 0.0\\n      }\\n    }\\n  }\\n}\\nnode {\\n  name: &quot;dnn/hidden_2/truncated_normal/stddev&quot;\\n  op: &quot;Const&quot;\\n  attr {\\n    key: &quot;dtype&quot;\\n    value {\\n      type: DT_FLOAT\\n    }\\n  }\\n  attr {\\n    key: &quot;value&quot;\\n    value {\\n      tensor {\\n        dtype: DT_FLOAT\\n        tensor_shape {\\n        }\\n        float_val: 0.1154700517654419\\n      }\\n    }\\n  }\\n}\\nnode {\\n  name: &quot;dnn/hidden_2/truncated_normal/TruncatedNormal&quot;\\n  op: &quot;TruncatedNormal&quot;\\n  input: &quot;dnn/hidden_2/truncated_normal/shape&quot;\\n  attr {\\n    key: &quot;T&quot;\\n    value {\\n      type: DT_INT32\\n    }\\n  }\\n  attr {\\n    key: &quot;dtype&quot;\\n    value {\\n      type: DT_FLOAT\\n    }\\n  }\\n  attr {\\n    key: &quot;seed&quot;\\n    value {\\n      i: 42\\n    }\\n  }\\n  attr {\\n    key: &quot;seed2&quot;\\n    value {\\n      i: 21\\n    }\\n  }\\n}\\nnode {\\n  name: &quot;dnn/hidden_2/truncated_normal/mul&quot;\\n  op: &quot;Mul&quot;\\n  input: &quot;dnn/hidden_2/truncated_normal/TruncatedNormal&quot;\\n  input: &quot;dnn/hidden_2/truncated_normal/stddev&quot;\\n  attr {\\n    key: &quot;T&quot;\\n    value {\\n      type: DT_FLOAT\\n    }\\n  }\\n}\\nnode {\\n  name: &quot;dnn/hidden_2/truncated_normal&quot;\\n  op: &quot;Add&quot;\\n  input: &quot;dnn/hidden_2/truncated_normal/mul&quot;\\n  input: &quot;dnn/hidden_2/truncated_normal/mean&quot;\\n  attr {\\n    key: &quot;T&quot;\\n    value {\\n      type: DT_FLOAT\\n    }\\n  }\\n}\\nnode {\\n  name: &quot;dnn/hidden_2/weights&quot;\\n  op: &quot;VariableV2&quot;\\n  attr {\\n    key: &quot;container&quot;\\n    value {\\n      s: &quot;&quot;\\n    }\\n  }\\n  attr {\\n    key: &quot;dtype&quot;\\n    value {\\n      type: DT_FLOAT\\n    }\\n  }\\n  attr {\\n    key: &quot;shape&quot;\\n    value {\\n      shape {\\n        dim {\\n          size: 300\\n        }\\n        dim {\\n          size: 100\\n        }\\n      }\\n    }\\n  }\\n  attr {\\n    key: &quot;shared_name&quot;\\n    value {\\n      s: &quot;&quot;\\n    }\\n  }\\n}\\nnode {\\n  name: &quot;dnn/hidden_2/weights/Assign&quot;\\n  op: &quot;Assign&quot;\\n  input: &quot;dnn/hidden_2/weights&quot;\\n  input: &quot;dnn/hidden_2/truncated_normal&quot;\\n  attr {\\n    key: &quot;T&quot;\\n    value {\\n      type: DT_FLOAT\\n    }\\n  }\\n  attr {\\n    key: &quot;_class&quot;\\n    value {\\n      list {\\n        s: &quot;loc:@dnn/hidden_2/weights&quot;\\n      }\\n    }\\n  }\\n  attr {\\n    key: &quot;use_locking&quot;\\n    value {\\n      b: true\\n    }\\n  }\\n  attr {\\n    key: &quot;validate_shape&quot;\\n    value {\\n      b: true\\n    }\\n  }\\n}\\nnode {\\n  name: &quot;dnn/hidden_2/weights/read&quot;\\n  op: &quot;Identity&quot;\\n  input: &quot;dnn/hidden_2/weights&quot;\\n  attr {\\n    key: &quot;T&quot;\\n    value {\\n      type: DT_FLOAT\\n    }\\n  }\\n  attr {\\n    key: &quot;_class&quot;\\n    value {\\n      list {\\n        s: &quot;loc:@dnn/hidden_2/weights&quot;\\n      }\\n    }\\n  }\\n}\\nnode {\\n  name: &quot;dnn/hidden_2/zeros&quot;\\n  op: &quot;Const&quot;\\n  attr {\\n    key: &quot;dtype&quot;\\n    value {\\n      type: DT_FLOAT\\n    }\\n  }\\n  attr {\\n    key: &quot;value&quot;\\n    value {\\n      tensor {\\n        dtype: DT_FLOAT\\n        tensor_shape {\\n          dim {\\n            size: 100\\n          }\\n        }\\n        float_val: 0.0\\n      }\\n    }\\n  }\\n}\\nnode {\\n  name: &quot;dnn/hidden_2/biases&quot;\\n  op: &quot;VariableV2&quot;\\n  attr {\\n    key: &quot;container&quot;\\n    value {\\n      s: &quot;&quot;\\n    }\\n  }\\n  attr {\\n    key: &quot;dtype&quot;\\n    value {\\n      type: DT_FLOAT\\n    }\\n  }\\n  attr {\\n    key: &quot;shape&quot;\\n    value {\\n      shape {\\n        dim {\\n          size: 100\\n        }\\n      }\\n    }\\n  }\\n  attr {\\n    key: &quot;shared_name&quot;\\n    value {\\n      s: &quot;&quot;\\n    }\\n  }\\n}\\nnode {\\n  name: &quot;dnn/hidden_2/biases/Assign&quot;\\n  op: &quot;Assign&quot;\\n  input: &quot;dnn/hidden_2/biases&quot;\\n  input: &quot;dnn/hidden_2/zeros&quot;\\n  attr {\\n    key: &quot;T&quot;\\n    value {\\n      type: DT_FLOAT\\n    }\\n  }\\n  attr {\\n    key: &quot;_class&quot;\\n    value {\\n      list {\\n        s: &quot;loc:@dnn/hidden_2/biases&quot;\\n      }\\n    }\\n  }\\n  attr {\\n    key: &quot;use_locking&quot;\\n    value {\\n      b: true\\n    }\\n  }\\n  attr {\\n    key: &quot;validate_shape&quot;\\n    value {\\n      b: true\\n    }\\n  }\\n}\\nnode {\\n  name: &quot;dnn/hidden_2/biases/read&quot;\\n  op: &quot;Identity&quot;\\n  input: &quot;dnn/hidden_2/biases&quot;\\n  attr {\\n    key: &quot;T&quot;\\n    value {\\n      type: DT_FLOAT\\n    }\\n  }\\n  attr {\\n    key: &quot;_class&quot;\\n    value {\\n      list {\\n        s: &quot;loc:@dnn/hidden_2/biases&quot;\\n      }\\n    }\\n  }\\n}\\nnode {\\n  name: &quot;dnn/hidden_2/MatMul&quot;\\n  op: &quot;MatMul&quot;\\n  input: &quot;dnn/hidden_1/Relu&quot;\\n  input: &quot;dnn/hidden_2/weights/read&quot;\\n  attr {\\n    key: &quot;T&quot;\\n    value {\\n      type: DT_FLOAT\\n    }\\n  }\\n  attr {\\n    key: &quot;transpose_a&quot;\\n    value {\\n      b: false\\n    }\\n  }\\n  attr {\\n    key: &quot;transpose_b&quot;\\n    value {\\n      b: false\\n    }\\n  }\\n}\\nnode {\\n  name: &quot;dnn/hidden_2/score&quot;\\n  op: &quot;Add&quot;\\n  input: &quot;dnn/hidden_2/MatMul&quot;\\n  input: &quot;dnn/hidden_2/biases/read&quot;\\n  attr {\\n    key: &quot;T&quot;\\n    value {\\n      type: DT_FLOAT\\n    }\\n  }\\n}\\nnode {\\n  name: &quot;dnn/hidden_2/Relu&quot;\\n  op: &quot;Relu&quot;\\n  input: &quot;dnn/hidden_2/score&quot;\\n  attr {\\n    key: &quot;T&quot;\\n    value {\\n      type: DT_FLOAT\\n    }\\n  }\\n}\\nnode {\\n  name: &quot;dnn/output/truncated_normal/shape&quot;\\n  op: &quot;Const&quot;\\n  attr {\\n    key: &quot;dtype&quot;\\n    value {\\n      type: DT_INT32\\n    }\\n  }\\n  attr {\\n    key: &quot;value&quot;\\n    value {\\n      tensor {\\n        dtype: DT_INT32\\n        tensor_shape {\\n          dim {\\n            size: 2\\n          }\\n        }\\n        tensor_content: &quot;d\\\\000\\\\000\\\\000\\\\n\\\\000\\\\000\\\\000&quot;\\n      }\\n    }\\n  }\\n}\\nnode {\\n  name: &quot;dnn/output/truncated_normal/mean&quot;\\n  op: &quot;Const&quot;\\n  attr {\\n    key: &quot;dtype&quot;\\n    value {\\n      type: DT_FLOAT\\n    }\\n  }\\n  attr {\\n    key: &quot;value&quot;\\n    value {\\n      tensor {\\n        dtype: DT_FLOAT\\n        tensor_shape {\\n        }\\n        float_val: 0.0\\n      }\\n    }\\n  }\\n}\\nnode {\\n  name: &quot;dnn/output/truncated_normal/stddev&quot;\\n  op: &quot;Const&quot;\\n  attr {\\n    key: &quot;dtype&quot;\\n    value {\\n      type: DT_FLOAT\\n    }\\n  }\\n  attr {\\n    key: &quot;value&quot;\\n    value {\\n      tensor {\\n        dtype: DT_FLOAT\\n        tensor_shape {\\n        }\\n        float_val: 0.20000000298023224\\n      }\\n    }\\n  }\\n}\\nnode {\\n  name: &quot;dnn/output/truncated_normal/TruncatedNormal&quot;\\n  op: &quot;TruncatedNormal&quot;\\n  input: &quot;dnn/output/truncated_normal/shape&quot;\\n  attr {\\n    key: &quot;T&quot;\\n    value {\\n      type: DT_INT32\\n    }\\n  }\\n  attr {\\n    key: &quot;dtype&quot;\\n    value {\\n      type: DT_FLOAT\\n    }\\n  }\\n  attr {\\n    key: &quot;seed&quot;\\n    value {\\n      i: 42\\n    }\\n  }\\n  attr {\\n    key: &quot;seed2&quot;\\n    value {\\n      i: 37\\n    }\\n  }\\n}\\nnode {\\n  name: &quot;dnn/output/truncated_normal/mul&quot;\\n  op: &quot;Mul&quot;\\n  input: &quot;dnn/output/truncated_normal/TruncatedNormal&quot;\\n  input: &quot;dnn/output/truncated_normal/stddev&quot;\\n  attr {\\n    key: &quot;T&quot;\\n    value {\\n      type: DT_FLOAT\\n    }\\n  }\\n}\\nnode {\\n  name: &quot;dnn/output/truncated_normal&quot;\\n  op: &quot;Add&quot;\\n  input: &quot;dnn/output/truncated_normal/mul&quot;\\n  input: &quot;dnn/output/truncated_normal/mean&quot;\\n  attr {\\n    key: &quot;T&quot;\\n    value {\\n      type: DT_FLOAT\\n    }\\n  }\\n}\\nnode {\\n  name: &quot;dnn/output/weights&quot;\\n  op: &quot;VariableV2&quot;\\n  attr {\\n    key: &quot;container&quot;\\n    value {\\n      s: &quot;&quot;\\n    }\\n  }\\n  attr {\\n    key: &quot;dtype&quot;\\n    value {\\n      type: DT_FLOAT\\n    }\\n  }\\n  attr {\\n    key: &quot;shape&quot;\\n    value {\\n      shape {\\n        dim {\\n          size: 100\\n        }\\n        dim {\\n          size: 10\\n        }\\n      }\\n    }\\n  }\\n  attr {\\n    key: &quot;shared_name&quot;\\n    value {\\n      s: &quot;&quot;\\n    }\\n  }\\n}\\nnode {\\n  name: &quot;dnn/output/weights/Assign&quot;\\n  op: &quot;Assign&quot;\\n  input: &quot;dnn/output/weights&quot;\\n  input: &quot;dnn/output/truncated_normal&quot;\\n  attr {\\n    key: &quot;T&quot;\\n    value {\\n      type: DT_FLOAT\\n    }\\n  }\\n  attr {\\n    key: &quot;_class&quot;\\n    value {\\n      list {\\n        s: &quot;loc:@dnn/output/weights&quot;\\n      }\\n    }\\n  }\\n  attr {\\n    key: &quot;use_locking&quot;\\n    value {\\n      b: true\\n    }\\n  }\\n  attr {\\n    key: &quot;validate_shape&quot;\\n    value {\\n      b: true\\n    }\\n  }\\n}\\nnode {\\n  name: &quot;dnn/output/weights/read&quot;\\n  op: &quot;Identity&quot;\\n  input: &quot;dnn/output/weights&quot;\\n  attr {\\n    key: &quot;T&quot;\\n    value {\\n      type: DT_FLOAT\\n    }\\n  }\\n  attr {\\n    key: &quot;_class&quot;\\n    value {\\n      list {\\n        s: &quot;loc:@dnn/output/weights&quot;\\n      }\\n    }\\n  }\\n}\\nnode {\\n  name: &quot;dnn/output/zeros&quot;\\n  op: &quot;Const&quot;\\n  attr {\\n    key: &quot;dtype&quot;\\n    value {\\n      type: DT_FLOAT\\n    }\\n  }\\n  attr {\\n    key: &quot;value&quot;\\n    value {\\n      tensor {\\n        dtype: DT_FLOAT\\n        tensor_shape {\\n          dim {\\n            size: 10\\n          }\\n        }\\n        float_val: 0.0\\n      }\\n    }\\n  }\\n}\\nnode {\\n  name: &quot;dnn/output/biases&quot;\\n  op: &quot;VariableV2&quot;\\n  attr {\\n    key: &quot;container&quot;\\n    value {\\n      s: &quot;&quot;\\n    }\\n  }\\n  attr {\\n    key: &quot;dtype&quot;\\n    value {\\n      type: DT_FLOAT\\n    }\\n  }\\n  attr {\\n    key: &quot;shape&quot;\\n    value {\\n      shape {\\n        dim {\\n          size: 10\\n        }\\n      }\\n    }\\n  }\\n  attr {\\n    key: &quot;shared_name&quot;\\n    value {\\n      s: &quot;&quot;\\n    }\\n  }\\n}\\nnode {\\n  name: &quot;dnn/output/biases/Assign&quot;\\n  op: &quot;Assign&quot;\\n  input: &quot;dnn/output/biases&quot;\\n  input: &quot;dnn/output/zeros&quot;\\n  attr {\\n    key: &quot;T&quot;\\n    value {\\n      type: DT_FLOAT\\n    }\\n  }\\n  attr {\\n    key: &quot;_class&quot;\\n    value {\\n      list {\\n        s: &quot;loc:@dnn/output/biases&quot;\\n      }\\n    }\\n  }\\n  attr {\\n    key: &quot;use_locking&quot;\\n    value {\\n      b: true\\n    }\\n  }\\n  attr {\\n    key: &quot;validate_shape&quot;\\n    value {\\n      b: true\\n    }\\n  }\\n}\\nnode {\\n  name: &quot;dnn/output/biases/read&quot;\\n  op: &quot;Identity&quot;\\n  input: &quot;dnn/output/biases&quot;\\n  attr {\\n    key: &quot;T&quot;\\n    value {\\n      type: DT_FLOAT\\n    }\\n  }\\n  attr {\\n    key: &quot;_class&quot;\\n    value {\\n      list {\\n        s: &quot;loc:@dnn/output/biases&quot;\\n      }\\n    }\\n  }\\n}\\nnode {\\n  name: &quot;dnn/output/MatMul&quot;\\n  op: &quot;MatMul&quot;\\n  input: &quot;dnn/hidden_2/Relu&quot;\\n  input: &quot;dnn/output/weights/read&quot;\\n  attr {\\n    key: &quot;T&quot;\\n    value {\\n      type: DT_FLOAT\\n    }\\n  }\\n  attr {\\n    key: &quot;transpose_a&quot;\\n    value {\\n      b: false\\n    }\\n  }\\n  attr {\\n    key: &quot;transpose_b&quot;\\n    value {\\n      b: false\\n    }\\n  }\\n}\\nnode {\\n  name: &quot;dnn/output/score&quot;\\n  op: &quot;Add&quot;\\n  input: &quot;dnn/output/MatMul&quot;\\n  input: &quot;dnn/output/biases/read&quot;\\n  attr {\\n    key: &quot;T&quot;\\n    value {\\n      type: DT_FLOAT\\n    }\\n  }\\n}\\nnode {\\n  name: &quot;loss/SparseSoftmaxCrossEntropyWithLogits/Shape&quot;\\n  op: &quot;Shape&quot;\\n  input: &quot;y&quot;\\n  attr {\\n    key: &quot;T&quot;\\n    value {\\n      type: DT_INT64\\n    }\\n  }\\n  attr {\\n    key: &quot;out_type&quot;\\n    value {\\n      type: DT_INT32\\n    }\\n  }\\n}\\nnode {\\n  name: &quot;loss/SparseSoftmaxCrossEntropyWithLogits/SparseSoftmaxCrossEntropyWithLogits&quot;\\n  op: &quot;SparseSoftmaxCrossEntropyWithLogits&quot;\\n  input: &quot;dnn/output/score&quot;\\n  input: &quot;y&quot;\\n  attr {\\n    key: &quot;T&quot;\\n    value {\\n      type: DT_FLOAT\\n    }\\n  }\\n  attr {\\n    key: &quot;Tlabels&quot;\\n    value {\\n      type: DT_INT64\\n    }\\n  }\\n}\\nnode {\\n  name: &quot;loss/Const&quot;\\n  op: &quot;Const&quot;\\n  attr {\\n    key: &quot;dtype&quot;\\n    value {\\n      type: DT_INT32\\n    }\\n  }\\n  attr {\\n    key: &quot;value&quot;\\n    value {\\n      tensor {\\n        dtype: DT_INT32\\n        tensor_shape {\\n          dim {\\n            size: 1\\n          }\\n        }\\n        int_val: 0\\n      }\\n    }\\n  }\\n}\\nnode {\\n  name: &quot;loss/loss&quot;\\n  op: &quot;Mean&quot;\\n  input: &quot;loss/SparseSoftmaxCrossEntropyWithLogits/SparseSoftmaxCrossEntropyWithLogits&quot;\\n  input: &quot;loss/Const&quot;\\n  attr {\\n    key: &quot;T&quot;\\n    value {\\n      type: DT_FLOAT\\n    }\\n  }\\n  attr {\\n    key: &quot;Tidx&quot;\\n    value {\\n      type: DT_INT32\\n    }\\n  }\\n  attr {\\n    key: &quot;keep_dims&quot;\\n    value {\\n      b: false\\n    }\\n  }\\n}\\nnode {\\n  name: &quot;train_1/gradients/Shape&quot;\\n  op: &quot;Const&quot;\\n  attr {\\n    key: &quot;dtype&quot;\\n    value {\\n      type: DT_INT32\\n    }\\n  }\\n  attr {\\n    key: &quot;value&quot;\\n    value {\\n      tensor {\\n        dtype: DT_INT32\\n        tensor_shape {\\n          dim {\\n          }\\n        }\\n      }\\n    }\\n  }\\n}\\nnode {\\n  name: &quot;train_1/gradients/Const&quot;\\n  op: &quot;Const&quot;\\n  attr {\\n    key: &quot;dtype&quot;\\n    value {\\n      type: DT_FLOAT\\n    }\\n  }\\n  attr {\\n    key: &quot;value&quot;\\n    value {\\n      tensor {\\n        dtype: DT_FLOAT\\n        tensor_shape {\\n        }\\n        float_val: 1.0\\n      }\\n    }\\n  }\\n}\\nnode {\\n  name: &quot;train_1/gradients/Fill&quot;\\n  op: &quot;Fill&quot;\\n  input: &quot;train_1/gradients/Shape&quot;\\n  input: &quot;train_1/gradients/Const&quot;\\n  attr {\\n    key: &quot;T&quot;\\n    value {\\n      type: DT_FLOAT\\n    }\\n  }\\n}\\nnode {\\n  name: &quot;train_1/gradients/loss/loss_grad/Reshape/shape&quot;\\n  op: &quot;Const&quot;\\n  attr {\\n    key: &quot;dtype&quot;\\n    value {\\n      type: DT_INT32\\n    }\\n  }\\n  attr {\\n    key: &quot;value&quot;\\n    value {\\n      tensor {\\n        dtype: DT_INT32\\n        tensor_shape {\\n          dim {\\n            size: 1\\n          }\\n        }\\n        int_val: 1\\n      }\\n    }\\n  }\\n}\\nnode {\\n  name: &quot;train_1/gradients/loss/loss_grad/Reshape&quot;\\n  op: &quot;Reshape&quot;\\n  input: &quot;train_1/gradients/Fill&quot;\\n  input: &quot;train_1/gradients/loss/loss_grad/Reshape/shape&quot;\\n  attr {\\n    key: &quot;T&quot;\\n    value {\\n      type: DT_FLOAT\\n    }\\n  }\\n  attr {\\n    key: &quot;Tshape&quot;\\n    value {\\n      type: DT_INT32\\n    }\\n  }\\n}\\nnode {\\n  name: &quot;train_1/gradients/loss/loss_grad/Shape&quot;\\n  op: &quot;Shape&quot;\\n  input: &quot;loss/SparseSoftmaxCrossEntropyWithLogits/SparseSoftmaxCrossEntropyWithLogits&quot;\\n  attr {\\n    key: &quot;T&quot;\\n    value {\\n      type: DT_FLOAT\\n    }\\n  }\\n  attr {\\n    key: &quot;out_type&quot;\\n    value {\\n      type: DT_INT32\\n    }\\n  }\\n}\\nnode {\\n  name: &quot;train_1/gradients/loss/loss_grad/Tile&quot;\\n  op: &quot;Tile&quot;\\n  input: &quot;train_1/gradients/loss/loss_grad/Reshape&quot;\\n  input: &quot;train_1/gradients/loss/loss_grad/Shape&quot;\\n  attr {\\n    key: &quot;T&quot;\\n    value {\\n      type: DT_FLOAT\\n    }\\n  }\\n  attr {\\n    key: &quot;Tmultiples&quot;\\n    value {\\n      type: DT_INT32\\n    }\\n  }\\n}\\nnode {\\n  name: &quot;train_1/gradients/loss/loss_grad/Shape_1&quot;\\n  op: &quot;Shape&quot;\\n  input: &quot;loss/SparseSoftmaxCrossEntropyWithLogits/SparseSoftmaxCrossEntropyWithLogits&quot;\\n  attr {\\n    key: &quot;T&quot;\\n    value {\\n      type: DT_FLOAT\\n    }\\n  }\\n  attr {\\n    key: &quot;out_type&quot;\\n    value {\\n      type: DT_INT32\\n    }\\n  }\\n}\\nnode {\\n  name: &quot;train_1/gradients/loss/loss_grad/Shape_2&quot;\\n  op: &quot;Const&quot;\\n  attr {\\n    key: &quot;dtype&quot;\\n    value {\\n      type: DT_INT32\\n    }\\n  }\\n  attr {\\n    key: &quot;value&quot;\\n    value {\\n      tensor {\\n        dtype: DT_INT32\\n        tensor_shape {\\n          dim {\\n          }\\n        }\\n      }\\n    }\\n  }\\n}\\nnode {\\n  name: &quot;train_1/gradients/loss/loss_grad/Const&quot;\\n  op: &quot;Const&quot;\\n  attr {\\n    key: &quot;dtype&quot;\\n    value {\\n      type: DT_INT32\\n    }\\n  }\\n  attr {\\n    key: &quot;value&quot;\\n    value {\\n      tensor {\\n        dtype: DT_INT32\\n        tensor_shape {\\n          dim {\\n            size: 1\\n          }\\n        }\\n        int_val: 0\\n      }\\n    }\\n  }\\n}\\nnode {\\n  name: &quot;train_1/gradients/loss/loss_grad/Prod&quot;\\n  op: &quot;Prod&quot;\\n  input: &quot;train_1/gradients/loss/loss_grad/Shape_1&quot;\\n  input: &quot;train_1/gradients/loss/loss_grad/Const&quot;\\n  attr {\\n    key: &quot;T&quot;\\n    value {\\n      type: DT_INT32\\n    }\\n  }\\n  attr {\\n    key: &quot;Tidx&quot;\\n    value {\\n      type: DT_INT32\\n    }\\n  }\\n  attr {\\n    key: &quot;keep_dims&quot;\\n    value {\\n      b: false\\n    }\\n  }\\n}\\nnode {\\n  name: &quot;train_1/gradients/loss/loss_grad/Const_1&quot;\\n  op: &quot;Const&quot;\\n  attr {\\n    key: &quot;dtype&quot;\\n    value {\\n      type: DT_INT32\\n    }\\n  }\\n  attr {\\n    key: &quot;value&quot;\\n    value {\\n      tensor {\\n        dtype: DT_INT32\\n        tensor_shape {\\n          dim {\\n            size: 1\\n          }\\n        }\\n        int_val: 0\\n      }\\n    }\\n  }\\n}\\nnode {\\n  name: &quot;train_1/gradients/loss/loss_grad/Prod_1&quot;\\n  op: &quot;Prod&quot;\\n  input: &quot;train_1/gradients/loss/loss_grad/Shape_2&quot;\\n  input: &quot;train_1/gradients/loss/loss_grad/Const_1&quot;\\n  attr {\\n    key: &quot;T&quot;\\n    value {\\n      type: DT_INT32\\n    }\\n  }\\n  attr {\\n    key: &quot;Tidx&quot;\\n    value {\\n      type: DT_INT32\\n    }\\n  }\\n  attr {\\n    key: &quot;keep_dims&quot;\\n    value {\\n      b: false\\n    }\\n  }\\n}\\nnode {\\n  name: &quot;train_1/gradients/loss/loss_grad/Maximum/y&quot;\\n  op: &quot;Const&quot;\\n  attr {\\n    key: &quot;dtype&quot;\\n    value {\\n      type: DT_INT32\\n    }\\n  }\\n  attr {\\n    key: &quot;value&quot;\\n    value {\\n      tensor {\\n        dtype: DT_INT32\\n        tensor_shape {\\n        }\\n        int_val: 1\\n      }\\n    }\\n  }\\n}\\nnode {\\n  name: &quot;train_1/gradients/loss/loss_grad/Maximum&quot;\\n  op: &quot;Maximum&quot;\\n  input: &quot;train_1/gradients/loss/loss_grad/Prod_1&quot;\\n  input: &quot;train_1/gradients/loss/loss_grad/Maximum/y&quot;\\n  attr {\\n    key: &quot;T&quot;\\n    value {\\n      type: DT_INT32\\n    }\\n  }\\n}\\nnode {\\n  name: &quot;train_1/gradients/loss/loss_grad/floordiv&quot;\\n  op: &quot;FloorDiv&quot;\\n  input: &quot;train_1/gradients/loss/loss_grad/Prod&quot;\\n  input: &quot;train_1/gradients/loss/loss_grad/Maximum&quot;\\n  attr {\\n    key: &quot;T&quot;\\n    value {\\n      type: DT_INT32\\n    }\\n  }\\n}\\nnode {\\n  name: &quot;train_1/gradients/loss/loss_grad/Cast&quot;\\n  op: &quot;Cast&quot;\\n  input: &quot;train_1/gradients/loss/loss_grad/floordiv&quot;\\n  attr {\\n    key: &quot;DstT&quot;\\n    value {\\n      type: DT_FLOAT\\n    }\\n  }\\n  attr {\\n    key: &quot;SrcT&quot;\\n    value {\\n      type: DT_INT32\\n    }\\n  }\\n}\\nnode {\\n  name: &quot;train_1/gradients/loss/loss_grad/truediv&quot;\\n  op: &quot;RealDiv&quot;\\n  input: &quot;train_1/gradients/loss/loss_grad/Tile&quot;\\n  input: &quot;train_1/gradients/loss/loss_grad/Cast&quot;\\n  attr {\\n    key: &quot;T&quot;\\n    value {\\n      type: DT_FLOAT\\n    }\\n  }\\n}\\nnode {\\n  name: &quot;train_1/gradients/zeros_like&quot;\\n  op: &quot;ZerosLike&quot;\\n  input: &quot;loss/SparseSoftmaxCrossEntropyWithLogits/SparseSoftmaxCrossEntropyWithLogits:1&quot;\\n  attr {\\n    key: &quot;T&quot;\\n    value {\\n      type: DT_FLOAT\\n    }\\n  }\\n}\\nnode {\\n  name: &quot;train_1/gradients/loss/SparseSoftmaxCrossEntropyWithLogits/SparseSoftmaxCrossEntropyWithLogits_grad/PreventGradient&quot;\\n  op: &quot;PreventGradient&quot;\\n  input: &quot;loss/SparseSoftmaxCrossEntropyWithLogits/SparseSoftmaxCrossEntropyWithLogits:1&quot;\\n  attr {\\n    key: &quot;T&quot;\\n    value {\\n      type: DT_FLOAT\\n    }\\n  }\\n  attr {\\n    key: &quot;message&quot;\\n    value {\\n      s: &quot;Currently there is no way to take the second derivative of sparse_softmax_cross_entropy_with_logits due to the fused implementation\\\\\\'s interaction with tf.gradients()&quot;\\n    }\\n  }\\n}\\nnode {\\n  name: &quot;train_1/gradients/loss/SparseSoftmaxCrossEntropyWithLogits/SparseSoftmaxCrossEntropyWithLogits_grad/ExpandDims/dim&quot;\\n  op: &quot;Const&quot;\\n  attr {\\n    key: &quot;dtype&quot;\\n    value {\\n      type: DT_INT32\\n    }\\n  }\\n  attr {\\n    key: &quot;value&quot;\\n    value {\\n      tensor {\\n        dtype: DT_INT32\\n        tensor_shape {\\n        }\\n        int_val: -1\\n      }\\n    }\\n  }\\n}\\nnode {\\n  name: &quot;train_1/gradients/loss/SparseSoftmaxCrossEntropyWithLogits/SparseSoftmaxCrossEntropyWithLogits_grad/ExpandDims&quot;\\n  op: &quot;ExpandDims&quot;\\n  input: &quot;train_1/gradients/loss/loss_grad/truediv&quot;\\n  input: &quot;train_1/gradients/loss/SparseSoftmaxCrossEntropyWithLogits/SparseSoftmaxCrossEntropyWithLogits_grad/ExpandDims/dim&quot;\\n  attr {\\n    key: &quot;T&quot;\\n    value {\\n      type: DT_FLOAT\\n    }\\n  }\\n  attr {\\n    key: &quot;Tdim&quot;\\n    value {\\n      type: DT_INT32\\n    }\\n  }\\n}\\nnode {\\n  name: &quot;train_1/gradients/loss/SparseSoftmaxCrossEntropyWithLogits/SparseSoftmaxCrossEntropyWithLogits_grad/mul&quot;\\n  op: &quot;Mul&quot;\\n  input: &quot;train_1/gradients/loss/SparseSoftmaxCrossEntropyWithLogits/SparseSoftmaxCrossEntropyWithLogits_grad/ExpandDims&quot;\\n  input: &quot;train_1/gradients/loss/SparseSoftmaxCrossEntropyWithLogits/SparseSoftmaxCrossEntropyWithLogits_grad/PreventGradient&quot;\\n  attr {\\n    key: &quot;T&quot;\\n    value {\\n      type: DT_FLOAT\\n    }\\n  }\\n}\\nnode {\\n  name: &quot;train_1/gradients/dnn/output/score_grad/Shape&quot;\\n  op: &quot;Shape&quot;\\n  input: &quot;dnn/output/MatMul&quot;\\n  attr {\\n    key: &quot;T&quot;\\n    value {\\n      type: DT_FLOAT\\n    }\\n  }\\n  attr {\\n    key: &quot;out_type&quot;\\n    value {\\n      type: DT_INT32\\n    }\\n  }\\n}\\nnode {\\n  name: &quot;train_1/gradients/dnn/output/score_grad/Shape_1&quot;\\n  op: &quot;Const&quot;\\n  attr {\\n    key: &quot;dtype&quot;\\n    value {\\n      type: DT_INT32\\n    }\\n  }\\n  attr {\\n    key: &quot;value&quot;\\n    value {\\n      tensor {\\n        dtype: DT_INT32\\n        tensor_shape {\\n          dim {\\n            size: 1\\n          }\\n        }\\n        int_val: 10\\n      }\\n    }\\n  }\\n}\\nnode {\\n  name: &quot;train_1/gradients/dnn/output/score_grad/BroadcastGradientArgs&quot;\\n  op: &quot;BroadcastGradientArgs&quot;\\n  input: &quot;train_1/gradients/dnn/output/score_grad/Shape&quot;\\n  input: &quot;train_1/gradients/dnn/output/score_grad/Shape_1&quot;\\n  attr {\\n    key: &quot;T&quot;\\n    value {\\n      type: DT_INT32\\n    }\\n  }\\n}\\nnode {\\n  name: &quot;train_1/gradients/dnn/output/score_grad/Sum&quot;\\n  op: &quot;Sum&quot;\\n  input: &quot;train_1/gradients/loss/SparseSoftmaxCrossEntropyWithLogits/SparseSoftmaxCrossEntropyWithLogits_grad/mul&quot;\\n  input: &quot;train_1/gradients/dnn/output/score_grad/BroadcastGradientArgs&quot;\\n  attr {\\n    key: &quot;T&quot;\\n    value {\\n      type: DT_FLOAT\\n    }\\n  }\\n  attr {\\n    key: &quot;Tidx&quot;\\n    value {\\n      type: DT_INT32\\n    }\\n  }\\n  attr {\\n    key: &quot;keep_dims&quot;\\n    value {\\n      b: false\\n    }\\n  }\\n}\\nnode {\\n  name: &quot;train_1/gradients/dnn/output/score_grad/Reshape&quot;\\n  op: &quot;Reshape&quot;\\n  input: &quot;train_1/gradients/dnn/output/score_grad/Sum&quot;\\n  input: &quot;train_1/gradients/dnn/output/score_grad/Shape&quot;\\n  attr {\\n    key: &quot;T&quot;\\n    value {\\n      type: DT_FLOAT\\n    }\\n  }\\n  attr {\\n    key: &quot;Tshape&quot;\\n    value {\\n      type: DT_INT32\\n    }\\n  }\\n}\\nnode {\\n  name: &quot;train_1/gradients/dnn/output/score_grad/Sum_1&quot;\\n  op: &quot;Sum&quot;\\n  input: &quot;train_1/gradients/loss/SparseSoftmaxCrossEntropyWithLogits/SparseSoftmaxCrossEntropyWithLogits_grad/mul&quot;\\n  input: &quot;train_1/gradients/dnn/output/score_grad/BroadcastGradientArgs:1&quot;\\n  attr {\\n    key: &quot;T&quot;\\n    value {\\n      type: DT_FLOAT\\n    }\\n  }\\n  attr {\\n    key: &quot;Tidx&quot;\\n    value {\\n      type: DT_INT32\\n    }\\n  }\\n  attr {\\n    key: &quot;keep_dims&quot;\\n    value {\\n      b: false\\n    }\\n  }\\n}\\nnode {\\n  name: &quot;train_1/gradients/dnn/output/score_grad/Reshape_1&quot;\\n  op: &quot;Reshape&quot;\\n  input: &quot;train_1/gradients/dnn/output/score_grad/Sum_1&quot;\\n  input: &quot;train_1/gradients/dnn/output/score_grad/Shape_1&quot;\\n  attr {\\n    key: &quot;T&quot;\\n    value {\\n      type: DT_FLOAT\\n    }\\n  }\\n  attr {\\n    key: &quot;Tshape&quot;\\n    value {\\n      type: DT_INT32\\n    }\\n  }\\n}\\nnode {\\n  name: &quot;train_1/gradients/dnn/output/score_grad/tuple/group_deps&quot;\\n  op: &quot;NoOp&quot;\\n  input: &quot;^train_1/gradients/dnn/output/score_grad/Reshape&quot;\\n  input: &quot;^train_1/gradients/dnn/output/score_grad/Reshape_1&quot;\\n}\\nnode {\\n  name: &quot;train_1/gradients/dnn/output/score_grad/tuple/control_dependency&quot;\\n  op: &quot;Identity&quot;\\n  input: &quot;train_1/gradients/dnn/output/score_grad/Reshape&quot;\\n  input: &quot;^train_1/gradients/dnn/output/score_grad/tuple/group_deps&quot;\\n  attr {\\n    key: &quot;T&quot;\\n    value {\\n      type: DT_FLOAT\\n    }\\n  }\\n  attr {\\n    key: &quot;_class&quot;\\n    value {\\n      list {\\n        s: &quot;loc:@train_1/gradients/dnn/output/score_grad/Reshape&quot;\\n      }\\n    }\\n  }\\n}\\nnode {\\n  name: &quot;train_1/gradients/dnn/output/score_grad/tuple/control_dependency_1&quot;\\n  op: &quot;Identity&quot;\\n  input: &quot;train_1/gradients/dnn/output/score_grad/Reshape_1&quot;\\n  input: &quot;^train_1/gradients/dnn/output/score_grad/tuple/group_deps&quot;\\n  attr {\\n    key: &quot;T&quot;\\n    value {\\n      type: DT_FLOAT\\n    }\\n  }\\n  attr {\\n    key: &quot;_class&quot;\\n    value {\\n      list {\\n        s: &quot;loc:@train_1/gradients/dnn/output/score_grad/Reshape_1&quot;\\n      }\\n    }\\n  }\\n}\\nnode {\\n  name: &quot;train_1/gradients/dnn/output/MatMul_grad/MatMul&quot;\\n  op: &quot;MatMul&quot;\\n  input: &quot;train_1/gradients/dnn/output/score_grad/tuple/control_dependency&quot;\\n  input: &quot;dnn/output/weights/read&quot;\\n  attr {\\n    key: &quot;T&quot;\\n    value {\\n      type: DT_FLOAT\\n    }\\n  }\\n  attr {\\n    key: &quot;transpose_a&quot;\\n    value {\\n      b: false\\n    }\\n  }\\n  attr {\\n    key: &quot;transpose_b&quot;\\n    value {\\n      b: true\\n    }\\n  }\\n}\\nnode {\\n  name: &quot;train_1/gradients/dnn/output/MatMul_grad/MatMul_1&quot;\\n  op: &quot;MatMul&quot;\\n  input: &quot;dnn/hidden_2/Relu&quot;\\n  input: &quot;train_1/gradients/dnn/output/score_grad/tuple/control_dependency&quot;\\n  attr {\\n    key: &quot;T&quot;\\n    value {\\n      type: DT_FLOAT\\n    }\\n  }\\n  attr {\\n    key: &quot;transpose_a&quot;\\n    value {\\n      b: true\\n    }\\n  }\\n  attr {\\n    key: &quot;transpose_b&quot;\\n    value {\\n      b: false\\n    }\\n  }\\n}\\nnode {\\n  name: &quot;train_1/gradients/dnn/output/MatMul_grad/tuple/group_deps&quot;\\n  op: &quot;NoOp&quot;\\n  input: &quot;^train_1/gradients/dnn/output/MatMul_grad/MatMul&quot;\\n  input: &quot;^train_1/gradients/dnn/output/MatMul_grad/MatMul_1&quot;\\n}\\nnode {\\n  name: &quot;train_1/gradients/dnn/output/MatMul_grad/tuple/control_dependency&quot;\\n  op: &quot;Identity&quot;\\n  input: &quot;train_1/gradients/dnn/output/MatMul_grad/MatMul&quot;\\n  input: &quot;^train_1/gradients/dnn/output/MatMul_grad/tuple/group_deps&quot;\\n  attr {\\n    key: &quot;T&quot;\\n    value {\\n      type: DT_FLOAT\\n    }\\n  }\\n  attr {\\n    key: &quot;_class&quot;\\n    value {\\n      list {\\n        s: &quot;loc:@train_1/gradients/dnn/output/MatMul_grad/MatMul&quot;\\n      }\\n    }\\n  }\\n}\\nnode {\\n  name: &quot;train_1/gradients/dnn/output/MatMul_grad/tuple/control_dependency_1&quot;\\n  op: &quot;Identity&quot;\\n  input: &quot;train_1/gradients/dnn/output/MatMul_grad/MatMul_1&quot;\\n  input: &quot;^train_1/gradients/dnn/output/MatMul_grad/tuple/group_deps&quot;\\n  attr {\\n    key: &quot;T&quot;\\n    value {\\n      type: DT_FLOAT\\n    }\\n  }\\n  attr {\\n    key: &quot;_class&quot;\\n    value {\\n      list {\\n        s: &quot;loc:@train_1/gradients/dnn/output/MatMul_grad/MatMul_1&quot;\\n      }\\n    }\\n  }\\n}\\nnode {\\n  name: &quot;train_1/gradients/dnn/hidden_2/Relu_grad/ReluGrad&quot;\\n  op: &quot;ReluGrad&quot;\\n  input: &quot;train_1/gradients/dnn/output/MatMul_grad/tuple/control_dependency&quot;\\n  input: &quot;dnn/hidden_2/Relu&quot;\\n  attr {\\n    key: &quot;T&quot;\\n    value {\\n      type: DT_FLOAT\\n    }\\n  }\\n}\\nnode {\\n  name: &quot;train_1/gradients/dnn/hidden_2/score_grad/Shape&quot;\\n  op: &quot;Shape&quot;\\n  input: &quot;dnn/hidden_2/MatMul&quot;\\n  attr {\\n    key: &quot;T&quot;\\n    value {\\n      type: DT_FLOAT\\n    }\\n  }\\n  attr {\\n    key: &quot;out_type&quot;\\n    value {\\n      type: DT_INT32\\n    }\\n  }\\n}\\nnode {\\n  name: &quot;train_1/gradients/dnn/hidden_2/score_grad/Shape_1&quot;\\n  op: &quot;Const&quot;\\n  attr {\\n    key: &quot;dtype&quot;\\n    value {\\n      type: DT_INT32\\n    }\\n  }\\n  attr {\\n    key: &quot;value&quot;\\n    value {\\n      tensor {\\n        dtype: DT_INT32\\n        tensor_shape {\\n          dim {\\n            size: 1\\n          }\\n        }\\n        int_val: 100\\n      }\\n    }\\n  }\\n}\\nnode {\\n  name: &quot;train_1/gradients/dnn/hidden_2/score_grad/BroadcastGradientArgs&quot;\\n  op: &quot;BroadcastGradientArgs&quot;\\n  input: &quot;train_1/gradients/dnn/hidden_2/score_grad/Shape&quot;\\n  input: &quot;train_1/gradients/dnn/hidden_2/score_grad/Shape_1&quot;\\n  attr {\\n    key: &quot;T&quot;\\n    value {\\n      type: DT_INT32\\n    }\\n  }\\n}\\nnode {\\n  name: &quot;train_1/gradients/dnn/hidden_2/score_grad/Sum&quot;\\n  op: &quot;Sum&quot;\\n  input: &quot;train_1/gradients/dnn/hidden_2/Relu_grad/ReluGrad&quot;\\n  input: &quot;train_1/gradients/dnn/hidden_2/score_grad/BroadcastGradientArgs&quot;\\n  attr {\\n    key: &quot;T&quot;\\n    value {\\n      type: DT_FLOAT\\n    }\\n  }\\n  attr {\\n    key: &quot;Tidx&quot;\\n    value {\\n      type: DT_INT32\\n    }\\n  }\\n  attr {\\n    key: &quot;keep_dims&quot;\\n    value {\\n      b: false\\n    }\\n  }\\n}\\nnode {\\n  name: &quot;train_1/gradients/dnn/hidden_2/score_grad/Reshape&quot;\\n  op: &quot;Reshape&quot;\\n  input: &quot;train_1/gradients/dnn/hidden_2/score_grad/Sum&quot;\\n  input: &quot;train_1/gradients/dnn/hidden_2/score_grad/Shape&quot;\\n  attr {\\n    key: &quot;T&quot;\\n    value {\\n      type: DT_FLOAT\\n    }\\n  }\\n  attr {\\n    key: &quot;Tshape&quot;\\n    value {\\n      type: DT_INT32\\n    }\\n  }\\n}\\nnode {\\n  name: &quot;train_1/gradients/dnn/hidden_2/score_grad/Sum_1&quot;\\n  op: &quot;Sum&quot;\\n  input: &quot;train_1/gradients/dnn/hidden_2/Relu_grad/ReluGrad&quot;\\n  input: &quot;train_1/gradients/dnn/hidden_2/score_grad/BroadcastGradientArgs:1&quot;\\n  attr {\\n    key: &quot;T&quot;\\n    value {\\n      type: DT_FLOAT\\n    }\\n  }\\n  attr {\\n    key: &quot;Tidx&quot;\\n    value {\\n      type: DT_INT32\\n    }\\n  }\\n  attr {\\n    key: &quot;keep_dims&quot;\\n    value {\\n      b: false\\n    }\\n  }\\n}\\nnode {\\n  name: &quot;train_1/gradients/dnn/hidden_2/score_grad/Reshape_1&quot;\\n  op: &quot;Reshape&quot;\\n  input: &quot;train_1/gradients/dnn/hidden_2/score_grad/Sum_1&quot;\\n  input: &quot;train_1/gradients/dnn/hidden_2/score_grad/Shape_1&quot;\\n  attr {\\n    key: &quot;T&quot;\\n    value {\\n      type: DT_FLOAT\\n    }\\n  }\\n  attr {\\n    key: &quot;Tshape&quot;\\n    value {\\n      type: DT_INT32\\n    }\\n  }\\n}\\nnode {\\n  name: &quot;train_1/gradients/dnn/hidden_2/score_grad/tuple/group_deps&quot;\\n  op: &quot;NoOp&quot;\\n  input: &quot;^train_1/gradients/dnn/hidden_2/score_grad/Reshape&quot;\\n  input: &quot;^train_1/gradients/dnn/hidden_2/score_grad/Reshape_1&quot;\\n}\\nnode {\\n  name: &quot;train_1/gradients/dnn/hidden_2/score_grad/tuple/control_dependency&quot;\\n  op: &quot;Identity&quot;\\n  input: &quot;train_1/gradients/dnn/hidden_2/score_grad/Reshape&quot;\\n  input: &quot;^train_1/gradients/dnn/hidden_2/score_grad/tuple/group_deps&quot;\\n  attr {\\n    key: &quot;T&quot;\\n    value {\\n      type: DT_FLOAT\\n    }\\n  }\\n  attr {\\n    key: &quot;_class&quot;\\n    value {\\n      list {\\n        s: &quot;loc:@train_1/gradients/dnn/hidden_2/score_grad/Reshape&quot;\\n      }\\n    }\\n  }\\n}\\nnode {\\n  name: &quot;train_1/gradients/dnn/hidden_2/score_grad/tuple/control_dependency_1&quot;\\n  op: &quot;Identity&quot;\\n  input: &quot;train_1/gradients/dnn/hidden_2/score_grad/Reshape_1&quot;\\n  input: &quot;^train_1/gradients/dnn/hidden_2/score_grad/tuple/group_deps&quot;\\n  attr {\\n    key: &quot;T&quot;\\n    value {\\n      type: DT_FLOAT\\n    }\\n  }\\n  attr {\\n    key: &quot;_class&quot;\\n    value {\\n      list {\\n        s: &quot;loc:@train_1/gradients/dnn/hidden_2/score_grad/Reshape_1&quot;\\n      }\\n    }\\n  }\\n}\\nnode {\\n  name: &quot;train_1/gradients/dnn/hidden_2/MatMul_grad/MatMul&quot;\\n  op: &quot;MatMul&quot;\\n  input: &quot;train_1/gradients/dnn/hidden_2/score_grad/tuple/control_dependency&quot;\\n  input: &quot;dnn/hidden_2/weights/read&quot;\\n  attr {\\n    key: &quot;T&quot;\\n    value {\\n      type: DT_FLOAT\\n    }\\n  }\\n  attr {\\n    key: &quot;transpose_a&quot;\\n    value {\\n      b: false\\n    }\\n  }\\n  attr {\\n    key: &quot;transpose_b&quot;\\n    value {\\n      b: true\\n    }\\n  }\\n}\\nnode {\\n  name: &quot;train_1/gradients/dnn/hidden_2/MatMul_grad/MatMul_1&quot;\\n  op: &quot;MatMul&quot;\\n  input: &quot;dnn/hidden_1/Relu&quot;\\n  input: &quot;train_1/gradients/dnn/hidden_2/score_grad/tuple/control_dependency&quot;\\n  attr {\\n    key: &quot;T&quot;\\n    value {\\n      type: DT_FLOAT\\n    }\\n  }\\n  attr {\\n    key: &quot;transpose_a&quot;\\n    value {\\n      b: true\\n    }\\n  }\\n  attr {\\n    key: &quot;transpose_b&quot;\\n    value {\\n      b: false\\n    }\\n  }\\n}\\nnode {\\n  name: &quot;train_1/gradients/dnn/hidden_2/MatMul_grad/tuple/group_deps&quot;\\n  op: &quot;NoOp&quot;\\n  input: &quot;^train_1/gradients/dnn/hidden_2/MatMul_grad/MatMul&quot;\\n  input: &quot;^train_1/gradients/dnn/hidden_2/MatMul_grad/MatMul_1&quot;\\n}\\nnode {\\n  name: &quot;train_1/gradients/dnn/hidden_2/MatMul_grad/tuple/control_dependency&quot;\\n  op: &quot;Identity&quot;\\n  input: &quot;train_1/gradients/dnn/hidden_2/MatMul_grad/MatMul&quot;\\n  input: &quot;^train_1/gradients/dnn/hidden_2/MatMul_grad/tuple/group_deps&quot;\\n  attr {\\n    key: &quot;T&quot;\\n    value {\\n      type: DT_FLOAT\\n    }\\n  }\\n  attr {\\n    key: &quot;_class&quot;\\n    value {\\n      list {\\n        s: &quot;loc:@train_1/gradients/dnn/hidden_2/MatMul_grad/MatMul&quot;\\n      }\\n    }\\n  }\\n}\\nnode {\\n  name: &quot;train_1/gradients/dnn/hidden_2/MatMul_grad/tuple/control_dependency_1&quot;\\n  op: &quot;Identity&quot;\\n  input: &quot;train_1/gradients/dnn/hidden_2/MatMul_grad/MatMul_1&quot;\\n  input: &quot;^train_1/gradients/dnn/hidden_2/MatMul_grad/tuple/group_deps&quot;\\n  attr {\\n    key: &quot;T&quot;\\n    value {\\n      type: DT_FLOAT\\n    }\\n  }\\n  attr {\\n    key: &quot;_class&quot;\\n    value {\\n      list {\\n        s: &quot;loc:@train_1/gradients/dnn/hidden_2/MatMul_grad/MatMul_1&quot;\\n      }\\n    }\\n  }\\n}\\nnode {\\n  name: &quot;train_1/gradients/dnn/hidden_1/Relu_grad/ReluGrad&quot;\\n  op: &quot;ReluGrad&quot;\\n  input: &quot;train_1/gradients/dnn/hidden_2/MatMul_grad/tuple/control_dependency&quot;\\n  input: &quot;dnn/hidden_1/Relu&quot;\\n  attr {\\n    key: &quot;T&quot;\\n    value {\\n      type: DT_FLOAT\\n    }\\n  }\\n}\\nnode {\\n  name: &quot;train_1/gradients/dnn/hidden_1/score_grad/Shape&quot;\\n  op: &quot;Shape&quot;\\n  input: &quot;dnn/hidden_1/MatMul&quot;\\n  attr {\\n    key: &quot;T&quot;\\n    value {\\n      type: DT_FLOAT\\n    }\\n  }\\n  attr {\\n    key: &quot;out_type&quot;\\n    value {\\n      type: DT_INT32\\n    }\\n  }\\n}\\nnode {\\n  name: &quot;train_1/gradients/dnn/hidden_1/score_grad/Shape_1&quot;\\n  op: &quot;Const&quot;\\n  attr {\\n    key: &quot;dtype&quot;\\n    value {\\n      type: DT_INT32\\n    }\\n  }\\n  attr {\\n    key: &quot;value&quot;\\n    value {\\n      tensor {\\n        dtype: DT_INT32\\n        tensor_shape {\\n          dim {\\n            size: 1\\n          }\\n        }\\n        int_val: 300\\n      }\\n    }\\n  }\\n}\\nnode {\\n  name: &quot;train_1/gradients/dnn/hidden_1/score_grad/BroadcastGradientArgs&quot;\\n  op: &quot;BroadcastGradientArgs&quot;\\n  input: &quot;train_1/gradients/dnn/hidden_1/score_grad/Shape&quot;\\n  input: &quot;train_1/gradients/dnn/hidden_1/score_grad/Shape_1&quot;\\n  attr {\\n    key: &quot;T&quot;\\n    value {\\n      type: DT_INT32\\n    }\\n  }\\n}\\nnode {\\n  name: &quot;train_1/gradients/dnn/hidden_1/score_grad/Sum&quot;\\n  op: &quot;Sum&quot;\\n  input: &quot;train_1/gradients/dnn/hidden_1/Relu_grad/ReluGrad&quot;\\n  input: &quot;train_1/gradients/dnn/hidden_1/score_grad/BroadcastGradientArgs&quot;\\n  attr {\\n    key: &quot;T&quot;\\n    value {\\n      type: DT_FLOAT\\n    }\\n  }\\n  attr {\\n    key: &quot;Tidx&quot;\\n    value {\\n      type: DT_INT32\\n    }\\n  }\\n  attr {\\n    key: &quot;keep_dims&quot;\\n    value {\\n      b: false\\n    }\\n  }\\n}\\nnode {\\n  name: &quot;train_1/gradients/dnn/hidden_1/score_grad/Reshape&quot;\\n  op: &quot;Reshape&quot;\\n  input: &quot;train_1/gradients/dnn/hidden_1/score_grad/Sum&quot;\\n  input: &quot;train_1/gradients/dnn/hidden_1/score_grad/Shape&quot;\\n  attr {\\n    key: &quot;T&quot;\\n    value {\\n      type: DT_FLOAT\\n    }\\n  }\\n  attr {\\n    key: &quot;Tshape&quot;\\n    value {\\n      type: DT_INT32\\n    }\\n  }\\n}\\nnode {\\n  name: &quot;train_1/gradients/dnn/hidden_1/score_grad/Sum_1&quot;\\n  op: &quot;Sum&quot;\\n  input: &quot;train_1/gradients/dnn/hidden_1/Relu_grad/ReluGrad&quot;\\n  input: &quot;train_1/gradients/dnn/hidden_1/score_grad/BroadcastGradientArgs:1&quot;\\n  attr {\\n    key: &quot;T&quot;\\n    value {\\n      type: DT_FLOAT\\n    }\\n  }\\n  attr {\\n    key: &quot;Tidx&quot;\\n    value {\\n      type: DT_INT32\\n    }\\n  }\\n  attr {\\n    key: &quot;keep_dims&quot;\\n    value {\\n      b: false\\n    }\\n  }\\n}\\nnode {\\n  name: &quot;train_1/gradients/dnn/hidden_1/score_grad/Reshape_1&quot;\\n  op: &quot;Reshape&quot;\\n  input: &quot;train_1/gradients/dnn/hidden_1/score_grad/Sum_1&quot;\\n  input: &quot;train_1/gradients/dnn/hidden_1/score_grad/Shape_1&quot;\\n  attr {\\n    key: &quot;T&quot;\\n    value {\\n      type: DT_FLOAT\\n    }\\n  }\\n  attr {\\n    key: &quot;Tshape&quot;\\n    value {\\n      type: DT_INT32\\n    }\\n  }\\n}\\nnode {\\n  name: &quot;train_1/gradients/dnn/hidden_1/score_grad/tuple/group_deps&quot;\\n  op: &quot;NoOp&quot;\\n  input: &quot;^train_1/gradients/dnn/hidden_1/score_grad/Reshape&quot;\\n  input: &quot;^train_1/gradients/dnn/hidden_1/score_grad/Reshape_1&quot;\\n}\\nnode {\\n  name: &quot;train_1/gradients/dnn/hidden_1/score_grad/tuple/control_dependency&quot;\\n  op: &quot;Identity&quot;\\n  input: &quot;train_1/gradients/dnn/hidden_1/score_grad/Reshape&quot;\\n  input: &quot;^train_1/gradients/dnn/hidden_1/score_grad/tuple/group_deps&quot;\\n  attr {\\n    key: &quot;T&quot;\\n    value {\\n      type: DT_FLOAT\\n    }\\n  }\\n  attr {\\n    key: &quot;_class&quot;\\n    value {\\n      list {\\n        s: &quot;loc:@train_1/gradients/dnn/hidden_1/score_grad/Reshape&quot;\\n      }\\n    }\\n  }\\n}\\nnode {\\n  name: &quot;train_1/gradients/dnn/hidden_1/score_grad/tuple/control_dependency_1&quot;\\n  op: &quot;Identity&quot;\\n  input: &quot;train_1/gradients/dnn/hidden_1/score_grad/Reshape_1&quot;\\n  input: &quot;^train_1/gradients/dnn/hidden_1/score_grad/tuple/group_deps&quot;\\n  attr {\\n    key: &quot;T&quot;\\n    value {\\n      type: DT_FLOAT\\n    }\\n  }\\n  attr {\\n    key: &quot;_class&quot;\\n    value {\\n      list {\\n        s: &quot;loc:@train_1/gradients/dnn/hidden_1/score_grad/Reshape_1&quot;\\n      }\\n    }\\n  }\\n}\\nnode {\\n  name: &quot;train_1/gradients/dnn/hidden_1/MatMul_grad/MatMul&quot;\\n  op: &quot;MatMul&quot;\\n  input: &quot;train_1/gradients/dnn/hidden_1/score_grad/tuple/control_dependency&quot;\\n  input: &quot;dnn/hidden_1/weights/read&quot;\\n  attr {\\n    key: &quot;T&quot;\\n    value {\\n      type: DT_FLOAT\\n    }\\n  }\\n  attr {\\n    key: &quot;transpose_a&quot;\\n    value {\\n      b: false\\n    }\\n  }\\n  attr {\\n    key: &quot;transpose_b&quot;\\n    value {\\n      b: true\\n    }\\n  }\\n}\\nnode {\\n  name: &quot;train_1/gradients/dnn/hidden_1/MatMul_grad/MatMul_1&quot;\\n  op: &quot;MatMul&quot;\\n  input: &quot;x&quot;\\n  input: &quot;train_1/gradients/dnn/hidden_1/score_grad/tuple/control_dependency&quot;\\n  attr {\\n    key: &quot;T&quot;\\n    value {\\n      type: DT_FLOAT\\n    }\\n  }\\n  attr {\\n    key: &quot;transpose_a&quot;\\n    value {\\n      b: true\\n    }\\n  }\\n  attr {\\n    key: &quot;transpose_b&quot;\\n    value {\\n      b: false\\n    }\\n  }\\n}\\nnode {\\n  name: &quot;train_1/gradients/dnn/hidden_1/MatMul_grad/tuple/group_deps&quot;\\n  op: &quot;NoOp&quot;\\n  input: &quot;^train_1/gradients/dnn/hidden_1/MatMul_grad/MatMul&quot;\\n  input: &quot;^train_1/gradients/dnn/hidden_1/MatMul_grad/MatMul_1&quot;\\n}\\nnode {\\n  name: &quot;train_1/gradients/dnn/hidden_1/MatMul_grad/tuple/control_dependency&quot;\\n  op: &quot;Identity&quot;\\n  input: &quot;train_1/gradients/dnn/hidden_1/MatMul_grad/MatMul&quot;\\n  input: &quot;^train_1/gradients/dnn/hidden_1/MatMul_grad/tuple/group_deps&quot;\\n  attr {\\n    key: &quot;T&quot;\\n    value {\\n      type: DT_FLOAT\\n    }\\n  }\\n  attr {\\n    key: &quot;_class&quot;\\n    value {\\n      list {\\n        s: &quot;loc:@train_1/gradients/dnn/hidden_1/MatMul_grad/MatMul&quot;\\n      }\\n    }\\n  }\\n}\\nnode {\\n  name: &quot;train_1/gradients/dnn/hidden_1/MatMul_grad/tuple/control_dependency_1&quot;\\n  op: &quot;Identity&quot;\\n  input: &quot;train_1/gradients/dnn/hidden_1/MatMul_grad/MatMul_1&quot;\\n  input: &quot;^train_1/gradients/dnn/hidden_1/MatMul_grad/tuple/group_deps&quot;\\n  attr {\\n    key: &quot;T&quot;\\n    value {\\n      type: DT_FLOAT\\n    }\\n  }\\n  attr {\\n    key: &quot;_class&quot;\\n    value {\\n      list {\\n        s: &quot;loc:@train_1/gradients/dnn/hidden_1/MatMul_grad/MatMul_1&quot;\\n      }\\n    }\\n  }\\n}\\nnode {\\n  name: &quot;train_1/GradientDescent/learning_rate&quot;\\n  op: &quot;Const&quot;\\n  attr {\\n    key: &quot;dtype&quot;\\n    value {\\n      type: DT_FLOAT\\n    }\\n  }\\n  attr {\\n    key: &quot;value&quot;\\n    value {\\n      tensor {\\n        dtype: DT_FLOAT\\n        tensor_shape {\\n        }\\n        float_val: 0.009999999776482582\\n      }\\n    }\\n  }\\n}\\nnode {\\n  name: &quot;train_1/GradientDescent/update_dnn/hidden_1/weights/ApplyGradientDescent&quot;\\n  op: &quot;ApplyGradientDescent&quot;\\n  input: &quot;dnn/hidden_1/weights&quot;\\n  input: &quot;train_1/GradientDescent/learning_rate&quot;\\n  input: &quot;train_1/gradients/dnn/hidden_1/MatMul_grad/tuple/control_dependency_1&quot;\\n  attr {\\n    key: &quot;T&quot;\\n    value {\\n      type: DT_FLOAT\\n    }\\n  }\\n  attr {\\n    key: &quot;_class&quot;\\n    value {\\n      list {\\n        s: &quot;loc:@dnn/hidden_1/weights&quot;\\n      }\\n    }\\n  }\\n  attr {\\n    key: &quot;use_locking&quot;\\n    value {\\n      b: false\\n    }\\n  }\\n}\\nnode {\\n  name: &quot;train_1/GradientDescent/update_dnn/hidden_1/biases/ApplyGradientDescent&quot;\\n  op: &quot;ApplyGradientDescent&quot;\\n  input: &quot;dnn/hidden_1/biases&quot;\\n  input: &quot;train_1/GradientDescent/learning_rate&quot;\\n  input: &quot;train_1/gradients/dnn/hidden_1/score_grad/tuple/control_dependency_1&quot;\\n  attr {\\n    key: &quot;T&quot;\\n    value {\\n      type: DT_FLOAT\\n    }\\n  }\\n  attr {\\n    key: &quot;_class&quot;\\n    value {\\n      list {\\n        s: &quot;loc:@dnn/hidden_1/biases&quot;\\n      }\\n    }\\n  }\\n  attr {\\n    key: &quot;use_locking&quot;\\n    value {\\n      b: false\\n    }\\n  }\\n}\\nnode {\\n  name: &quot;train_1/GradientDescent/update_dnn/hidden_2/weights/ApplyGradientDescent&quot;\\n  op: &quot;ApplyGradientDescent&quot;\\n  input: &quot;dnn/hidden_2/weights&quot;\\n  input: &quot;train_1/GradientDescent/learning_rate&quot;\\n  input: &quot;train_1/gradients/dnn/hidden_2/MatMul_grad/tuple/control_dependency_1&quot;\\n  attr {\\n    key: &quot;T&quot;\\n    value {\\n      type: DT_FLOAT\\n    }\\n  }\\n  attr {\\n    key: &quot;_class&quot;\\n    value {\\n      list {\\n        s: &quot;loc:@dnn/hidden_2/weights&quot;\\n      }\\n    }\\n  }\\n  attr {\\n    key: &quot;use_locking&quot;\\n    value {\\n      b: false\\n    }\\n  }\\n}\\nnode {\\n  name: &quot;train_1/GradientDescent/update_dnn/hidden_2/biases/ApplyGradientDescent&quot;\\n  op: &quot;ApplyGradientDescent&quot;\\n  input: &quot;dnn/hidden_2/biases&quot;\\n  input: &quot;train_1/GradientDescent/learning_rate&quot;\\n  input: &quot;train_1/gradients/dnn/hidden_2/score_grad/tuple/control_dependency_1&quot;\\n  attr {\\n    key: &quot;T&quot;\\n    value {\\n      type: DT_FLOAT\\n    }\\n  }\\n  attr {\\n    key: &quot;_class&quot;\\n    value {\\n      list {\\n        s: &quot;loc:@dnn/hidden_2/biases&quot;\\n      }\\n    }\\n  }\\n  attr {\\n    key: &quot;use_locking&quot;\\n    value {\\n      b: false\\n    }\\n  }\\n}\\nnode {\\n  name: &quot;train_1/GradientDescent/update_dnn/output/weights/ApplyGradientDescent&quot;\\n  op: &quot;ApplyGradientDescent&quot;\\n  input: &quot;dnn/output/weights&quot;\\n  input: &quot;train_1/GradientDescent/learning_rate&quot;\\n  input: &quot;train_1/gradients/dnn/output/MatMul_grad/tuple/control_dependency_1&quot;\\n  attr {\\n    key: &quot;T&quot;\\n    value {\\n      type: DT_FLOAT\\n    }\\n  }\\n  attr {\\n    key: &quot;_class&quot;\\n    value {\\n      list {\\n        s: &quot;loc:@dnn/output/weights&quot;\\n      }\\n    }\\n  }\\n  attr {\\n    key: &quot;use_locking&quot;\\n    value {\\n      b: false\\n    }\\n  }\\n}\\nnode {\\n  name: &quot;train_1/GradientDescent/update_dnn/output/biases/ApplyGradientDescent&quot;\\n  op: &quot;ApplyGradientDescent&quot;\\n  input: &quot;dnn/output/biases&quot;\\n  input: &quot;train_1/GradientDescent/learning_rate&quot;\\n  input: &quot;train_1/gradients/dnn/output/score_grad/tuple/control_dependency_1&quot;\\n  attr {\\n    key: &quot;T&quot;\\n    value {\\n      type: DT_FLOAT\\n    }\\n  }\\n  attr {\\n    key: &quot;_class&quot;\\n    value {\\n      list {\\n        s: &quot;loc:@dnn/output/biases&quot;\\n      }\\n    }\\n  }\\n  attr {\\n    key: &quot;use_locking&quot;\\n    value {\\n      b: false\\n    }\\n  }\\n}\\nnode {\\n  name: &quot;train_1/GradientDescent&quot;\\n  op: &quot;NoOp&quot;\\n  input: &quot;^train_1/GradientDescent/update_dnn/hidden_1/weights/ApplyGradientDescent&quot;\\n  input: &quot;^train_1/GradientDescent/update_dnn/hidden_1/biases/ApplyGradientDescent&quot;\\n  input: &quot;^train_1/GradientDescent/update_dnn/hidden_2/weights/ApplyGradientDescent&quot;\\n  input: &quot;^train_1/GradientDescent/update_dnn/hidden_2/biases/ApplyGradientDescent&quot;\\n  input: &quot;^train_1/GradientDescent/update_dnn/output/weights/ApplyGradientDescent&quot;\\n  input: &quot;^train_1/GradientDescent/update_dnn/output/biases/ApplyGradientDescent&quot;\\n}\\nnode {\\n  name: &quot;loss_1/SparseSoftmaxCrossEntropyWithLogits/Shape&quot;\\n  op: &quot;Shape&quot;\\n  input: &quot;y&quot;\\n  attr {\\n    key: &quot;T&quot;\\n    value {\\n      type: DT_INT64\\n    }\\n  }\\n  attr {\\n    key: &quot;out_type&quot;\\n    value {\\n      type: DT_INT32\\n    }\\n  }\\n}\\nnode {\\n  name: &quot;loss_1/SparseSoftmaxCrossEntropyWithLogits/SparseSoftmaxCrossEntropyWithLogits&quot;\\n  op: &quot;SparseSoftmaxCrossEntropyWithLogits&quot;\\n  input: &quot;dnn/output/score&quot;\\n  input: &quot;y&quot;\\n  attr {\\n    key: &quot;T&quot;\\n    value {\\n      type: DT_FLOAT\\n    }\\n  }\\n  attr {\\n    key: &quot;Tlabels&quot;\\n    value {\\n      type: DT_INT64\\n    }\\n  }\\n}\\nnode {\\n  name: &quot;loss_1/Const&quot;\\n  op: &quot;Const&quot;\\n  attr {\\n    key: &quot;dtype&quot;\\n    value {\\n      type: DT_INT32\\n    }\\n  }\\n  attr {\\n    key: &quot;value&quot;\\n    value {\\n      tensor {\\n        dtype: DT_INT32\\n        tensor_shape {\\n          dim {\\n            size: 1\\n          }\\n        }\\n        int_val: 0\\n      }\\n    }\\n  }\\n}\\nnode {\\n  name: &quot;loss_1/loss&quot;\\n  op: &quot;Mean&quot;\\n  input: &quot;loss_1/SparseSoftmaxCrossEntropyWithLogits/SparseSoftmaxCrossEntropyWithLogits&quot;\\n  input: &quot;loss_1/Const&quot;\\n  attr {\\n    key: &quot;T&quot;\\n    value {\\n      type: DT_FLOAT\\n    }\\n  }\\n  attr {\\n    key: &quot;Tidx&quot;\\n    value {\\n      type: DT_INT32\\n    }\\n  }\\n  attr {\\n    key: &quot;keep_dims&quot;\\n    value {\\n      b: false\\n    }\\n  }\\n}\\nnode {\\n  name: &quot;train_2/gradients/Shape&quot;\\n  op: &quot;Const&quot;\\n  attr {\\n    key: &quot;dtype&quot;\\n    value {\\n      type: DT_INT32\\n    }\\n  }\\n  attr {\\n    key: &quot;value&quot;\\n    value {\\n      tensor {\\n        dtype: DT_INT32\\n        tensor_shape {\\n          dim {\\n          }\\n        }\\n      }\\n    }\\n  }\\n}\\nnode {\\n  name: &quot;train_2/gradients/Const&quot;\\n  op: &quot;Const&quot;\\n  attr {\\n    key: &quot;dtype&quot;\\n    value {\\n      type: DT_FLOAT\\n    }\\n  }\\n  attr {\\n    key: &quot;value&quot;\\n    value {\\n      tensor {\\n        dtype: DT_FLOAT\\n        tensor_shape {\\n        }\\n        float_val: 1.0\\n      }\\n    }\\n  }\\n}\\nnode {\\n  name: &quot;train_2/gradients/Fill&quot;\\n  op: &quot;Fill&quot;\\n  input: &quot;train_2/gradients/Shape&quot;\\n  input: &quot;train_2/gradients/Const&quot;\\n  attr {\\n    key: &quot;T&quot;\\n    value {\\n      type: DT_FLOAT\\n    }\\n  }\\n}\\nnode {\\n  name: &quot;train_2/gradients/loss/loss_grad/Reshape/shape&quot;\\n  op: &quot;Const&quot;\\n  attr {\\n    key: &quot;dtype&quot;\\n    value {\\n      type: DT_INT32\\n    }\\n  }\\n  attr {\\n    key: &quot;value&quot;\\n    value {\\n      tensor {\\n        dtype: DT_INT32\\n        tensor_shape {\\n          dim {\\n            size: 1\\n          }\\n        }\\n        int_val: 1\\n      }\\n    }\\n  }\\n}\\nnode {\\n  name: &quot;train_2/gradients/loss/loss_grad/Reshape&quot;\\n  op: &quot;Reshape&quot;\\n  input: &quot;train_2/gradients/Fill&quot;\\n  input: &quot;train_2/gradients/loss/loss_grad/Reshape/shape&quot;\\n  attr {\\n    key: &quot;T&quot;\\n    value {\\n      type: DT_FLOAT\\n    }\\n  }\\n  attr {\\n    key: &quot;Tshape&quot;\\n    value {\\n      type: DT_INT32\\n    }\\n  }\\n}\\nnode {\\n  name: &quot;train_2/gradients/loss/loss_grad/Shape&quot;\\n  op: &quot;Shape&quot;\\n  input: &quot;loss/SparseSoftmaxCrossEntropyWithLogits/SparseSoftmaxCrossEntropyWithLogits&quot;\\n  attr {\\n    key: &quot;T&quot;\\n    value {\\n      type: DT_FLOAT\\n    }\\n  }\\n  attr {\\n    key: &quot;out_type&quot;\\n    value {\\n      type: DT_INT32\\n    }\\n  }\\n}\\nnode {\\n  name: &quot;train_2/gradients/loss/loss_grad/Tile&quot;\\n  op: &quot;Tile&quot;\\n  input: &quot;train_2/gradients/loss/loss_grad/Reshape&quot;\\n  input: &quot;train_2/gradients/loss/loss_grad/Shape&quot;\\n  attr {\\n    key: &quot;T&quot;\\n    value {\\n      type: DT_FLOAT\\n    }\\n  }\\n  attr {\\n    key: &quot;Tmultiples&quot;\\n    value {\\n      type: DT_INT32\\n    }\\n  }\\n}\\nnode {\\n  name: &quot;train_2/gradients/loss/loss_grad/Shape_1&quot;\\n  op: &quot;Shape&quot;\\n  input: &quot;loss/SparseSoftmaxCrossEntropyWithLogits/SparseSoftmaxCrossEntropyWithLogits&quot;\\n  attr {\\n    key: &quot;T&quot;\\n    value {\\n      type: DT_FLOAT\\n    }\\n  }\\n  attr {\\n    key: &quot;out_type&quot;\\n    value {\\n      type: DT_INT32\\n    }\\n  }\\n}\\nnode {\\n  name: &quot;train_2/gradients/loss/loss_grad/Shape_2&quot;\\n  op: &quot;Const&quot;\\n  attr {\\n    key: &quot;dtype&quot;\\n    value {\\n      type: DT_INT32\\n    }\\n  }\\n  attr {\\n    key: &quot;value&quot;\\n    value {\\n      tensor {\\n        dtype: DT_INT32\\n        tensor_shape {\\n          dim {\\n          }\\n        }\\n      }\\n    }\\n  }\\n}\\nnode {\\n  name: &quot;train_2/gradients/loss/loss_grad/Const&quot;\\n  op: &quot;Const&quot;\\n  attr {\\n    key: &quot;dtype&quot;\\n    value {\\n      type: DT_INT32\\n    }\\n  }\\n  attr {\\n    key: &quot;value&quot;\\n    value {\\n      tensor {\\n        dtype: DT_INT32\\n        tensor_shape {\\n          dim {\\n            size: 1\\n          }\\n        }\\n        int_val: 0\\n      }\\n    }\\n  }\\n}\\nnode {\\n  name: &quot;train_2/gradients/loss/loss_grad/Prod&quot;\\n  op: &quot;Prod&quot;\\n  input: &quot;train_2/gradients/loss/loss_grad/Shape_1&quot;\\n  input: &quot;train_2/gradients/loss/loss_grad/Const&quot;\\n  attr {\\n    key: &quot;T&quot;\\n    value {\\n      type: DT_INT32\\n    }\\n  }\\n  attr {\\n    key: &quot;Tidx&quot;\\n    value {\\n      type: DT_INT32\\n    }\\n  }\\n  attr {\\n    key: &quot;keep_dims&quot;\\n    value {\\n      b: false\\n    }\\n  }\\n}\\nnode {\\n  name: &quot;train_2/gradients/loss/loss_grad/Const_1&quot;\\n  op: &quot;Const&quot;\\n  attr {\\n    key: &quot;dtype&quot;\\n    value {\\n      type: DT_INT32\\n    }\\n  }\\n  attr {\\n    key: &quot;value&quot;\\n    value {\\n      tensor {\\n        dtype: DT_INT32\\n        tensor_shape {\\n          dim {\\n            size: 1\\n          }\\n        }\\n        int_val: 0\\n      }\\n    }\\n  }\\n}\\nnode {\\n  name: &quot;train_2/gradients/loss/loss_grad/Prod_1&quot;\\n  op: &quot;Prod&quot;\\n  input: &quot;train_2/gradients/loss/loss_grad/Shape_2&quot;\\n  input: &quot;train_2/gradients/loss/loss_grad/Const_1&quot;\\n  attr {\\n    key: &quot;T&quot;\\n    value {\\n      type: DT_INT32\\n    }\\n  }\\n  attr {\\n    key: &quot;Tidx&quot;\\n    value {\\n      type: DT_INT32\\n    }\\n  }\\n  attr {\\n    key: &quot;keep_dims&quot;\\n    value {\\n      b: false\\n    }\\n  }\\n}\\nnode {\\n  name: &quot;train_2/gradients/loss/loss_grad/Maximum/y&quot;\\n  op: &quot;Const&quot;\\n  attr {\\n    key: &quot;dtype&quot;\\n    value {\\n      type: DT_INT32\\n    }\\n  }\\n  attr {\\n    key: &quot;value&quot;\\n    value {\\n      tensor {\\n        dtype: DT_INT32\\n        tensor_shape {\\n        }\\n        int_val: 1\\n      }\\n    }\\n  }\\n}\\nnode {\\n  name: &quot;train_2/gradients/loss/loss_grad/Maximum&quot;\\n  op: &quot;Maximum&quot;\\n  input: &quot;train_2/gradients/loss/loss_grad/Prod_1&quot;\\n  input: &quot;train_2/gradients/loss/loss_grad/Maximum/y&quot;\\n  attr {\\n    key: &quot;T&quot;\\n    value {\\n      type: DT_INT32\\n    }\\n  }\\n}\\nnode {\\n  name: &quot;train_2/gradients/loss/loss_grad/floordiv&quot;\\n  op: &quot;FloorDiv&quot;\\n  input: &quot;train_2/gradients/loss/loss_grad/Prod&quot;\\n  input: &quot;train_2/gradients/loss/loss_grad/Maximum&quot;\\n  attr {\\n    key: &quot;T&quot;\\n    value {\\n      type: DT_INT32\\n    }\\n  }\\n}\\nnode {\\n  name: &quot;train_2/gradients/loss/loss_grad/Cast&quot;\\n  op: &quot;Cast&quot;\\n  input: &quot;train_2/gradients/loss/loss_grad/floordiv&quot;\\n  attr {\\n    key: &quot;DstT&quot;\\n    value {\\n      type: DT_FLOAT\\n    }\\n  }\\n  attr {\\n    key: &quot;SrcT&quot;\\n    value {\\n      type: DT_INT32\\n    }\\n  }\\n}\\nnode {\\n  name: &quot;train_2/gradients/loss/loss_grad/truediv&quot;\\n  op: &quot;RealDiv&quot;\\n  input: &quot;train_2/gradients/loss/loss_grad/Tile&quot;\\n  input: &quot;train_2/gradients/loss/loss_grad/Cast&quot;\\n  attr {\\n    key: &quot;T&quot;\\n    value {\\n      type: DT_FLOAT\\n    }\\n  }\\n}\\nnode {\\n  name: &quot;train_2/gradients/zeros_like&quot;\\n  op: &quot;ZerosLike&quot;\\n  input: &quot;loss/SparseSoftmaxCrossEntropyWithLogits/SparseSoftmaxCrossEntropyWithLogits:1&quot;\\n  attr {\\n    key: &quot;T&quot;\\n    value {\\n      type: DT_FLOAT\\n    }\\n  }\\n}\\nnode {\\n  name: &quot;train_2/gradients/loss/SparseSoftmaxCrossEntropyWithLogits/SparseSoftmaxCrossEntropyWithLogits_grad/PreventGradient&quot;\\n  op: &quot;PreventGradient&quot;\\n  input: &quot;loss/SparseSoftmaxCrossEntropyWithLogits/SparseSoftmaxCrossEntropyWithLogits:1&quot;\\n  attr {\\n    key: &quot;T&quot;\\n    value {\\n      type: DT_FLOAT\\n    }\\n  }\\n  attr {\\n    key: &quot;message&quot;\\n    value {\\n      s: &quot;Currently there is no way to take the second derivative of sparse_softmax_cross_entropy_with_logits due to the fused implementation\\\\\\'s interaction with tf.gradients()&quot;\\n    }\\n  }\\n}\\nnode {\\n  name: &quot;train_2/gradients/loss/SparseSoftmaxCrossEntropyWithLogits/SparseSoftmaxCrossEntropyWithLogits_grad/ExpandDims/dim&quot;\\n  op: &quot;Const&quot;\\n  attr {\\n    key: &quot;dtype&quot;\\n    value {\\n      type: DT_INT32\\n    }\\n  }\\n  attr {\\n    key: &quot;value&quot;\\n    value {\\n      tensor {\\n        dtype: DT_INT32\\n        tensor_shape {\\n        }\\n        int_val: -1\\n      }\\n    }\\n  }\\n}\\nnode {\\n  name: &quot;train_2/gradients/loss/SparseSoftmaxCrossEntropyWithLogits/SparseSoftmaxCrossEntropyWithLogits_grad/ExpandDims&quot;\\n  op: &quot;ExpandDims&quot;\\n  input: &quot;train_2/gradients/loss/loss_grad/truediv&quot;\\n  input: &quot;train_2/gradients/loss/SparseSoftmaxCrossEntropyWithLogits/SparseSoftmaxCrossEntropyWithLogits_grad/ExpandDims/dim&quot;\\n  attr {\\n    key: &quot;T&quot;\\n    value {\\n      type: DT_FLOAT\\n    }\\n  }\\n  attr {\\n    key: &quot;Tdim&quot;\\n    value {\\n      type: DT_INT32\\n    }\\n  }\\n}\\nnode {\\n  name: &quot;train_2/gradients/loss/SparseSoftmaxCrossEntropyWithLogits/SparseSoftmaxCrossEntropyWithLogits_grad/mul&quot;\\n  op: &quot;Mul&quot;\\n  input: &quot;train_2/gradients/loss/SparseSoftmaxCrossEntropyWithLogits/SparseSoftmaxCrossEntropyWithLogits_grad/ExpandDims&quot;\\n  input: &quot;train_2/gradients/loss/SparseSoftmaxCrossEntropyWithLogits/SparseSoftmaxCrossEntropyWithLogits_grad/PreventGradient&quot;\\n  attr {\\n    key: &quot;T&quot;\\n    value {\\n      type: DT_FLOAT\\n    }\\n  }\\n}\\nnode {\\n  name: &quot;train_2/gradients/dnn/output/score_grad/Shape&quot;\\n  op: &quot;Shape&quot;\\n  input: &quot;dnn/output/MatMul&quot;\\n  attr {\\n    key: &quot;T&quot;\\n    value {\\n      type: DT_FLOAT\\n    }\\n  }\\n  attr {\\n    key: &quot;out_type&quot;\\n    value {\\n      type: DT_INT32\\n    }\\n  }\\n}\\nnode {\\n  name: &quot;train_2/gradients/dnn/output/score_grad/Shape_1&quot;\\n  op: &quot;Const&quot;\\n  attr {\\n    key: &quot;dtype&quot;\\n    value {\\n      type: DT_INT32\\n    }\\n  }\\n  attr {\\n    key: &quot;value&quot;\\n    value {\\n      tensor {\\n        dtype: DT_INT32\\n        tensor_shape {\\n          dim {\\n            size: 1\\n          }\\n        }\\n        int_val: 10\\n      }\\n    }\\n  }\\n}\\nnode {\\n  name: &quot;train_2/gradients/dnn/output/score_grad/BroadcastGradientArgs&quot;\\n  op: &quot;BroadcastGradientArgs&quot;\\n  input: &quot;train_2/gradients/dnn/output/score_grad/Shape&quot;\\n  input: &quot;train_2/gradients/dnn/output/score_grad/Shape_1&quot;\\n  attr {\\n    key: &quot;T&quot;\\n    value {\\n      type: DT_INT32\\n    }\\n  }\\n}\\nnode {\\n  name: &quot;train_2/gradients/dnn/output/score_grad/Sum&quot;\\n  op: &quot;Sum&quot;\\n  input: &quot;train_2/gradients/loss/SparseSoftmaxCrossEntropyWithLogits/SparseSoftmaxCrossEntropyWithLogits_grad/mul&quot;\\n  input: &quot;train_2/gradients/dnn/output/score_grad/BroadcastGradientArgs&quot;\\n  attr {\\n    key: &quot;T&quot;\\n    value {\\n      type: DT_FLOAT\\n    }\\n  }\\n  attr {\\n    key: &quot;Tidx&quot;\\n    value {\\n      type: DT_INT32\\n    }\\n  }\\n  attr {\\n    key: &quot;keep_dims&quot;\\n    value {\\n      b: false\\n    }\\n  }\\n}\\nnode {\\n  name: &quot;train_2/gradients/dnn/output/score_grad/Reshape&quot;\\n  op: &quot;Reshape&quot;\\n  input: &quot;train_2/gradients/dnn/output/score_grad/Sum&quot;\\n  input: &quot;train_2/gradients/dnn/output/score_grad/Shape&quot;\\n  attr {\\n    key: &quot;T&quot;\\n    value {\\n      type: DT_FLOAT\\n    }\\n  }\\n  attr {\\n    key: &quot;Tshape&quot;\\n    value {\\n      type: DT_INT32\\n    }\\n  }\\n}\\nnode {\\n  name: &quot;train_2/gradients/dnn/output/score_grad/Sum_1&quot;\\n  op: &quot;Sum&quot;\\n  input: &quot;train_2/gradients/loss/SparseSoftmaxCrossEntropyWithLogits/SparseSoftmaxCrossEntropyWithLogits_grad/mul&quot;\\n  input: &quot;train_2/gradients/dnn/output/score_grad/BroadcastGradientArgs:1&quot;\\n  attr {\\n    key: &quot;T&quot;\\n    value {\\n      type: DT_FLOAT\\n    }\\n  }\\n  attr {\\n    key: &quot;Tidx&quot;\\n    value {\\n      type: DT_INT32\\n    }\\n  }\\n  attr {\\n    key: &quot;keep_dims&quot;\\n    value {\\n      b: false\\n    }\\n  }\\n}\\nnode {\\n  name: &quot;train_2/gradients/dnn/output/score_grad/Reshape_1&quot;\\n  op: &quot;Reshape&quot;\\n  input: &quot;train_2/gradients/dnn/output/score_grad/Sum_1&quot;\\n  input: &quot;train_2/gradients/dnn/output/score_grad/Shape_1&quot;\\n  attr {\\n    key: &quot;T&quot;\\n    value {\\n      type: DT_FLOAT\\n    }\\n  }\\n  attr {\\n    key: &quot;Tshape&quot;\\n    value {\\n      type: DT_INT32\\n    }\\n  }\\n}\\nnode {\\n  name: &quot;train_2/gradients/dnn/output/score_grad/tuple/group_deps&quot;\\n  op: &quot;NoOp&quot;\\n  input: &quot;^train_2/gradients/dnn/output/score_grad/Reshape&quot;\\n  input: &quot;^train_2/gradients/dnn/output/score_grad/Reshape_1&quot;\\n}\\nnode {\\n  name: &quot;train_2/gradients/dnn/output/score_grad/tuple/control_dependency&quot;\\n  op: &quot;Identity&quot;\\n  input: &quot;train_2/gradients/dnn/output/score_grad/Reshape&quot;\\n  input: &quot;^train_2/gradients/dnn/output/score_grad/tuple/group_deps&quot;\\n  attr {\\n    key: &quot;T&quot;\\n    value {\\n      type: DT_FLOAT\\n    }\\n  }\\n  attr {\\n    key: &quot;_class&quot;\\n    value {\\n      list {\\n        s: &quot;loc:@train_2/gradients/dnn/output/score_grad/Reshape&quot;\\n      }\\n    }\\n  }\\n}\\nnode {\\n  name: &quot;train_2/gradients/dnn/output/score_grad/tuple/control_dependency_1&quot;\\n  op: &quot;Identity&quot;\\n  input: &quot;train_2/gradients/dnn/output/score_grad/Reshape_1&quot;\\n  input: &quot;^train_2/gradients/dnn/output/score_grad/tuple/group_deps&quot;\\n  attr {\\n    key: &quot;T&quot;\\n    value {\\n      type: DT_FLOAT\\n    }\\n  }\\n  attr {\\n    key: &quot;_class&quot;\\n    value {\\n      list {\\n        s: &quot;loc:@train_2/gradients/dnn/output/score_grad/Reshape_1&quot;\\n      }\\n    }\\n  }\\n}\\nnode {\\n  name: &quot;train_2/gradients/dnn/output/MatMul_grad/MatMul&quot;\\n  op: &quot;MatMul&quot;\\n  input: &quot;train_2/gradients/dnn/output/score_grad/tuple/control_dependency&quot;\\n  input: &quot;dnn/output/weights/read&quot;\\n  attr {\\n    key: &quot;T&quot;\\n    value {\\n      type: DT_FLOAT\\n    }\\n  }\\n  attr {\\n    key: &quot;transpose_a&quot;\\n    value {\\n      b: false\\n    }\\n  }\\n  attr {\\n    key: &quot;transpose_b&quot;\\n    value {\\n      b: true\\n    }\\n  }\\n}\\nnode {\\n  name: &quot;train_2/gradients/dnn/output/MatMul_grad/MatMul_1&quot;\\n  op: &quot;MatMul&quot;\\n  input: &quot;dnn/hidden_2/Relu&quot;\\n  input: &quot;train_2/gradients/dnn/output/score_grad/tuple/control_dependency&quot;\\n  attr {\\n    key: &quot;T&quot;\\n    value {\\n      type: DT_FLOAT\\n    }\\n  }\\n  attr {\\n    key: &quot;transpose_a&quot;\\n    value {\\n      b: true\\n    }\\n  }\\n  attr {\\n    key: &quot;transpose_b&quot;\\n    value {\\n      b: false\\n    }\\n  }\\n}\\nnode {\\n  name: &quot;train_2/gradients/dnn/output/MatMul_grad/tuple/group_deps&quot;\\n  op: &quot;NoOp&quot;\\n  input: &quot;^train_2/gradients/dnn/output/MatMul_grad/MatMul&quot;\\n  input: &quot;^train_2/gradients/dnn/output/MatMul_grad/MatMul_1&quot;\\n}\\nnode {\\n  name: &quot;train_2/gradients/dnn/output/MatMul_grad/tuple/control_dependency&quot;\\n  op: &quot;Identity&quot;\\n  input: &quot;train_2/gradients/dnn/output/MatMul_grad/MatMul&quot;\\n  input: &quot;^train_2/gradients/dnn/output/MatMul_grad/tuple/group_deps&quot;\\n  attr {\\n    key: &quot;T&quot;\\n    value {\\n      type: DT_FLOAT\\n    }\\n  }\\n  attr {\\n    key: &quot;_class&quot;\\n    value {\\n      list {\\n        s: &quot;loc:@train_2/gradients/dnn/output/MatMul_grad/MatMul&quot;\\n      }\\n    }\\n  }\\n}\\nnode {\\n  name: &quot;train_2/gradients/dnn/output/MatMul_grad/tuple/control_dependency_1&quot;\\n  op: &quot;Identity&quot;\\n  input: &quot;train_2/gradients/dnn/output/MatMul_grad/MatMul_1&quot;\\n  input: &quot;^train_2/gradients/dnn/output/MatMul_grad/tuple/group_deps&quot;\\n  attr {\\n    key: &quot;T&quot;\\n    value {\\n      type: DT_FLOAT\\n    }\\n  }\\n  attr {\\n    key: &quot;_class&quot;\\n    value {\\n      list {\\n        s: &quot;loc:@train_2/gradients/dnn/output/MatMul_grad/MatMul_1&quot;\\n      }\\n    }\\n  }\\n}\\nnode {\\n  name: &quot;train_2/gradients/dnn/hidden_2/Relu_grad/ReluGrad&quot;\\n  op: &quot;ReluGrad&quot;\\n  input: &quot;train_2/gradients/dnn/output/MatMul_grad/tuple/control_dependency&quot;\\n  input: &quot;dnn/hidden_2/Relu&quot;\\n  attr {\\n    key: &quot;T&quot;\\n    value {\\n      type: DT_FLOAT\\n    }\\n  }\\n}\\nnode {\\n  name: &quot;train_2/gradients/dnn/hidden_2/score_grad/Shape&quot;\\n  op: &quot;Shape&quot;\\n  input: &quot;dnn/hidden_2/MatMul&quot;\\n  attr {\\n    key: &quot;T&quot;\\n    value {\\n      type: DT_FLOAT\\n    }\\n  }\\n  attr {\\n    key: &quot;out_type&quot;\\n    value {\\n      type: DT_INT32\\n    }\\n  }\\n}\\nnode {\\n  name: &quot;train_2/gradients/dnn/hidden_2/score_grad/Shape_1&quot;\\n  op: &quot;Const&quot;\\n  attr {\\n    key: &quot;dtype&quot;\\n    value {\\n      type: DT_INT32\\n    }\\n  }\\n  attr {\\n    key: &quot;value&quot;\\n    value {\\n      tensor {\\n        dtype: DT_INT32\\n        tensor_shape {\\n          dim {\\n            size: 1\\n          }\\n        }\\n        int_val: 100\\n      }\\n    }\\n  }\\n}\\nnode {\\n  name: &quot;train_2/gradients/dnn/hidden_2/score_grad/BroadcastGradientArgs&quot;\\n  op: &quot;BroadcastGradientArgs&quot;\\n  input: &quot;train_2/gradients/dnn/hidden_2/score_grad/Shape&quot;\\n  input: &quot;train_2/gradients/dnn/hidden_2/score_grad/Shape_1&quot;\\n  attr {\\n    key: &quot;T&quot;\\n    value {\\n      type: DT_INT32\\n    }\\n  }\\n}\\nnode {\\n  name: &quot;train_2/gradients/dnn/hidden_2/score_grad/Sum&quot;\\n  op: &quot;Sum&quot;\\n  input: &quot;train_2/gradients/dnn/hidden_2/Relu_grad/ReluGrad&quot;\\n  input: &quot;train_2/gradients/dnn/hidden_2/score_grad/BroadcastGradientArgs&quot;\\n  attr {\\n    key: &quot;T&quot;\\n    value {\\n      type: DT_FLOAT\\n    }\\n  }\\n  attr {\\n    key: &quot;Tidx&quot;\\n    value {\\n      type: DT_INT32\\n    }\\n  }\\n  attr {\\n    key: &quot;keep_dims&quot;\\n    value {\\n      b: false\\n    }\\n  }\\n}\\nnode {\\n  name: &quot;train_2/gradients/dnn/hidden_2/score_grad/Reshape&quot;\\n  op: &quot;Reshape&quot;\\n  input: &quot;train_2/gradients/dnn/hidden_2/score_grad/Sum&quot;\\n  input: &quot;train_2/gradients/dnn/hidden_2/score_grad/Shape&quot;\\n  attr {\\n    key: &quot;T&quot;\\n    value {\\n      type: DT_FLOAT\\n    }\\n  }\\n  attr {\\n    key: &quot;Tshape&quot;\\n    value {\\n      type: DT_INT32\\n    }\\n  }\\n}\\nnode {\\n  name: &quot;train_2/gradients/dnn/hidden_2/score_grad/Sum_1&quot;\\n  op: &quot;Sum&quot;\\n  input: &quot;train_2/gradients/dnn/hidden_2/Relu_grad/ReluGrad&quot;\\n  input: &quot;train_2/gradients/dnn/hidden_2/score_grad/BroadcastGradientArgs:1&quot;\\n  attr {\\n    key: &quot;T&quot;\\n    value {\\n      type: DT_FLOAT\\n    }\\n  }\\n  attr {\\n    key: &quot;Tidx&quot;\\n    value {\\n      type: DT_INT32\\n    }\\n  }\\n  attr {\\n    key: &quot;keep_dims&quot;\\n    value {\\n      b: false\\n    }\\n  }\\n}\\nnode {\\n  name: &quot;train_2/gradients/dnn/hidden_2/score_grad/Reshape_1&quot;\\n  op: &quot;Reshape&quot;\\n  input: &quot;train_2/gradients/dnn/hidden_2/score_grad/Sum_1&quot;\\n  input: &quot;train_2/gradients/dnn/hidden_2/score_grad/Shape_1&quot;\\n  attr {\\n    key: &quot;T&quot;\\n    value {\\n      type: DT_FLOAT\\n    }\\n  }\\n  attr {\\n    key: &quot;Tshape&quot;\\n    value {\\n      type: DT_INT32\\n    }\\n  }\\n}\\nnode {\\n  name: &quot;train_2/gradients/dnn/hidden_2/score_grad/tuple/group_deps&quot;\\n  op: &quot;NoOp&quot;\\n  input: &quot;^train_2/gradients/dnn/hidden_2/score_grad/Reshape&quot;\\n  input: &quot;^train_2/gradients/dnn/hidden_2/score_grad/Reshape_1&quot;\\n}\\nnode {\\n  name: &quot;train_2/gradients/dnn/hidden_2/score_grad/tuple/control_dependency&quot;\\n  op: &quot;Identity&quot;\\n  input: &quot;train_2/gradients/dnn/hidden_2/score_grad/Reshape&quot;\\n  input: &quot;^train_2/gradients/dnn/hidden_2/score_grad/tuple/group_deps&quot;\\n  attr {\\n    key: &quot;T&quot;\\n    value {\\n      type: DT_FLOAT\\n    }\\n  }\\n  attr {\\n    key: &quot;_class&quot;\\n    value {\\n      list {\\n        s: &quot;loc:@train_2/gradients/dnn/hidden_2/score_grad/Reshape&quot;\\n      }\\n    }\\n  }\\n}\\nnode {\\n  name: &quot;train_2/gradients/dnn/hidden_2/score_grad/tuple/control_dependency_1&quot;\\n  op: &quot;Identity&quot;\\n  input: &quot;train_2/gradients/dnn/hidden_2/score_grad/Reshape_1&quot;\\n  input: &quot;^train_2/gradients/dnn/hidden_2/score_grad/tuple/group_deps&quot;\\n  attr {\\n    key: &quot;T&quot;\\n    value {\\n      type: DT_FLOAT\\n    }\\n  }\\n  attr {\\n    key: &quot;_class&quot;\\n    value {\\n      list {\\n        s: &quot;loc:@train_2/gradients/dnn/hidden_2/score_grad/Reshape_1&quot;\\n      }\\n    }\\n  }\\n}\\nnode {\\n  name: &quot;train_2/gradients/dnn/hidden_2/MatMul_grad/MatMul&quot;\\n  op: &quot;MatMul&quot;\\n  input: &quot;train_2/gradients/dnn/hidden_2/score_grad/tuple/control_dependency&quot;\\n  input: &quot;dnn/hidden_2/weights/read&quot;\\n  attr {\\n    key: &quot;T&quot;\\n    value {\\n      type: DT_FLOAT\\n    }\\n  }\\n  attr {\\n    key: &quot;transpose_a&quot;\\n    value {\\n      b: false\\n    }\\n  }\\n  attr {\\n    key: &quot;transpose_b&quot;\\n    value {\\n      b: true\\n    }\\n  }\\n}\\nnode {\\n  name: &quot;train_2/gradients/dnn/hidden_2/MatMul_grad/MatMul_1&quot;\\n  op: &quot;MatMul&quot;\\n  input: &quot;dnn/hidden_1/Relu&quot;\\n  input: &quot;train_2/gradients/dnn/hidden_2/score_grad/tuple/control_dependency&quot;\\n  attr {\\n    key: &quot;T&quot;\\n    value {\\n      type: DT_FLOAT\\n    }\\n  }\\n  attr {\\n    key: &quot;transpose_a&quot;\\n    value {\\n      b: true\\n    }\\n  }\\n  attr {\\n    key: &quot;transpose_b&quot;\\n    value {\\n      b: false\\n    }\\n  }\\n}\\nnode {\\n  name: &quot;train_2/gradients/dnn/hidden_2/MatMul_grad/tuple/group_deps&quot;\\n  op: &quot;NoOp&quot;\\n  input: &quot;^train_2/gradients/dnn/hidden_2/MatMul_grad/MatMul&quot;\\n  input: &quot;^train_2/gradients/dnn/hidden_2/MatMul_grad/MatMul_1&quot;\\n}\\nnode {\\n  name: &quot;train_2/gradients/dnn/hidden_2/MatMul_grad/tuple/control_dependency&quot;\\n  op: &quot;Identity&quot;\\n  input: &quot;train_2/gradients/dnn/hidden_2/MatMul_grad/MatMul&quot;\\n  input: &quot;^train_2/gradients/dnn/hidden_2/MatMul_grad/tuple/group_deps&quot;\\n  attr {\\n    key: &quot;T&quot;\\n    value {\\n      type: DT_FLOAT\\n    }\\n  }\\n  attr {\\n    key: &quot;_class&quot;\\n    value {\\n      list {\\n        s: &quot;loc:@train_2/gradients/dnn/hidden_2/MatMul_grad/MatMul&quot;\\n      }\\n    }\\n  }\\n}\\nnode {\\n  name: &quot;train_2/gradients/dnn/hidden_2/MatMul_grad/tuple/control_dependency_1&quot;\\n  op: &quot;Identity&quot;\\n  input: &quot;train_2/gradients/dnn/hidden_2/MatMul_grad/MatMul_1&quot;\\n  input: &quot;^train_2/gradients/dnn/hidden_2/MatMul_grad/tuple/group_deps&quot;\\n  attr {\\n    key: &quot;T&quot;\\n    value {\\n      type: DT_FLOAT\\n    }\\n  }\\n  attr {\\n    key: &quot;_class&quot;\\n    value {\\n      list {\\n        s: &quot;loc:@train_2/gradients/dnn/hidden_2/MatMul_grad/MatMul_1&quot;\\n      }\\n    }\\n  }\\n}\\nnode {\\n  name: &quot;train_2/gradients/dnn/hidden_1/Relu_grad/ReluGrad&quot;\\n  op: &quot;ReluGrad&quot;\\n  input: &quot;train_2/gradients/dnn/hidden_2/MatMul_grad/tuple/control_dependency&quot;\\n  input: &quot;dnn/hidden_1/Relu&quot;\\n  attr {\\n    key: &quot;T&quot;\\n    value {\\n      type: DT_FLOAT\\n    }\\n  }\\n}\\nnode {\\n  name: &quot;train_2/gradients/dnn/hidden_1/score_grad/Shape&quot;\\n  op: &quot;Shape&quot;\\n  input: &quot;dnn/hidden_1/MatMul&quot;\\n  attr {\\n    key: &quot;T&quot;\\n    value {\\n      type: DT_FLOAT\\n    }\\n  }\\n  attr {\\n    key: &quot;out_type&quot;\\n    value {\\n      type: DT_INT32\\n    }\\n  }\\n}\\nnode {\\n  name: &quot;train_2/gradients/dnn/hidden_1/score_grad/Shape_1&quot;\\n  op: &quot;Const&quot;\\n  attr {\\n    key: &quot;dtype&quot;\\n    value {\\n      type: DT_INT32\\n    }\\n  }\\n  attr {\\n    key: &quot;value&quot;\\n    value {\\n      tensor {\\n        dtype: DT_INT32\\n        tensor_shape {\\n          dim {\\n            size: 1\\n          }\\n        }\\n        int_val: 300\\n      }\\n    }\\n  }\\n}\\nnode {\\n  name: &quot;train_2/gradients/dnn/hidden_1/score_grad/BroadcastGradientArgs&quot;\\n  op: &quot;BroadcastGradientArgs&quot;\\n  input: &quot;train_2/gradients/dnn/hidden_1/score_grad/Shape&quot;\\n  input: &quot;train_2/gradients/dnn/hidden_1/score_grad/Shape_1&quot;\\n  attr {\\n    key: &quot;T&quot;\\n    value {\\n      type: DT_INT32\\n    }\\n  }\\n}\\nnode {\\n  name: &quot;train_2/gradients/dnn/hidden_1/score_grad/Sum&quot;\\n  op: &quot;Sum&quot;\\n  input: &quot;train_2/gradients/dnn/hidden_1/Relu_grad/ReluGrad&quot;\\n  input: &quot;train_2/gradients/dnn/hidden_1/score_grad/BroadcastGradientArgs&quot;\\n  attr {\\n    key: &quot;T&quot;\\n    value {\\n      type: DT_FLOAT\\n    }\\n  }\\n  attr {\\n    key: &quot;Tidx&quot;\\n    value {\\n      type: DT_INT32\\n    }\\n  }\\n  attr {\\n    key: &quot;keep_dims&quot;\\n    value {\\n      b: false\\n    }\\n  }\\n}\\nnode {\\n  name: &quot;train_2/gradients/dnn/hidden_1/score_grad/Reshape&quot;\\n  op: &quot;Reshape&quot;\\n  input: &quot;train_2/gradients/dnn/hidden_1/score_grad/Sum&quot;\\n  input: &quot;train_2/gradients/dnn/hidden_1/score_grad/Shape&quot;\\n  attr {\\n    key: &quot;T&quot;\\n    value {\\n      type: DT_FLOAT\\n    }\\n  }\\n  attr {\\n    key: &quot;Tshape&quot;\\n    value {\\n      type: DT_INT32\\n    }\\n  }\\n}\\nnode {\\n  name: &quot;train_2/gradients/dnn/hidden_1/score_grad/Sum_1&quot;\\n  op: &quot;Sum&quot;\\n  input: &quot;train_2/gradients/dnn/hidden_1/Relu_grad/ReluGrad&quot;\\n  input: &quot;train_2/gradients/dnn/hidden_1/score_grad/BroadcastGradientArgs:1&quot;\\n  attr {\\n    key: &quot;T&quot;\\n    value {\\n      type: DT_FLOAT\\n    }\\n  }\\n  attr {\\n    key: &quot;Tidx&quot;\\n    value {\\n      type: DT_INT32\\n    }\\n  }\\n  attr {\\n    key: &quot;keep_dims&quot;\\n    value {\\n      b: false\\n    }\\n  }\\n}\\nnode {\\n  name: &quot;train_2/gradients/dnn/hidden_1/score_grad/Reshape_1&quot;\\n  op: &quot;Reshape&quot;\\n  input: &quot;train_2/gradients/dnn/hidden_1/score_grad/Sum_1&quot;\\n  input: &quot;train_2/gradients/dnn/hidden_1/score_grad/Shape_1&quot;\\n  attr {\\n    key: &quot;T&quot;\\n    value {\\n      type: DT_FLOAT\\n    }\\n  }\\n  attr {\\n    key: &quot;Tshape&quot;\\n    value {\\n      type: DT_INT32\\n    }\\n  }\\n}\\nnode {\\n  name: &quot;train_2/gradients/dnn/hidden_1/score_grad/tuple/group_deps&quot;\\n  op: &quot;NoOp&quot;\\n  input: &quot;^train_2/gradients/dnn/hidden_1/score_grad/Reshape&quot;\\n  input: &quot;^train_2/gradients/dnn/hidden_1/score_grad/Reshape_1&quot;\\n}\\nnode {\\n  name: &quot;train_2/gradients/dnn/hidden_1/score_grad/tuple/control_dependency&quot;\\n  op: &quot;Identity&quot;\\n  input: &quot;train_2/gradients/dnn/hidden_1/score_grad/Reshape&quot;\\n  input: &quot;^train_2/gradients/dnn/hidden_1/score_grad/tuple/group_deps&quot;\\n  attr {\\n    key: &quot;T&quot;\\n    value {\\n      type: DT_FLOAT\\n    }\\n  }\\n  attr {\\n    key: &quot;_class&quot;\\n    value {\\n      list {\\n        s: &quot;loc:@train_2/gradients/dnn/hidden_1/score_grad/Reshape&quot;\\n      }\\n    }\\n  }\\n}\\nnode {\\n  name: &quot;train_2/gradients/dnn/hidden_1/score_grad/tuple/control_dependency_1&quot;\\n  op: &quot;Identity&quot;\\n  input: &quot;train_2/gradients/dnn/hidden_1/score_grad/Reshape_1&quot;\\n  input: &quot;^train_2/gradients/dnn/hidden_1/score_grad/tuple/group_deps&quot;\\n  attr {\\n    key: &quot;T&quot;\\n    value {\\n      type: DT_FLOAT\\n    }\\n  }\\n  attr {\\n    key: &quot;_class&quot;\\n    value {\\n      list {\\n        s: &quot;loc:@train_2/gradients/dnn/hidden_1/score_grad/Reshape_1&quot;\\n      }\\n    }\\n  }\\n}\\nnode {\\n  name: &quot;train_2/gradients/dnn/hidden_1/MatMul_grad/MatMul&quot;\\n  op: &quot;MatMul&quot;\\n  input: &quot;train_2/gradients/dnn/hidden_1/score_grad/tuple/control_dependency&quot;\\n  input: &quot;dnn/hidden_1/weights/read&quot;\\n  attr {\\n    key: &quot;T&quot;\\n    value {\\n      type: DT_FLOAT\\n    }\\n  }\\n  attr {\\n    key: &quot;transpose_a&quot;\\n    value {\\n      b: false\\n    }\\n  }\\n  attr {\\n    key: &quot;transpose_b&quot;\\n    value {\\n      b: true\\n    }\\n  }\\n}\\nnode {\\n  name: &quot;train_2/gradients/dnn/hidden_1/MatMul_grad/MatMul_1&quot;\\n  op: &quot;MatMul&quot;\\n  input: &quot;x&quot;\\n  input: &quot;train_2/gradients/dnn/hidden_1/score_grad/tuple/control_dependency&quot;\\n  attr {\\n    key: &quot;T&quot;\\n    value {\\n      type: DT_FLOAT\\n    }\\n  }\\n  attr {\\n    key: &quot;transpose_a&quot;\\n    value {\\n      b: true\\n    }\\n  }\\n  attr {\\n    key: &quot;transpose_b&quot;\\n    value {\\n      b: false\\n    }\\n  }\\n}\\nnode {\\n  name: &quot;train_2/gradients/dnn/hidden_1/MatMul_grad/tuple/group_deps&quot;\\n  op: &quot;NoOp&quot;\\n  input: &quot;^train_2/gradients/dnn/hidden_1/MatMul_grad/MatMul&quot;\\n  input: &quot;^train_2/gradients/dnn/hidden_1/MatMul_grad/MatMul_1&quot;\\n}\\nnode {\\n  name: &quot;train_2/gradients/dnn/hidden_1/MatMul_grad/tuple/control_dependency&quot;\\n  op: &quot;Identity&quot;\\n  input: &quot;train_2/gradients/dnn/hidden_1/MatMul_grad/MatMul&quot;\\n  input: &quot;^train_2/gradients/dnn/hidden_1/MatMul_grad/tuple/group_deps&quot;\\n  attr {\\n    key: &quot;T&quot;\\n    value {\\n      type: DT_FLOAT\\n    }\\n  }\\n  attr {\\n    key: &quot;_class&quot;\\n    value {\\n      list {\\n        s: &quot;loc:@train_2/gradients/dnn/hidden_1/MatMul_grad/MatMul&quot;\\n      }\\n    }\\n  }\\n}\\nnode {\\n  name: &quot;train_2/gradients/dnn/hidden_1/MatMul_grad/tuple/control_dependency_1&quot;\\n  op: &quot;Identity&quot;\\n  input: &quot;train_2/gradients/dnn/hidden_1/MatMul_grad/MatMul_1&quot;\\n  input: &quot;^train_2/gradients/dnn/hidden_1/MatMul_grad/tuple/group_deps&quot;\\n  attr {\\n    key: &quot;T&quot;\\n    value {\\n      type: DT_FLOAT\\n    }\\n  }\\n  attr {\\n    key: &quot;_class&quot;\\n    value {\\n      list {\\n        s: &quot;loc:@train_2/gradients/dnn/hidden_1/MatMul_grad/MatMul_1&quot;\\n      }\\n    }\\n  }\\n}\\nnode {\\n  name: &quot;train_2/GradientDescent/learning_rate&quot;\\n  op: &quot;Const&quot;\\n  attr {\\n    key: &quot;dtype&quot;\\n    value {\\n      type: DT_FLOAT\\n    }\\n  }\\n  attr {\\n    key: &quot;value&quot;\\n    value {\\n      tensor {\\n        dtype: DT_FLOAT\\n        tensor_shape {\\n        }\\n        float_val: 0.009999999776482582\\n      }\\n    }\\n  }\\n}\\nnode {\\n  name: &quot;train_2/GradientDescent/update_dnn/hidden_1/weights/ApplyGradientDescent&quot;\\n  op: &quot;ApplyGradientDescent&quot;\\n  input: &quot;dnn/hidden_1/weights&quot;\\n  input: &quot;train_2/GradientDescent/learning_rate&quot;\\n  input: &quot;train_2/gradients/dnn/hidden_1/MatMul_grad/tuple/control_dependency_1&quot;\\n  attr {\\n    key: &quot;T&quot;\\n    value {\\n      type: DT_FLOAT\\n    }\\n  }\\n  attr {\\n    key: &quot;_class&quot;\\n    value {\\n      list {\\n        s: &quot;loc:@dnn/hidden_1/weights&quot;\\n      }\\n    }\\n  }\\n  attr {\\n    key: &quot;use_locking&quot;\\n    value {\\n      b: false\\n    }\\n  }\\n}\\nnode {\\n  name: &quot;train_2/GradientDescent/update_dnn/hidden_1/biases/ApplyGradientDescent&quot;\\n  op: &quot;ApplyGradientDescent&quot;\\n  input: &quot;dnn/hidden_1/biases&quot;\\n  input: &quot;train_2/GradientDescent/learning_rate&quot;\\n  input: &quot;train_2/gradients/dnn/hidden_1/score_grad/tuple/control_dependency_1&quot;\\n  attr {\\n    key: &quot;T&quot;\\n    value {\\n      type: DT_FLOAT\\n    }\\n  }\\n  attr {\\n    key: &quot;_class&quot;\\n    value {\\n      list {\\n        s: &quot;loc:@dnn/hidden_1/biases&quot;\\n      }\\n    }\\n  }\\n  attr {\\n    key: &quot;use_locking&quot;\\n    value {\\n      b: false\\n    }\\n  }\\n}\\nnode {\\n  name: &quot;train_2/GradientDescent/update_dnn/hidden_2/weights/ApplyGradientDescent&quot;\\n  op: &quot;ApplyGradientDescent&quot;\\n  input: &quot;dnn/hidden_2/weights&quot;\\n  input: &quot;train_2/GradientDescent/learning_rate&quot;\\n  input: &quot;train_2/gradients/dnn/hidden_2/MatMul_grad/tuple/control_dependency_1&quot;\\n  attr {\\n    key: &quot;T&quot;\\n    value {\\n      type: DT_FLOAT\\n    }\\n  }\\n  attr {\\n    key: &quot;_class&quot;\\n    value {\\n      list {\\n        s: &quot;loc:@dnn/hidden_2/weights&quot;\\n      }\\n    }\\n  }\\n  attr {\\n    key: &quot;use_locking&quot;\\n    value {\\n      b: false\\n    }\\n  }\\n}\\nnode {\\n  name: &quot;train_2/GradientDescent/update_dnn/hidden_2/biases/ApplyGradientDescent&quot;\\n  op: &quot;ApplyGradientDescent&quot;\\n  input: &quot;dnn/hidden_2/biases&quot;\\n  input: &quot;train_2/GradientDescent/learning_rate&quot;\\n  input: &quot;train_2/gradients/dnn/hidden_2/score_grad/tuple/control_dependency_1&quot;\\n  attr {\\n    key: &quot;T&quot;\\n    value {\\n      type: DT_FLOAT\\n    }\\n  }\\n  attr {\\n    key: &quot;_class&quot;\\n    value {\\n      list {\\n        s: &quot;loc:@dnn/hidden_2/biases&quot;\\n      }\\n    }\\n  }\\n  attr {\\n    key: &quot;use_locking&quot;\\n    value {\\n      b: false\\n    }\\n  }\\n}\\nnode {\\n  name: &quot;train_2/GradientDescent/update_dnn/output/weights/ApplyGradientDescent&quot;\\n  op: &quot;ApplyGradientDescent&quot;\\n  input: &quot;dnn/output/weights&quot;\\n  input: &quot;train_2/GradientDescent/learning_rate&quot;\\n  input: &quot;train_2/gradients/dnn/output/MatMul_grad/tuple/control_dependency_1&quot;\\n  attr {\\n    key: &quot;T&quot;\\n    value {\\n      type: DT_FLOAT\\n    }\\n  }\\n  attr {\\n    key: &quot;_class&quot;\\n    value {\\n      list {\\n        s: &quot;loc:@dnn/output/weights&quot;\\n      }\\n    }\\n  }\\n  attr {\\n    key: &quot;use_locking&quot;\\n    value {\\n      b: false\\n    }\\n  }\\n}\\nnode {\\n  name: &quot;train_2/GradientDescent/update_dnn/output/biases/ApplyGradientDescent&quot;\\n  op: &quot;ApplyGradientDescent&quot;\\n  input: &quot;dnn/output/biases&quot;\\n  input: &quot;train_2/GradientDescent/learning_rate&quot;\\n  input: &quot;train_2/gradients/dnn/output/score_grad/tuple/control_dependency_1&quot;\\n  attr {\\n    key: &quot;T&quot;\\n    value {\\n      type: DT_FLOAT\\n    }\\n  }\\n  attr {\\n    key: &quot;_class&quot;\\n    value {\\n      list {\\n        s: &quot;loc:@dnn/output/biases&quot;\\n      }\\n    }\\n  }\\n  attr {\\n    key: &quot;use_locking&quot;\\n    value {\\n      b: false\\n    }\\n  }\\n}\\nnode {\\n  name: &quot;train_2/GradientDescent&quot;\\n  op: &quot;NoOp&quot;\\n  input: &quot;^train_2/GradientDescent/update_dnn/hidden_1/weights/ApplyGradientDescent&quot;\\n  input: &quot;^train_2/GradientDescent/update_dnn/hidden_1/biases/ApplyGradientDescent&quot;\\n  input: &quot;^train_2/GradientDescent/update_dnn/hidden_2/weights/ApplyGradientDescent&quot;\\n  input: &quot;^train_2/GradientDescent/update_dnn/hidden_2/biases/ApplyGradientDescent&quot;\\n  input: &quot;^train_2/GradientDescent/update_dnn/output/weights/ApplyGradientDescent&quot;\\n  input: &quot;^train_2/GradientDescent/update_dnn/output/biases/ApplyGradientDescent&quot;\\n}\\nnode {\\n  name: &quot;eval/InTopK&quot;\\n  op: &quot;InTopK&quot;\\n  input: &quot;dnn/output/score&quot;\\n  input: &quot;y&quot;\\n  attr {\\n    key: &quot;T&quot;\\n    value {\\n      type: DT_INT64\\n    }\\n  }\\n  attr {\\n    key: &quot;k&quot;\\n    value {\\n      i: 1\\n    }\\n  }\\n}\\nnode {\\n  name: &quot;eval/Cast&quot;\\n  op: &quot;Cast&quot;\\n  input: &quot;eval/InTopK&quot;\\n  attr {\\n    key: &quot;DstT&quot;\\n    value {\\n      type: DT_FLOAT\\n    }\\n  }\\n  attr {\\n    key: &quot;SrcT&quot;\\n    value {\\n      type: DT_BOOL\\n    }\\n  }\\n}\\nnode {\\n  name: &quot;eval/Const&quot;\\n  op: &quot;Const&quot;\\n  attr {\\n    key: &quot;dtype&quot;\\n    value {\\n      type: DT_INT32\\n    }\\n  }\\n  attr {\\n    key: &quot;value&quot;\\n    value {\\n      tensor {\\n        dtype: DT_INT32\\n        tensor_shape {\\n          dim {\\n            size: 1\\n          }\\n        }\\n        int_val: 0\\n      }\\n    }\\n  }\\n}\\nnode {\\n  name: &quot;eval/Mean&quot;\\n  op: &quot;Mean&quot;\\n  input: &quot;eval/Cast&quot;\\n  input: &quot;eval/Const&quot;\\n  attr {\\n    key: &quot;T&quot;\\n    value {\\n      type: DT_FLOAT\\n    }\\n  }\\n  attr {\\n    key: &quot;Tidx&quot;\\n    value {\\n      type: DT_INT32\\n    }\\n  }\\n  attr {\\n    key: &quot;keep_dims&quot;\\n    value {\\n      b: false\\n    }\\n  }\\n}\\nnode {\\n  name: &quot;init&quot;\\n  op: &quot;NoOp&quot;\\n  input: &quot;^dnn/hidden_1/weights/Assign&quot;\\n  input: &quot;^dnn/hidden_1/biases/Assign&quot;\\n  input: &quot;^dnn/hidden_2/weights/Assign&quot;\\n  input: &quot;^dnn/hidden_2/biases/Assign&quot;\\n  input: &quot;^dnn/output/weights/Assign&quot;\\n  input: &quot;^dnn/output/biases/Assign&quot;\\n}\\nnode {\\n  name: &quot;save/Const&quot;\\n  op: &quot;Const&quot;\\n  attr {\\n    key: &quot;dtype&quot;\\n    value {\\n      type: DT_STRING\\n    }\\n  }\\n  attr {\\n    key: &quot;value&quot;\\n    value {\\n      tensor {\\n        dtype: DT_STRING\\n        tensor_shape {\\n        }\\n        string_val: &quot;model&quot;\\n      }\\n    }\\n  }\\n}\\nnode {\\n  name: &quot;save/SaveV2/tensor_names&quot;\\n  op: &quot;Const&quot;\\n  attr {\\n    key: &quot;dtype&quot;\\n    value {\\n      type: DT_STRING\\n    }\\n  }\\n  attr {\\n    key: &quot;value&quot;\\n    value {\\n      tensor {\\n        dtype: DT_STRING\\n        tensor_shape {\\n          dim {\\n            size: 6\\n          }\\n        }\\n        string_val: &quot;dnn/hidden_1/biases&quot;\\n        string_val: &quot;dnn/hidden_1/weights&quot;\\n        string_val: &quot;dnn/hidden_2/biases&quot;\\n        string_val: &quot;dnn/hidden_2/weights&quot;\\n        string_val: &quot;dnn/output/biases&quot;\\n        string_val: &quot;dnn/output/weights&quot;\\n      }\\n    }\\n  }\\n}\\nnode {\\n  name: &quot;save/SaveV2/shape_and_slices&quot;\\n  op: &quot;Const&quot;\\n  attr {\\n    key: &quot;dtype&quot;\\n    value {\\n      type: DT_STRING\\n    }\\n  }\\n  attr {\\n    key: &quot;value&quot;\\n    value {\\n      tensor {\\n        dtype: DT_STRING\\n        tensor_shape {\\n          dim {\\n            size: 6\\n          }\\n        }\\n        string_val: &quot;&quot;\\n        string_val: &quot;&quot;\\n        string_val: &quot;&quot;\\n        string_val: &quot;&quot;\\n        string_val: &quot;&quot;\\n        string_val: &quot;&quot;\\n      }\\n    }\\n  }\\n}\\nnode {\\n  name: &quot;save/SaveV2&quot;\\n  op: &quot;SaveV2&quot;\\n  input: &quot;save/Const&quot;\\n  input: &quot;save/SaveV2/tensor_names&quot;\\n  input: &quot;save/SaveV2/shape_and_slices&quot;\\n  input: &quot;dnn/hidden_1/biases&quot;\\n  input: &quot;dnn/hidden_1/weights&quot;\\n  input: &quot;dnn/hidden_2/biases&quot;\\n  input: &quot;dnn/hidden_2/weights&quot;\\n  input: &quot;dnn/output/biases&quot;\\n  input: &quot;dnn/output/weights&quot;\\n  attr {\\n    key: &quot;dtypes&quot;\\n    value {\\n      list {\\n        type: DT_FLOAT\\n        type: DT_FLOAT\\n        type: DT_FLOAT\\n        type: DT_FLOAT\\n        type: DT_FLOAT\\n        type: DT_FLOAT\\n      }\\n    }\\n  }\\n}\\nnode {\\n  name: &quot;save/control_dependency&quot;\\n  op: &quot;Identity&quot;\\n  input: &quot;save/Const&quot;\\n  input: &quot;^save/SaveV2&quot;\\n  attr {\\n    key: &quot;T&quot;\\n    value {\\n      type: DT_STRING\\n    }\\n  }\\n  attr {\\n    key: &quot;_class&quot;\\n    value {\\n      list {\\n        s: &quot;loc:@save/Const&quot;\\n      }\\n    }\\n  }\\n}\\nnode {\\n  name: &quot;save/RestoreV2/tensor_names&quot;\\n  op: &quot;Const&quot;\\n  attr {\\n    key: &quot;dtype&quot;\\n    value {\\n      type: DT_STRING\\n    }\\n  }\\n  attr {\\n    key: &quot;value&quot;\\n    value {\\n      tensor {\\n        dtype: DT_STRING\\n        tensor_shape {\\n          dim {\\n            size: 1\\n          }\\n        }\\n        string_val: &quot;dnn/hidden_1/biases&quot;\\n      }\\n    }\\n  }\\n}\\nnode {\\n  name: &quot;save/RestoreV2/shape_and_slices&quot;\\n  op: &quot;Const&quot;\\n  attr {\\n    key: &quot;dtype&quot;\\n    value {\\n      type: DT_STRING\\n    }\\n  }\\n  attr {\\n    key: &quot;value&quot;\\n    value {\\n      tensor {\\n        dtype: DT_STRING\\n        tensor_shape {\\n          dim {\\n            size: 1\\n          }\\n        }\\n        string_val: &quot;&quot;\\n      }\\n    }\\n  }\\n}\\nnode {\\n  name: &quot;save/RestoreV2&quot;\\n  op: &quot;RestoreV2&quot;\\n  input: &quot;save/Const&quot;\\n  input: &quot;save/RestoreV2/tensor_names&quot;\\n  input: &quot;save/RestoreV2/shape_and_slices&quot;\\n  attr {\\n    key: &quot;dtypes&quot;\\n    value {\\n      list {\\n        type: DT_FLOAT\\n      }\\n    }\\n  }\\n}\\nnode {\\n  name: &quot;save/Assign&quot;\\n  op: &quot;Assign&quot;\\n  input: &quot;dnn/hidden_1/biases&quot;\\n  input: &quot;save/RestoreV2&quot;\\n  attr {\\n    key: &quot;T&quot;\\n    value {\\n      type: DT_FLOAT\\n    }\\n  }\\n  attr {\\n    key: &quot;_class&quot;\\n    value {\\n      list {\\n        s: &quot;loc:@dnn/hidden_1/biases&quot;\\n      }\\n    }\\n  }\\n  attr {\\n    key: &quot;use_locking&quot;\\n    value {\\n      b: true\\n    }\\n  }\\n  attr {\\n    key: &quot;validate_shape&quot;\\n    value {\\n      b: true\\n    }\\n  }\\n}\\nnode {\\n  name: &quot;save/RestoreV2_1/tensor_names&quot;\\n  op: &quot;Const&quot;\\n  attr {\\n    key: &quot;dtype&quot;\\n    value {\\n      type: DT_STRING\\n    }\\n  }\\n  attr {\\n    key: &quot;value&quot;\\n    value {\\n      tensor {\\n        dtype: DT_STRING\\n        tensor_shape {\\n          dim {\\n            size: 1\\n          }\\n        }\\n        string_val: &quot;dnn/hidden_1/weights&quot;\\n      }\\n    }\\n  }\\n}\\nnode {\\n  name: &quot;save/RestoreV2_1/shape_and_slices&quot;\\n  op: &quot;Const&quot;\\n  attr {\\n    key: &quot;dtype&quot;\\n    value {\\n      type: DT_STRING\\n    }\\n  }\\n  attr {\\n    key: &quot;value&quot;\\n    value {\\n      tensor {\\n        dtype: DT_STRING\\n        tensor_shape {\\n          dim {\\n            size: 1\\n          }\\n        }\\n        string_val: &quot;&quot;\\n      }\\n    }\\n  }\\n}\\nnode {\\n  name: &quot;save/RestoreV2_1&quot;\\n  op: &quot;RestoreV2&quot;\\n  input: &quot;save/Const&quot;\\n  input: &quot;save/RestoreV2_1/tensor_names&quot;\\n  input: &quot;save/RestoreV2_1/shape_and_slices&quot;\\n  attr {\\n    key: &quot;dtypes&quot;\\n    value {\\n      list {\\n        type: DT_FLOAT\\n      }\\n    }\\n  }\\n}\\nnode {\\n  name: &quot;save/Assign_1&quot;\\n  op: &quot;Assign&quot;\\n  input: &quot;dnn/hidden_1/weights&quot;\\n  input: &quot;save/RestoreV2_1&quot;\\n  attr {\\n    key: &quot;T&quot;\\n    value {\\n      type: DT_FLOAT\\n    }\\n  }\\n  attr {\\n    key: &quot;_class&quot;\\n    value {\\n      list {\\n        s: &quot;loc:@dnn/hidden_1/weights&quot;\\n      }\\n    }\\n  }\\n  attr {\\n    key: &quot;use_locking&quot;\\n    value {\\n      b: true\\n    }\\n  }\\n  attr {\\n    key: &quot;validate_shape&quot;\\n    value {\\n      b: true\\n    }\\n  }\\n}\\nnode {\\n  name: &quot;save/RestoreV2_2/tensor_names&quot;\\n  op: &quot;Const&quot;\\n  attr {\\n    key: &quot;dtype&quot;\\n    value {\\n      type: DT_STRING\\n    }\\n  }\\n  attr {\\n    key: &quot;value&quot;\\n    value {\\n      tensor {\\n        dtype: DT_STRING\\n        tensor_shape {\\n          dim {\\n            size: 1\\n          }\\n        }\\n        string_val: &quot;dnn/hidden_2/biases&quot;\\n      }\\n    }\\n  }\\n}\\nnode {\\n  name: &quot;save/RestoreV2_2/shape_and_slices&quot;\\n  op: &quot;Const&quot;\\n  attr {\\n    key: &quot;dtype&quot;\\n    value {\\n      type: DT_STRING\\n    }\\n  }\\n  attr {\\n    key: &quot;value&quot;\\n    value {\\n      tensor {\\n        dtype: DT_STRING\\n        tensor_shape {\\n          dim {\\n            size: 1\\n          }\\n        }\\n        string_val: &quot;&quot;\\n      }\\n    }\\n  }\\n}\\nnode {\\n  name: &quot;save/RestoreV2_2&quot;\\n  op: &quot;RestoreV2&quot;\\n  input: &quot;save/Const&quot;\\n  input: &quot;save/RestoreV2_2/tensor_names&quot;\\n  input: &quot;save/RestoreV2_2/shape_and_slices&quot;\\n  attr {\\n    key: &quot;dtypes&quot;\\n    value {\\n      list {\\n        type: DT_FLOAT\\n      }\\n    }\\n  }\\n}\\nnode {\\n  name: &quot;save/Assign_2&quot;\\n  op: &quot;Assign&quot;\\n  input: &quot;dnn/hidden_2/biases&quot;\\n  input: &quot;save/RestoreV2_2&quot;\\n  attr {\\n    key: &quot;T&quot;\\n    value {\\n      type: DT_FLOAT\\n    }\\n  }\\n  attr {\\n    key: &quot;_class&quot;\\n    value {\\n      list {\\n        s: &quot;loc:@dnn/hidden_2/biases&quot;\\n      }\\n    }\\n  }\\n  attr {\\n    key: &quot;use_locking&quot;\\n    value {\\n      b: true\\n    }\\n  }\\n  attr {\\n    key: &quot;validate_shape&quot;\\n    value {\\n      b: true\\n    }\\n  }\\n}\\nnode {\\n  name: &quot;save/RestoreV2_3/tensor_names&quot;\\n  op: &quot;Const&quot;\\n  attr {\\n    key: &quot;dtype&quot;\\n    value {\\n      type: DT_STRING\\n    }\\n  }\\n  attr {\\n    key: &quot;value&quot;\\n    value {\\n      tensor {\\n        dtype: DT_STRING\\n        tensor_shape {\\n          dim {\\n            size: 1\\n          }\\n        }\\n        string_val: &quot;dnn/hidden_2/weights&quot;\\n      }\\n    }\\n  }\\n}\\nnode {\\n  name: &quot;save/RestoreV2_3/shape_and_slices&quot;\\n  op: &quot;Const&quot;\\n  attr {\\n    key: &quot;dtype&quot;\\n    value {\\n      type: DT_STRING\\n    }\\n  }\\n  attr {\\n    key: &quot;value&quot;\\n    value {\\n      tensor {\\n        dtype: DT_STRING\\n        tensor_shape {\\n          dim {\\n            size: 1\\n          }\\n        }\\n        string_val: &quot;&quot;\\n      }\\n    }\\n  }\\n}\\nnode {\\n  name: &quot;save/RestoreV2_3&quot;\\n  op: &quot;RestoreV2&quot;\\n  input: &quot;save/Const&quot;\\n  input: &quot;save/RestoreV2_3/tensor_names&quot;\\n  input: &quot;save/RestoreV2_3/shape_and_slices&quot;\\n  attr {\\n    key: &quot;dtypes&quot;\\n    value {\\n      list {\\n        type: DT_FLOAT\\n      }\\n    }\\n  }\\n}\\nnode {\\n  name: &quot;save/Assign_3&quot;\\n  op: &quot;Assign&quot;\\n  input: &quot;dnn/hidden_2/weights&quot;\\n  input: &quot;save/RestoreV2_3&quot;\\n  attr {\\n    key: &quot;T&quot;\\n    value {\\n      type: DT_FLOAT\\n    }\\n  }\\n  attr {\\n    key: &quot;_class&quot;\\n    value {\\n      list {\\n        s: &quot;loc:@dnn/hidden_2/weights&quot;\\n      }\\n    }\\n  }\\n  attr {\\n    key: &quot;use_locking&quot;\\n    value {\\n      b: true\\n    }\\n  }\\n  attr {\\n    key: &quot;validate_shape&quot;\\n    value {\\n      b: true\\n    }\\n  }\\n}\\nnode {\\n  name: &quot;save/RestoreV2_4/tensor_names&quot;\\n  op: &quot;Const&quot;\\n  attr {\\n    key: &quot;dtype&quot;\\n    value {\\n      type: DT_STRING\\n    }\\n  }\\n  attr {\\n    key: &quot;value&quot;\\n    value {\\n      tensor {\\n        dtype: DT_STRING\\n        tensor_shape {\\n          dim {\\n            size: 1\\n          }\\n        }\\n        string_val: &quot;dnn/output/biases&quot;\\n      }\\n    }\\n  }\\n}\\nnode {\\n  name: &quot;save/RestoreV2_4/shape_and_slices&quot;\\n  op: &quot;Const&quot;\\n  attr {\\n    key: &quot;dtype&quot;\\n    value {\\n      type: DT_STRING\\n    }\\n  }\\n  attr {\\n    key: &quot;value&quot;\\n    value {\\n      tensor {\\n        dtype: DT_STRING\\n        tensor_shape {\\n          dim {\\n            size: 1\\n          }\\n        }\\n        string_val: &quot;&quot;\\n      }\\n    }\\n  }\\n}\\nnode {\\n  name: &quot;save/RestoreV2_4&quot;\\n  op: &quot;RestoreV2&quot;\\n  input: &quot;save/Const&quot;\\n  input: &quot;save/RestoreV2_4/tensor_names&quot;\\n  input: &quot;save/RestoreV2_4/shape_and_slices&quot;\\n  attr {\\n    key: &quot;dtypes&quot;\\n    value {\\n      list {\\n        type: DT_FLOAT\\n      }\\n    }\\n  }\\n}\\nnode {\\n  name: &quot;save/Assign_4&quot;\\n  op: &quot;Assign&quot;\\n  input: &quot;dnn/output/biases&quot;\\n  input: &quot;save/RestoreV2_4&quot;\\n  attr {\\n    key: &quot;T&quot;\\n    value {\\n      type: DT_FLOAT\\n    }\\n  }\\n  attr {\\n    key: &quot;_class&quot;\\n    value {\\n      list {\\n        s: &quot;loc:@dnn/output/biases&quot;\\n      }\\n    }\\n  }\\n  attr {\\n    key: &quot;use_locking&quot;\\n    value {\\n      b: true\\n    }\\n  }\\n  attr {\\n    key: &quot;validate_shape&quot;\\n    value {\\n      b: true\\n    }\\n  }\\n}\\nnode {\\n  name: &quot;save/RestoreV2_5/tensor_names&quot;\\n  op: &quot;Const&quot;\\n  attr {\\n    key: &quot;dtype&quot;\\n    value {\\n      type: DT_STRING\\n    }\\n  }\\n  attr {\\n    key: &quot;value&quot;\\n    value {\\n      tensor {\\n        dtype: DT_STRING\\n        tensor_shape {\\n          dim {\\n            size: 1\\n          }\\n        }\\n        string_val: &quot;dnn/output/weights&quot;\\n      }\\n    }\\n  }\\n}\\nnode {\\n  name: &quot;save/RestoreV2_5/shape_and_slices&quot;\\n  op: &quot;Const&quot;\\n  attr {\\n    key: &quot;dtype&quot;\\n    value {\\n      type: DT_STRING\\n    }\\n  }\\n  attr {\\n    key: &quot;value&quot;\\n    value {\\n      tensor {\\n        dtype: DT_STRING\\n        tensor_shape {\\n          dim {\\n            size: 1\\n          }\\n        }\\n        string_val: &quot;&quot;\\n      }\\n    }\\n  }\\n}\\nnode {\\n  name: &quot;save/RestoreV2_5&quot;\\n  op: &quot;RestoreV2&quot;\\n  input: &quot;save/Const&quot;\\n  input: &quot;save/RestoreV2_5/tensor_names&quot;\\n  input: &quot;save/RestoreV2_5/shape_and_slices&quot;\\n  attr {\\n    key: &quot;dtypes&quot;\\n    value {\\n      list {\\n        type: DT_FLOAT\\n      }\\n    }\\n  }\\n}\\nnode {\\n  name: &quot;save/Assign_5&quot;\\n  op: &quot;Assign&quot;\\n  input: &quot;dnn/output/weights&quot;\\n  input: &quot;save/RestoreV2_5&quot;\\n  attr {\\n    key: &quot;T&quot;\\n    value {\\n      type: DT_FLOAT\\n    }\\n  }\\n  attr {\\n    key: &quot;_class&quot;\\n    value {\\n      list {\\n        s: &quot;loc:@dnn/output/weights&quot;\\n      }\\n    }\\n  }\\n  attr {\\n    key: &quot;use_locking&quot;\\n    value {\\n      b: true\\n    }\\n  }\\n  attr {\\n    key: &quot;validate_shape&quot;\\n    value {\\n      b: true\\n    }\\n  }\\n}\\nnode {\\n  name: &quot;save/restore_all&quot;\\n  op: &quot;NoOp&quot;\\n  input: &quot;^save/Assign&quot;\\n  input: &quot;^save/Assign_1&quot;\\n  input: &quot;^save/Assign_2&quot;\\n  input: &quot;^save/Assign_3&quot;\\n  input: &quot;^save/Assign_4&quot;\\n  input: &quot;^save/Assign_5&quot;\\n}\\n';\n",
       "          }\n",
       "        </script>\n",
       "        <link rel=&quot;import&quot; href=&quot;https://tensorboard.appspot.com/tf-graph-basic.build.html&quot; onload=load()>\n",
       "        <div style=&quot;height:600px&quot;>\n",
       "          <tf-graph-basic id=&quot;graph0.17752211726544542&quot;></tf-graph-basic>\n",
       "        </div>\n",
       "    \"></iframe>\n",
       "    "
      ],
      "text/plain": [
       "<IPython.core.display.HTML object>"
      ]
     },
     "metadata": {},
     "output_type": "display_data"
    }
   ],
   "source": [
    "show_graph(tf.get_default_graph())"
   ]
  },
  {
   "cell_type": "markdown",
   "metadata": {},
   "source": [
    "## Using dense() instead of neuron_layer()\n",
    "\n",
    "Note: the book uses tensorflow.contrib.layers.fully_connected() rather than tf.layers.dense() (which did not exist when this chapter was written). It is now preferable to use tf.layers.dense(), because anything in the contrib module may change or be deleted without notice. The dense() function is almost identical to the fully_connected() function, except for a few minor differences:\n",
    "\n",
    "1. several parameters are renamed: scope becomes name, activation_fn becomes activation (and similarly the _fn suffix is removed from other parameters such as normalizer_fn), weights_initializer becomes kernel_initializer, etc.\n",
    "\n",
    "2. the default activation is now None rather than tf.nn.relu."
   ]
  },
  {
   "cell_type": "code",
   "execution_count": 162,
   "metadata": {
    "collapsed": true
   },
   "outputs": [],
   "source": [
    "reset_graph()"
   ]
  },
  {
   "cell_type": "code",
   "execution_count": 168,
   "metadata": {
    "collapsed": true
   },
   "outputs": [],
   "source": [
    "X_train = mnist.train.images\n",
    "X_test  = mnist.test.images\n",
    "y_train = mnist.train.labels.astype(np.int)\n",
    "y_test  = mnist.test.labels.astype(np.int)"
   ]
  },
  {
   "cell_type": "markdown",
   "metadata": {},
   "source": [
    "### flow of building a FNN model\n",
    "\n",
    "1. get information about number of inputs, number of classes, number of units in each layer\n",
    "2. allocate placeholder to hold train data\n",
    "3. build architecture layers -- (layer_1 + layer_2 + ... + fully connected layer) -- each layer is acheived by using layers.dense() -- (matrix muplication + activation + batch_norm + dropout in future)\n",
    "4. define loss function for each instance, and reduce_mean to evaluate the overall loss\n",
    "5. define optimizer and train_obj function\n",
    "6. build eval function to make prediction to select the class with highest probability and then evaluate accuracy\n",
    "7. define n_epochs, batch_size, n_batches\n",
    "8. define global_variable_initializer and saver\n",
    "9. build main loop to train FNN\n",
    "10. restore the model built and make prediction using calculated score associated with np.argmax"
   ]
  },
  {
   "cell_type": "code",
   "execution_count": 199,
   "metadata": {
    "collapsed": true
   },
   "outputs": [],
   "source": [
    "# Step.1\n",
    "n_inputs = 28 * 28\n",
    "n_classes = 10\n",
    "num_unit_hidden_1 = 300\n",
    "num_unit_hidden_2 = 100\n",
    "learning_rate = 0.01"
   ]
  },
  {
   "cell_type": "code",
   "execution_count": 200,
   "metadata": {
    "collapsed": true
   },
   "outputs": [],
   "source": [
    "# Step.2\n",
    "X = tf.placeholder(dtype = tf.float32, shape = (None, n_inputs), name = 'X')\n",
    "y = tf.placeholder(dtype = tf.int32, shape = (None), name = 'y')"
   ]
  },
  {
   "cell_type": "code",
   "execution_count": 201,
   "metadata": {
    "collapsed": true
   },
   "outputs": [],
   "source": [
    "# Step.3\n",
    "with tf.name_scope('fnn'):\n",
    "    hidden_1 = tf.layers.dense(X, num_unit_hidden_1, name = 'hidden_1', activation = tf.nn.relu)\n",
    "    hidden_2 = tf.layers.dense(hidden_1, num_unit_hidden_2, name = 'hidden_2', activation = tf.nn.relu)\n",
    "    scores   = tf.layers.dense(hidden_2, n_classes, name = 'scores', activation = None)"
   ]
  },
  {
   "cell_type": "code",
   "execution_count": 202,
   "metadata": {
    "collapsed": true
   },
   "outputs": [],
   "source": [
    "# Step.4\n",
    "with tf.name_scope('loss'):\n",
    "    # because we have 10 classes leading to a multi-class problem.\n",
    "    # Hence we use sparse_softmax_cross_entropy to deal with target labels -- integer 0 to 9\n",
    "    # another function called softmax_cross_entropy_with_logits(), \n",
    "    # which takes labels in the form of one-hot vectors (instead of ints from 0 to the number of classes minus 1).\n",
    "    cross_entropy = tf.losses.sparse_softmax_cross_entropy(y, scores)\n",
    "    loss = tf.reduce_mean(cross_entropy, name = 'loss')"
   ]
  },
  {
   "cell_type": "code",
   "execution_count": 203,
   "metadata": {
    "collapsed": true
   },
   "outputs": [],
   "source": [
    "# Step.5\n",
    "with tf.name_scope('train'):\n",
    "    optimizer = tf.train.GradientDescentOptimizer(learning_rate = learning_rate)\n",
    "    train_obj = optimizer.minimize(loss)"
   ]
  },
  {
   "cell_type": "code",
   "execution_count": 204,
   "metadata": {
    "collapsed": true
   },
   "outputs": [],
   "source": [
    "# Step.6\n",
    "with tf.name_scope('eval'):\n",
    "    # k: An `int`. Number of top elements to look at for computing precision.\n",
    "    # it returns a `Tensor` of type `bool`. Computed Precision at `k` as a `bool Tensor`.\n",
    "    class_pred = tf.nn.in_top_k(scores, y, 1)\n",
    "    \n",
    "    # casts a bool tensor to a float32 variable\n",
    "    accuracy = tf.reduce_mean(tf.cast(class_pred, tf.float32))"
   ]
  },
  {
   "cell_type": "code",
   "execution_count": 205,
   "metadata": {
    "collapsed": true
   },
   "outputs": [],
   "source": [
    "# Step.7\n",
    "n_epochs = 40\n",
    "batch_size = 50\n",
    "n_batches = int(np.ceil(mnist.train.num_examples / batch_size))"
   ]
  },
  {
   "cell_type": "code",
   "execution_count": 206,
   "metadata": {
    "collapsed": true
   },
   "outputs": [],
   "source": [
    "# Step.8\n",
    "init = tf.global_variables_initializer()\n",
    "saver = tf.train.Saver()"
   ]
  },
  {
   "cell_type": "code",
   "execution_count": 207,
   "metadata": {},
   "outputs": [
    {
     "name": "stdout",
     "output_type": "stream",
     "text": [
      "Epoch  0 train accuracy  0.8976 test accuracy  0.9055\n",
      "Epoch  1 train accuracy  0.919164 test accuracy  0.923\n",
      "Epoch  2 train accuracy  0.9314 test accuracy  0.9321\n",
      "Epoch  3 train accuracy  0.9376 test accuracy  0.9369\n",
      "Epoch  4 train accuracy  0.943636 test accuracy  0.9428\n",
      "Epoch  5 train accuracy  0.949455 test accuracy  0.9475\n",
      "Epoch  6 train accuracy  0.953018 test accuracy  0.9521\n",
      "Epoch  7 train accuracy  0.956836 test accuracy  0.9544\n",
      "Epoch  8 train accuracy  0.958982 test accuracy  0.9544\n",
      "Epoch  9 train accuracy  0.963145 test accuracy  0.9596\n",
      "Epoch  10 train accuracy  0.9658 test accuracy  0.9631\n",
      "Epoch  11 train accuracy  0.968655 test accuracy  0.9644\n",
      "Epoch  12 train accuracy  0.970564 test accuracy  0.9659\n",
      "Epoch  13 train accuracy  0.972127 test accuracy  0.9665\n",
      "Epoch  14 train accuracy  0.973164 test accuracy  0.968\n",
      "Epoch  15 train accuracy  0.974818 test accuracy  0.9694\n",
      "Epoch  16 train accuracy  0.975836 test accuracy  0.97\n",
      "Epoch  17 train accuracy  0.977382 test accuracy  0.9699\n",
      "Epoch  18 train accuracy  0.978564 test accuracy  0.9706\n",
      "Epoch  19 train accuracy  0.979909 test accuracy  0.9717\n",
      "Epoch  20 train accuracy  0.981109 test accuracy  0.9737\n",
      "Epoch  21 train accuracy  0.9824 test accuracy  0.9731\n",
      "Epoch  22 train accuracy  0.982636 test accuracy  0.9728\n",
      "Epoch  23 train accuracy  0.983509 test accuracy  0.9735\n",
      "Epoch  24 train accuracy  0.985091 test accuracy  0.9745\n",
      "Epoch  25 train accuracy  0.9852 test accuracy  0.9743\n",
      "Epoch  26 train accuracy  0.986455 test accuracy  0.9749\n",
      "Epoch  27 train accuracy  0.986673 test accuracy  0.975\n",
      "Epoch  28 train accuracy  0.988236 test accuracy  0.9755\n",
      "Epoch  29 train accuracy  0.988745 test accuracy  0.9756\n",
      "Epoch  30 train accuracy  0.989018 test accuracy  0.9761\n",
      "Epoch  31 train accuracy  0.989855 test accuracy  0.9759\n",
      "Epoch  32 train accuracy  0.990182 test accuracy  0.9767\n",
      "Epoch  33 train accuracy  0.990236 test accuracy  0.977\n",
      "Epoch  34 train accuracy  0.990182 test accuracy  0.9772\n",
      "Epoch  35 train accuracy  0.991618 test accuracy  0.9772\n",
      "Epoch  36 train accuracy  0.991927 test accuracy  0.9769\n",
      "Epoch  37 train accuracy  0.992836 test accuracy  0.9781\n",
      "Epoch  38 train accuracy  0.992782 test accuracy  0.978\n",
      "Epoch  39 train accuracy  0.993691 test accuracy  0.9785\n"
     ]
    }
   ],
   "source": [
    "# Step.9\n",
    "with tf.Session() as sess:\n",
    "    n_inputs = int(X.get_shape()[1])\n",
    "    sess.run(init)\n",
    "    \n",
    "    for epoch in range(n_epochs):\n",
    "        for batch_idx in range(n_batches):\n",
    "            X_batch, y_batch = mnist.train.next_batch(batch_size)\n",
    "            sess.run(train_obj, feed_dict={X: X_batch, y: y_batch})\n",
    "        \n",
    "        accuracy_train = accuracy.eval(feed_dict={X: X_train, y: y_train})\n",
    "        accuracy_test  = accuracy.eval(feed_dict={X: X_test, y: y_test})\n",
    "        print('Epoch ', epoch, 'train accuracy ', accuracy_train, 'test accuracy ', accuracy_test)\n",
    "    \n",
    "    save_path = saver.save(sess, './stored_models/plain_tf_fnn.ckpt')"
   ]
  },
  {
   "cell_type": "code",
   "execution_count": 212,
   "metadata": {},
   "outputs": [
    {
     "name": "stdout",
     "output_type": "stream",
     "text": [
      "INFO:tensorflow:Restoring parameters from ./stored_models/plain_tf_fnn.ckpt\n"
     ]
    }
   ],
   "source": [
    "# Step.10 restore FNN built and make prediction\n",
    "with tf.Session() as sess:\n",
    "    saver.restore(sess, './stored_models/plain_tf_fnn.ckpt')\n",
    "    X_new_scaled = mnist.test.images[:20]\n",
    "    scores_val = scores.eval(feed_dict={X: X_new_scaled})\n",
    "    predictions = np.argmax(scores_val, axis = 1)"
   ]
  },
  {
   "cell_type": "code",
   "execution_count": 215,
   "metadata": {},
   "outputs": [
    {
     "name": "stdout",
     "output_type": "stream",
     "text": [
      "Predicted classes: [7 2 1 0 4 1 4 9 5 9 0 6 9 0 1 5 9 7 3 4]\n",
      "Actual classes:    [7 2 1 0 4 1 4 9 5 9 0 6 9 0 1 5 9 7 3 4]\n"
     ]
    }
   ],
   "source": [
    "print('Predicted classes:', predictions)\n",
    "print('Actual classes:   ', mnist.test.labels[:20])"
   ]
  },
  {
   "cell_type": "markdown",
   "metadata": {
    "collapsed": true
   },
   "source": [
    "# Exercise\n",
    "\n",
    "Train a deep MLP on the MNIST dataset and see if you can get over 98% precision. Just like in the last exercise of chapter 9, try adding all the bells and whistles (i.e., save checkpoints, restore the last checkpoint in case of an interruption, add summaries, plot learning curves using TensorBoard, and so on).\n",
    "\n",
    "First let's create the deep net. It's exactly the same as earlier, with just one addition: we add a tf.summary.scalar() to track the loss and the accuracy during training, so we can view nice learning curves using TensorBoard."
   ]
  },
  {
   "cell_type": "code",
   "execution_count": 313,
   "metadata": {
    "collapsed": true
   },
   "outputs": [],
   "source": [
    "reset_graph()"
   ]
  },
  {
   "cell_type": "code",
   "execution_count": 314,
   "metadata": {
    "collapsed": true
   },
   "outputs": [],
   "source": [
    "from tensorflow.examples.tutorials.mnist import input_data"
   ]
  },
  {
   "cell_type": "code",
   "execution_count": 315,
   "metadata": {},
   "outputs": [
    {
     "name": "stdout",
     "output_type": "stream",
     "text": [
      "Extracting ./data/train-images-idx3-ubyte.gz\n",
      "Extracting ./data/train-labels-idx1-ubyte.gz\n",
      "Extracting ./data/t10k-images-idx3-ubyte.gz\n",
      "Extracting ./data/t10k-labels-idx1-ubyte.gz\n"
     ]
    }
   ],
   "source": [
    "mnist = input_data.read_data_sets('./data/')"
   ]
  },
  {
   "cell_type": "code",
   "execution_count": 316,
   "metadata": {
    "collapsed": true
   },
   "outputs": [],
   "source": [
    "X_train = mnist.train.images\n",
    "X_test  = mnist.test.images\n",
    "X_valid = mnist.validation.images\n",
    "\n",
    "y_train = mnist.train.labels.astype(np.int)\n",
    "y_test  = mnist.test.labels.astype(np.int)\n",
    "y_valid = mnist.validation.labels.astype(np.int)"
   ]
  },
  {
   "cell_type": "code",
   "execution_count": 317,
   "metadata": {
    "collapsed": true
   },
   "outputs": [],
   "source": [
    "n_trains, n_attr = X_train.shape"
   ]
  },
  {
   "cell_type": "code",
   "execution_count": 318,
   "metadata": {
    "collapsed": true
   },
   "outputs": [],
   "source": [
    "n_inputs = 28 * 28\n",
    "n_classes = 10"
   ]
  },
  {
   "cell_type": "code",
   "execution_count": 319,
   "metadata": {
    "collapsed": true
   },
   "outputs": [],
   "source": [
    "num_unit_hidden_1 = 300\n",
    "num_unit_hidden_2 = 100\n",
    "learning_rate = 0.01"
   ]
  },
  {
   "cell_type": "code",
   "execution_count": 320,
   "metadata": {
    "collapsed": true
   },
   "outputs": [],
   "source": [
    "X = tf.placeholder(dtype = tf.float32, shape = (None, n_inputs), name = 'X')\n",
    "y = tf.placeholder(dtype = tf.int32, shape = (None), name = 'y')"
   ]
  },
  {
   "cell_type": "code",
   "execution_count": 321,
   "metadata": {
    "collapsed": true
   },
   "outputs": [],
   "source": [
    "with tf.name_scope('fnn'):\n",
    "    hidden_1 = tf.layers.dense(X, num_unit_hidden_1, activation = tf.nn.relu, name = 'hidden_1')\n",
    "    hidden_2 = tf.layers.dense(hidden_1, num_unit_hidden_2, activation = tf.nn.relu, name = 'hidden_2')\n",
    "    scores   = tf.layers.dense(hidden_2, n_outputs, name = 'scores')"
   ]
  },
  {
   "cell_type": "code",
   "execution_count": 322,
   "metadata": {
    "collapsed": true
   },
   "outputs": [],
   "source": [
    "with tf.name_scope('loss'):\n",
    "    cross_entropy = tf.losses.sparse_softmax_cross_entropy(y, scores)\n",
    "    loss = tf.reduce_mean(cross_entropy, name = 'loss')\n",
    "    loss_summary = tf.summary.scalar('loss_summary', loss)"
   ]
  },
  {
   "cell_type": "code",
   "execution_count": 323,
   "metadata": {
    "collapsed": true
   },
   "outputs": [],
   "source": [
    "with tf.name_scope('train'):\n",
    "    optimizer = tf.train.GradientDescentOptimizer(learning_rate = learning_rate)\n",
    "    train_obj = optimizer.minimize(loss)"
   ]
  },
  {
   "cell_type": "code",
   "execution_count": 324,
   "metadata": {
    "collapsed": true
   },
   "outputs": [],
   "source": [
    "with tf.name_scope('eval'):\n",
    "    y_pred = tf.nn.in_top_k(scores, y, 1)\n",
    "    accuracy = tf.reduce_mean(tf.cast(y_pred, tf.float32))\n",
    "    accuracy_summary = tf.summary.scalar('accuracy', accuracy)"
   ]
  },
  {
   "cell_type": "code",
   "execution_count": 325,
   "metadata": {
    "collapsed": true
   },
   "outputs": [],
   "source": [
    "init = tf.global_variables_initializer()\n",
    "saver = tf.train.Saver()"
   ]
  },
  {
   "cell_type": "code",
   "execution_count": 326,
   "metadata": {
    "collapsed": true
   },
   "outputs": [],
   "source": [
    "n_epochs = 10001\n",
    "batch_size = 50\n",
    "n_batches = int(np.ceil(n_trains / batch_size))"
   ]
  },
  {
   "cell_type": "code",
   "execution_count": 327,
   "metadata": {
    "collapsed": true
   },
   "outputs": [],
   "source": [
    "import os"
   ]
  },
  {
   "cell_type": "code",
   "execution_count": 328,
   "metadata": {
    "collapsed": true
   },
   "outputs": [],
   "source": [
    "checkpoint_path = './stored_models/fnn_temp_model.ckpt'\n",
    "checkpoint_epoch_path = checkpoint_path + '.epoch'\n",
    "finalmodel_path = './stored_models/fnn_final_model.ckpt'"
   ]
  },
  {
   "cell_type": "markdown",
   "metadata": {},
   "source": [
    "###### early stop"
   ]
  },
  {
   "cell_type": "markdown",
   "metadata": {},
   "source": [
    "For this, we are going to need a validation set. Luckily, the dataset returned by TensorFlow's input_data() function (see above) is already split into a training set (60,000 instances, already shuffled for us), a validation set (5,000 instances) and a test set (5,000 instances). So we can easily define X_valid and y_valid:"
   ]
  },
  {
   "cell_type": "code",
   "execution_count": 329,
   "metadata": {
    "collapsed": true
   },
   "outputs": [],
   "source": [
    "best_loss = np.infty"
   ]
  },
  {
   "cell_type": "code",
   "execution_count": 330,
   "metadata": {
    "collapsed": true
   },
   "outputs": [],
   "source": [
    "epochs_without_progress = 0\n",
    "max_epochs_without_progress = 50"
   ]
  },
  {
   "cell_type": "code",
   "execution_count": 331,
   "metadata": {},
   "outputs": [
    {
     "name": "stdout",
     "output_type": "stream",
     "text": [
      "Epoch: 0 \tValidation accuracy: 90.240% \tLoss: 0.35380\n",
      "Epoch: 5 \tValidation accuracy: 95.160% \tLoss: 0.17755\n",
      "Epoch: 10 \tValidation accuracy: 96.600% \tLoss: 0.12688\n",
      "Epoch: 15 \tValidation accuracy: 97.260% \tLoss: 0.10322\n",
      "Epoch: 20 \tValidation accuracy: 97.520% \tLoss: 0.09206\n",
      "Epoch: 25 \tValidation accuracy: 97.660% \tLoss: 0.08186\n",
      "Epoch: 30 \tValidation accuracy: 97.640% \tLoss: 0.07594\n",
      "Epoch: 35 \tValidation accuracy: 97.880% \tLoss: 0.07333\n",
      "Epoch: 40 \tValidation accuracy: 97.880% \tLoss: 0.07046\n",
      "Epoch: 45 \tValidation accuracy: 97.980% \tLoss: 0.06820\n",
      "Epoch: 50 \tValidation accuracy: 98.020% \tLoss: 0.06707\n",
      "Epoch: 55 \tValidation accuracy: 98.020% \tLoss: 0.06712\n",
      "Epoch: 60 \tValidation accuracy: 98.180% \tLoss: 0.06748\n",
      "Epoch: 65 \tValidation accuracy: 98.100% \tLoss: 0.06638\n",
      "Epoch: 70 \tValidation accuracy: 98.220% \tLoss: 0.06744\n",
      "Epoch: 75 \tValidation accuracy: 98.220% \tLoss: 0.06784\n",
      "Epoch: 80 \tValidation accuracy: 98.160% \tLoss: 0.06837\n",
      "Epoch: 85 \tValidation accuracy: 98.140% \tLoss: 0.06711\n",
      "Epoch: 90 \tValidation accuracy: 98.280% \tLoss: 0.06799\n",
      "Epoch: 95 \tValidation accuracy: 98.220% \tLoss: 0.06846\n",
      "Epoch: 100 \tValidation accuracy: 98.240% \tLoss: 0.06929\n",
      "Epoch: 105 \tValidation accuracy: 98.260% \tLoss: 0.06893\n",
      "Epoch: 110 \tValidation accuracy: 98.280% \tLoss: 0.07024\n",
      "early stop\n"
     ]
    }
   ],
   "source": [
    "with tf.Session() as sess:\n",
    "    \n",
    "    # 1. determine if the training process is interrupted\n",
    "    if os.path.isfile(checkpoint_path):\n",
    "        with open(checkpoint_epoch_path, 'rb') as f:\n",
    "            start_epoch = int(f.read())\n",
    "            saver.restore(sess, checkpoint_path)\n",
    "            print('The training was interrupted and continue at epoch', start_epoch)\n",
    "    else:\n",
    "    \n",
    "        # 2. initialize variables\n",
    "        start_epoch = 0     \n",
    "        sess.run(init)\n",
    "        \n",
    "    # 3. main loop over epochs within batches\n",
    "    for epoch in range(start_epoch, n_epochs):\n",
    "        for batch_idx in range(n_batches):\n",
    "            X_batch, y_batch = mnist.train.next_batch(batch_size)\n",
    "            sess.run(train_obj, feed_dict={X: X_batch, y: y_batch})\n",
    "            accuracy_valid, accuracy_summary_str, \\\n",
    "            loss_valid, loss_summary_str = sess.run([accuracy, accuracy_summary, loss, loss_summary], \\\n",
    "                                                    feed_dict={X: X_valid, y: y_valid})\n",
    "        # 4. we check the training status every 5 epochs\n",
    "        if epoch % 5 == 0:\n",
    "            #accuracy_train = accuracy.eval(feed_dict={X: X_train, y: y_train})\n",
    "            #accuracy_test  = accuracy.eval(feed_dict={X: X_test, y: y_test})\n",
    "            #print('Epoch ', epoch, 'Training accuracy ', accuracy_train, 'Test accuracy ', accuracy_test)\n",
    "            \n",
    "            print('Epoch:', epoch,\\\n",
    "                  '\\tValidation accuracy: {:.3f}%'.format(accuracy_valid * 100), \\\n",
    "                  '\\tLoss: {:.5f}'.format(loss_valid))\n",
    "            \n",
    "            saver.save(sess, checkpoint_path)\n",
    "            with open(checkpoint_epoch_path, 'wb') as f:\n",
    "                f.write(b'%d' %(epoch+1))\n",
    "    \n",
    "            # 5. if the current loss is lower than the one five iterations before, \n",
    "            # then we save the current model as the 'final' fnn\n",
    "            if loss_valid < best_loss:\n",
    "                saver.save(sess, finalmodel_path)\n",
    "                best_loss = loss_valid\n",
    "            else:\n",
    "                epochs_without_progress += 5\n",
    "                if epochs_without_progress > max_epochs_without_progress:\n",
    "                    print('early stop')\n",
    "                    os.remove(checkpoint_epoch_path)\n",
    "                    break\n",
    "    # 6 remove the temporary checkpoint model\n",
    "    os.remove(checkpoint_epoch_path)"
   ]
  },
  {
   "cell_type": "code",
   "execution_count": 332,
   "metadata": {},
   "outputs": [
    {
     "name": "stdout",
     "output_type": "stream",
     "text": [
      "INFO:tensorflow:Restoring parameters from ./stored_models/fnn_final_model.ckpt\n"
     ]
    }
   ],
   "source": [
    "with tf.Session() as sess:\n",
    "    saver.restore(sess, finalmodel_path)\n",
    "    scores_val = scores.eval(feed_dict={X: X_test})\n",
    "    class_pred = np.argmax(scores_val, axis = 1)"
   ]
  },
  {
   "cell_type": "code",
   "execution_count": 338,
   "metadata": {
    "collapsed": true
   },
   "outputs": [],
   "source": [
    "from sklearn.metrics import accuracy_score, confusion_matrix"
   ]
  },
  {
   "cell_type": "code",
   "execution_count": 336,
   "metadata": {},
   "outputs": [
    {
     "name": "stdout",
     "output_type": "stream",
     "text": [
      "accuracy: 0.9787\n"
     ]
    }
   ],
   "source": [
    "accuracy_test = accuracy_score(class_pred, y_test)\n",
    "print('accuracy:', accuracy_test)"
   ]
  },
  {
   "cell_type": "code",
   "execution_count": 339,
   "metadata": {
    "collapsed": true
   },
   "outputs": [],
   "source": [
    "conf_mat = confusion_matrix(class_pred, y_test)"
   ]
  },
  {
   "cell_type": "code",
   "execution_count": 342,
   "metadata": {
    "collapsed": true
   },
   "outputs": [],
   "source": [
    "def plot_confusion_matrix(matrix):    \n",
    "    fig = plt.figure(figsize=(12,8))\n",
    "    ax = fig.add_subplot(111)\n",
    "    cax = ax.matshow(matrix, cmap=plt.cm.gray)\n",
    "    fig.colorbar(cax)"
   ]
  },
  {
   "cell_type": "code",
   "execution_count": 343,
   "metadata": {},
   "outputs": [
    {
     "data": {
      "image/png": "[encoded data removed]",
      "text/plain": [
       "<matplotlib.figure.Figure at 0x11b19908>"
      ]
     },
     "metadata": {},
     "output_type": "display_data"
    }
   ],
   "source": [
    "plot_confusion_matrix(conf_mat)"
   ]
  },
  {
   "cell_type": "code",
   "execution_count": 344,
   "metadata": {
    "collapsed": true
   },
   "outputs": [],
   "source": [
    "# 1. get sample numbers in row-wise\n",
    "row_conf_mat_sum = conf_mat.sum(axis=1)\n",
    "\n",
    "# 2. normalize the confusion matrix by dividing row_sum to each row\n",
    "normalize_conf_mat = conf_mat / row_conf_mat_sum\n",
    "\n",
    "# 3. fill diagonal elements with zeros\n",
    "np.fill_diagonal(normalize_conf_mat, 0)"
   ]
  },
  {
   "cell_type": "code",
   "execution_count": 345,
   "metadata": {},
   "outputs": [
    {
     "data": {
      "image/png": "[encoded data removed]",
      "text/plain": [
       "<matplotlib.figure.Figure at 0x11916358>"
      ]
     },
     "metadata": {},
     "output_type": "display_data"
    }
   ],
   "source": [
    "plot_confusion_matrix(normalize_conf_mat)"
   ]
  },
  {
   "cell_type": "code",
   "execution_count": null,
   "metadata": {
    "collapsed": true
   },
   "outputs": [],
   "source": []
  },
  {
   "cell_type": "code",
   "execution_count": null,
   "metadata": {
    "collapsed": true
   },
   "outputs": [],
   "source": []
  },
  {
   "cell_type": "code",
   "execution_count": null,
   "metadata": {
    "collapsed": true
   },
   "outputs": [],
   "source": []
  },
  {
   "cell_type": "code",
   "execution_count": null,
   "metadata": {
    "collapsed": true
   },
   "outputs": [],
   "source": []
  },
  {
   "cell_type": "code",
   "execution_count": null,
   "metadata": {
    "collapsed": true
   },
   "outputs": [],
   "source": []
  },
  {
   "cell_type": "code",
   "execution_count": null,
   "metadata": {
    "collapsed": true
   },
   "outputs": [],
   "source": []
  },
  {
   "cell_type": "code",
   "execution_count": null,
   "metadata": {
    "collapsed": true
   },
   "outputs": [],
   "source": []
  },
  {
   "cell_type": "code",
   "execution_count": null,
   "metadata": {
    "collapsed": true
   },
   "outputs": [],
   "source": []
  }
 ],
 "metadata": {
  "kernelspec": {
   "display_name": "Python 3",
   "language": "python",
   "name": "python3"
  },
  "language_info": {
   "codemirror_mode": {
    "name": "ipython",
    "version": 3
   },
   "file_extension": ".py",
   "mimetype": "text/x-python",
   "name": "python",
   "nbconvert_exporter": "python",
   "pygments_lexer": "ipython3",
   "version": "3.5.2"
  }
 },
 "nbformat": 4,
 "nbformat_minor": 1
}
